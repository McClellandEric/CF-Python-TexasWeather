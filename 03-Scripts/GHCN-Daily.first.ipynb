{
 "cells": [
  {
   "cell_type": "markdown",
   "id": "d30de001-4207-42ec-adaf-f24078d9dc69",
   "metadata": {},
   "source": [
    "# Working with data from the Global Historical Climatology Network - Daily (GHCN-Daily), Version 3\n",
    "## Source:  https://www.ncei.noaa.gov/metadata/geoportal/rest/metadata/item/gov.noaa.ncdc:C00861/html"
   ]
  },
  {
   "cell_type": "markdown",
   "id": "ceead522-f85f-463f-b55d-6fa3475db3cc",
   "metadata": {
    "tags": []
   },
   "source": [
    "## Standard prerequisites.  Now with additional libraries seaborn, matplotlib, and scipy."
   ]
  },
  {
   "cell_type": "code",
   "execution_count": 1,
   "id": "2230fd6f-9cd1-4f5d-adc3-953f07e22680",
   "metadata": {
    "ExecuteTime": {
     "end_time": "2023-06-12T20:08:15.986031Z",
     "start_time": "2023-06-12T20:08:13.649526Z"
    },
    "execution": {
     "iopub.execute_input": "2023-06-20T21:12:48.291367Z",
     "iopub.status.busy": "2023-06-20T21:12:48.290987Z",
     "iopub.status.idle": "2023-06-20T21:12:50.013471Z",
     "shell.execute_reply": "2023-06-20T21:12:50.012537Z",
     "shell.execute_reply.started": "2023-06-20T21:12:48.291280Z"
    },
    "tags": []
   },
   "outputs": [],
   "source": [
    "# Import libraries\n",
    "import pandas as pd\n",
    "# I'm trying modin as a drop-in replace-- er, enhancement to pandas; supposedly it will help use more than one CPU core.\n",
    "# Nope.  I'm having too much trouble getting modin installed, so it's back to plain old Pandas for now. :-(\n",
    "# import modin.pandas as pd\n",
    "import numpy as np\n",
    "import os\n",
    "import matplotlib.pyplot as plt\n",
    "import seaborn as sns\n",
    "import scipy"
   ]
  },
  {
   "cell_type": "code",
   "execution_count": 2,
   "id": "4411cbaf-4738-42be-b1ce-c8a34e4d686b",
   "metadata": {
    "execution": {
     "iopub.execute_input": "2023-06-20T21:12:50.015246Z",
     "iopub.status.busy": "2023-06-20T21:12:50.014766Z",
     "iopub.status.idle": "2023-06-20T21:12:50.018896Z",
     "shell.execute_reply": "2023-06-20T21:12:50.018157Z",
     "shell.execute_reply.started": "2023-06-20T21:12:50.015218Z"
    },
    "tags": []
   },
   "outputs": [],
   "source": [
    "# For future reference, Exercise 6.2 introduced graphical libraries Bokeh and Plotly.\n",
    "# import bokeh\n",
    "# import plotly"
   ]
  },
  {
   "cell_type": "code",
   "execution_count": 3,
   "id": "a11e5e8f-2ea1-4545-9aa5-26232cd3c978",
   "metadata": {
    "ExecuteTime": {
     "end_time": "2023-06-12T20:08:15.992831Z",
     "start_time": "2023-06-12T20:08:15.988513Z"
    },
    "execution": {
     "iopub.execute_input": "2023-06-20T21:12:50.020518Z",
     "iopub.status.busy": "2023-06-20T21:12:50.020300Z",
     "iopub.status.idle": "2023-06-20T21:12:50.024504Z",
     "shell.execute_reply": "2023-06-20T21:12:50.023806Z",
     "shell.execute_reply.started": "2023-06-20T21:12:50.020495Z"
    }
   },
   "outputs": [],
   "source": [
    "# Starting with Exercise 4.7, import additional libraries I've discovered thanks to Lubov, especially the time library.\n",
    "import time\n",
    "import string\n",
    "import random"
   ]
  },
  {
   "cell_type": "code",
   "execution_count": 4,
   "id": "91f37672-bd29-4044-bf9b-df8888752c22",
   "metadata": {
    "ExecuteTime": {
     "end_time": "2023-06-12T20:08:15.999865Z",
     "start_time": "2023-06-12T20:08:15.996013Z"
    },
    "execution": {
     "iopub.execute_input": "2023-06-20T21:12:50.026364Z",
     "iopub.status.busy": "2023-06-20T21:12:50.026156Z",
     "iopub.status.idle": "2023-06-20T21:12:50.030308Z",
     "shell.execute_reply": "2023-06-20T21:12:50.029480Z",
     "shell.execute_reply.started": "2023-06-20T21:12:50.026340Z"
    },
    "tags": []
   },
   "outputs": [],
   "source": [
    "# Import itertools to help loop through lots of things.\n",
    "import itertools"
   ]
  },
  {
   "cell_type": "code",
   "execution_count": 5,
   "id": "39e8f3ad-8b22-4d2f-a9b7-7af43e691c20",
   "metadata": {
    "ExecuteTime": {
     "end_time": "2023-06-12T20:08:16.005997Z",
     "start_time": "2023-06-12T20:08:16.002994Z"
    },
    "execution": {
     "iopub.execute_input": "2023-06-20T21:12:50.032081Z",
     "iopub.status.busy": "2023-06-20T21:12:50.031483Z",
     "iopub.status.idle": "2023-06-20T21:12:50.036307Z",
     "shell.execute_reply": "2023-06-20T21:12:50.035546Z",
     "shell.execute_reply.started": "2023-06-20T21:12:50.032046Z"
    }
   },
   "outputs": [],
   "source": [
    "# I want to convert Date-Timestamps into UNIX Epoch time for analysis.\n",
    "from datetime import datetime"
   ]
  },
  {
   "cell_type": "code",
   "execution_count": 6,
   "id": "f017e076-ec68-4c5d-ad13-d31fee250cf0",
   "metadata": {
    "ExecuteTime": {
     "end_time": "2023-06-12T20:08:16.011947Z",
     "start_time": "2023-06-12T20:08:16.008775Z"
    },
    "execution": {
     "iopub.execute_input": "2023-06-20T21:12:50.038352Z",
     "iopub.status.busy": "2023-06-20T21:12:50.037539Z",
     "iopub.status.idle": "2023-06-20T21:12:50.044122Z",
     "shell.execute_reply": "2023-06-20T21:12:50.043217Z",
     "shell.execute_reply.started": "2023-06-20T21:12:50.038314Z"
    }
   },
   "outputs": [],
   "source": [
    "# Set a PATH variable."
   ]
  },
  {
   "cell_type": "code",
   "execution_count": 7,
   "id": "57b99536-07dc-496d-91b9-f1b0c790e9b8",
   "metadata": {
    "ExecuteTime": {
     "end_time": "2023-06-12T20:08:16.017084Z",
     "start_time": "2023-06-12T20:08:16.014098Z"
    },
    "execution": {
     "iopub.execute_input": "2023-06-20T21:12:50.046025Z",
     "iopub.status.busy": "2023-06-20T21:12:50.045527Z",
     "iopub.status.idle": "2023-06-20T21:12:50.049837Z",
     "shell.execute_reply": "2023-06-20T21:12:50.049024Z",
     "shell.execute_reply.started": "2023-06-20T21:12:50.045990Z"
    }
   },
   "outputs": [],
   "source": [
    "# Linux PATH, local - Sadly, my Linux system with 8GB of total RAM could not import the full dataset.\n",
    "# I have moved to an AWS EC2 instance that should be able to handle this."
   ]
  },
  {
   "cell_type": "code",
   "execution_count": 8,
   "id": "c8dad368-6971-45f1-a6cf-69670fc47ff3",
   "metadata": {
    "ExecuteTime": {
     "end_time": "2023-06-12T20:08:16.022791Z",
     "start_time": "2023-06-12T20:08:16.019569Z"
    },
    "execution": {
     "iopub.execute_input": "2023-06-20T21:12:50.051750Z",
     "iopub.status.busy": "2023-06-20T21:12:50.051036Z",
     "iopub.status.idle": "2023-06-20T21:12:50.057703Z",
     "shell.execute_reply": "2023-06-20T21:12:50.056876Z",
     "shell.execute_reply.started": "2023-06-20T21:12:50.051714Z"
    }
   },
   "outputs": [],
   "source": [
    "## path = (r'~/careerfoundry/tasks/data-immersion/Achievement6/Project/02-Data/Original-Data/US-Weather-Events.2016-2021/www.kaggle.com/datasets/sobhanmoosavi/us-weather-events')"
   ]
  },
  {
   "cell_type": "markdown",
   "id": "9a442f23-a890-430d-960e-d7eb487723cb",
   "metadata": {},
   "source": [
    "### # Oh, wow, matplotlib.pyplot.savefig function does not expand the tilde (~) reference in directory paths.  LAME. :("
   ]
  },
  {
   "cell_type": "code",
   "execution_count": 9,
   "id": "af0c9bbd-15be-4b8c-abea-43daddf0a681",
   "metadata": {
    "ExecuteTime": {
     "end_time": "2023-06-12T20:08:16.028756Z",
     "start_time": "2023-06-12T20:08:16.025218Z"
    },
    "execution": {
     "iopub.execute_input": "2023-06-20T21:12:50.060315Z",
     "iopub.status.busy": "2023-06-20T21:12:50.059481Z",
     "iopub.status.idle": "2023-06-20T21:12:50.067215Z",
     "shell.execute_reply": "2023-06-20T21:12:50.065904Z",
     "shell.execute_reply.started": "2023-06-20T21:12:50.060272Z"
    }
   },
   "outputs": [],
   "source": [
    "path = (r'/home/ubuntu/careerfoundry/tasks/data-immersion/Achievement6/Project/')"
   ]
  },
  {
   "cell_type": "code",
   "execution_count": 10,
   "id": "4f5dfd21-d143-46de-a237-cf77d817fe92",
   "metadata": {
    "ExecuteTime": {
     "end_time": "2023-06-12T20:08:16.036588Z",
     "start_time": "2023-06-12T20:08:16.032541Z"
    },
    "execution": {
     "iopub.execute_input": "2023-06-20T21:12:50.071885Z",
     "iopub.status.busy": "2023-06-20T21:12:50.071291Z",
     "iopub.status.idle": "2023-06-20T21:12:50.078544Z",
     "shell.execute_reply": "2023-06-20T21:12:50.077844Z",
     "shell.execute_reply.started": "2023-06-20T21:12:50.071854Z"
    }
   },
   "outputs": [],
   "source": [
    "# windoze PATH - The windoze laptop I bought for Excel and Tableau also has 16GB of RAM."
   ]
  },
  {
   "cell_type": "code",
   "execution_count": 11,
   "id": "0266eca6-65c7-4acf-acdb-3b833baa30e7",
   "metadata": {
    "ExecuteTime": {
     "end_time": "2023-06-12T20:08:16.045467Z",
     "start_time": "2023-06-12T20:08:16.042321Z"
    },
    "execution": {
     "iopub.execute_input": "2023-06-20T21:12:50.080736Z",
     "iopub.status.busy": "2023-06-20T21:12:50.079774Z",
     "iopub.status.idle": "2023-06-20T21:12:50.085200Z",
     "shell.execute_reply": "2023-06-20T21:12:50.084405Z",
     "shell.execute_reply.started": "2023-06-20T21:12:50.080692Z"
    },
    "tags": []
   },
   "outputs": [],
   "source": [
    "## path = (r'C:\\Users\\emccc\\OneDrive\\Documents\\CareerFoundry\\Achievement-4\\Instacart-Basket-Analysis')"
   ]
  },
  {
   "cell_type": "code",
   "execution_count": 2,
   "id": "4f47c9f6-3a1a-4889-90b6-bb218d7817b9",
   "metadata": {
    "execution": {
     "iopub.execute_input": "2023-06-20T21:23:36.037083Z",
     "iopub.status.busy": "2023-06-20T21:23:36.036715Z",
     "iopub.status.idle": "2023-06-20T21:23:36.160327Z",
     "shell.execute_reply": "2023-06-20T21:23:36.159429Z",
     "shell.execute_reply.started": "2023-06-20T21:23:36.037047Z"
    },
    "tags": []
   },
   "outputs": [
    {
     "name": "stdout",
     "output_type": "stream",
     "text": [
      "home\n"
     ]
    }
   ],
   "source": [
    "!pwd | awk -F/ '{print $2}'"
   ]
  }
 ],
 "metadata": {
  "kernelspec": {
   "display_name": "Python 3 (ipykernel)",
   "language": "python",
   "name": "python3"
  },
  "language_info": {
   "codemirror_mode": {
    "name": "ipython",
    "version": 3
   },
   "file_extension": ".py",
   "mimetype": "text/x-python",
   "name": "python",
   "nbconvert_exporter": "python",
   "pygments_lexer": "ipython3",
   "version": "3.9.12"
  }
 },
 "nbformat": 4,
 "nbformat_minor": 5
}
