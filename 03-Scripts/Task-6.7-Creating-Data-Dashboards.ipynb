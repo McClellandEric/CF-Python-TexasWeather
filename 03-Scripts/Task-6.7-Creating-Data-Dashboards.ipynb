{
 "cells": [
  {
   "cell_type": "markdown",
   "id": "44c7174e-553c-47a1-8b58-ae2cef4d7f6e",
   "metadata": {
    "execution": {
     "iopub.execute_input": "2023-06-24T00:43:58.175749Z",
     "iopub.status.busy": "2023-06-24T00:43:58.175403Z",
     "iopub.status.idle": "2023-06-24T00:43:58.180395Z",
     "shell.execute_reply": "2023-06-24T00:43:58.179728Z",
     "shell.execute_reply.started": "2023-06-24T00:43:58.175712Z"
    },
    "tags": []
   },
   "source": [
    "# Task 6.7 Creating Data Dashboards"
   ]
  },
  {
   "cell_type": "code",
   "execution_count": 1,
   "id": "bed3b2ff-fd3d-4d02-84af-9d4e5f7b27f0",
   "metadata": {
    "ExecuteTime": {
     "end_time": "2023-06-12T20:08:15.986031Z",
     "start_time": "2023-06-12T20:08:13.649526Z"
    },
    "execution": {
     "iopub.execute_input": "2023-07-03T02:35:35.599661Z",
     "iopub.status.busy": "2023-07-03T02:35:35.598643Z",
     "iopub.status.idle": "2023-07-03T02:35:37.292480Z",
     "shell.execute_reply": "2023-07-03T02:35:37.291365Z",
     "shell.execute_reply.started": "2023-07-03T02:35:35.599548Z"
    },
    "tags": []
   },
   "outputs": [],
   "source": [
    "# Import libraries\n",
    "import pandas as pd\n",
    "# I'm trying modin as a drop-in replace-- er, enhancement to pandas; supposedly it will help use more than one CPU core.\n",
    "# Nope.  I'm having too much trouble getting modin installed, so it's back to plain old Pandas for now. :-(\n",
    "# import modin.pandas as pd\n",
    "import numpy as np\n",
    "import os\n",
    "import matplotlib.pyplot as plt\n",
    "import seaborn as sns\n",
    "import scipy"
   ]
  },
  {
   "cell_type": "code",
   "execution_count": 2,
   "id": "15d5926e-5b7e-43a8-9b4b-449a7c4581c2",
   "metadata": {
    "execution": {
     "iopub.execute_input": "2023-07-03T02:35:37.294665Z",
     "iopub.status.busy": "2023-07-03T02:35:37.294202Z",
     "iopub.status.idle": "2023-07-03T02:35:37.427965Z",
     "shell.execute_reply": "2023-07-03T02:35:37.427385Z",
     "shell.execute_reply.started": "2023-07-03T02:35:37.294627Z"
    },
    "tags": []
   },
   "outputs": [],
   "source": [
    "# Import Quandl library for Task 6.6.\n",
    "import quandl"
   ]
  },
  {
   "cell_type": "code",
   "execution_count": 3,
   "id": "39bca9c8-d7f8-468e-a82e-113d644aae27",
   "metadata": {
    "execution": {
     "iopub.execute_input": "2023-07-03T02:35:37.429675Z",
     "iopub.status.busy": "2023-07-03T02:35:37.429218Z",
     "iopub.status.idle": "2023-07-03T02:35:38.138306Z",
     "shell.execute_reply": "2023-07-03T02:35:38.137759Z",
     "shell.execute_reply.started": "2023-07-03T02:35:37.429641Z"
    },
    "tags": []
   },
   "outputs": [],
   "source": [
    "# Import additional things that are suggested/required for Task 6.6.\n",
    "\n",
    "# TO-DO:  Learn why (or if) it makes sense to import both a library and individual library modules separately.\n",
    "import matplotlib\n",
    "\n",
    "# Using .api imports the public access version of statsmodels, which is a library that handles statistical models.\n",
    "import statsmodels.api as sm\n",
    "\n",
    "import warnings # This is a library that handles warnings.\n",
    "\n",
    "# Disable deprecation warnings that could indicate, for instance, a suspended library or \n",
    "# feature. \"These are more relevant to developers and very seldom to analysts.\" [Really?]\n",
    "warnings.filterwarnings(\"ignore\")\n",
    "\n",
    "# This is a styling option for how your plots will appear. More examples here:\n",
    "# https://matplotlib.org/3.2.1/tutorials/introductory/customizing.html\n",
    "# https://matplotlib.org/3.1.0/gallery/style_sheets/fivethirtyeight.html\n",
    "plt.style.use('fivethirtyeight')"
   ]
  },
  {
   "cell_type": "code",
   "execution_count": 4,
   "id": "9774d1e9-c99d-4941-8333-3f9e65c1703c",
   "metadata": {
    "execution": {
     "iopub.execute_input": "2023-07-03T02:35:38.141013Z",
     "iopub.status.busy": "2023-07-03T02:35:38.140497Z",
     "iopub.status.idle": "2023-07-03T02:35:38.192578Z",
     "shell.execute_reply": "2023-07-03T02:35:38.192031Z",
     "shell.execute_reply.started": "2023-07-03T02:35:38.140976Z"
    },
    "tags": []
   },
   "outputs": [],
   "source": [
    "# Import scikit-learn library and select modules for Task 6.4 (see more imports for Task 6.5, next).\n",
    "import sklearn\n",
    "from sklearn.model_selection import train_test_split \n",
    "from sklearn.linear_model import LinearRegression\n",
    "from sklearn.metrics import mean_squared_error, r2_score"
   ]
  },
  {
   "cell_type": "code",
   "execution_count": 5,
   "id": "6d3f6280-71d1-4e08-853f-fdd95e008f48",
   "metadata": {
    "execution": {
     "iopub.execute_input": "2023-07-03T02:35:38.194348Z",
     "iopub.status.busy": "2023-07-03T02:35:38.193838Z",
     "iopub.status.idle": "2023-07-03T02:35:38.234012Z",
     "shell.execute_reply": "2023-07-03T02:35:38.233174Z",
     "shell.execute_reply.started": "2023-07-03T02:35:38.194309Z"
    }
   },
   "outputs": [],
   "source": [
    "# Import additional modules 'KMeans' and 'pylab' - from the libraries 'scikit-learn' and 'matplotlib', respectively - for Task 6.5\n",
    "from sklearn.cluster import KMeans # Here is where you import the k-means algorithm from scikit-learn.\n",
    "import pylab as pl # PyLab is a convenience module that bulk imports matplotlib.\n",
    "# (Note to self:  learn more about Python imports, particularly why we don't say, \"import matplotlib.pylab as pl\" or \"from matplotlib import pylab ...\")"
   ]
  },
  {
   "cell_type": "code",
   "execution_count": 6,
   "id": "f51a02ba-a329-4604-a97a-1b6d77f13ec2",
   "metadata": {
    "execution": {
     "iopub.execute_input": "2023-07-03T02:35:38.235986Z",
     "iopub.status.busy": "2023-07-03T02:35:38.235586Z",
     "iopub.status.idle": "2023-07-03T02:35:38.540434Z",
     "shell.execute_reply": "2023-07-03T02:35:38.539590Z",
     "shell.execute_reply.started": "2023-07-03T02:35:38.235960Z"
    },
    "tags": []
   },
   "outputs": [],
   "source": [
    "# Import folium and JSON libraries for Task 6.3.\n",
    "import folium\n",
    "import json "
   ]
  },
  {
   "cell_type": "code",
   "execution_count": 7,
   "id": "30cd1872-842b-4f0e-b344-5b00d68a25e9",
   "metadata": {
    "execution": {
     "iopub.execute_input": "2023-07-03T02:35:38.541616Z",
     "iopub.status.busy": "2023-07-03T02:35:38.541361Z",
     "iopub.status.idle": "2023-07-03T02:35:38.545094Z",
     "shell.execute_reply": "2023-07-03T02:35:38.544519Z",
     "shell.execute_reply.started": "2023-07-03T02:35:38.541591Z"
    },
    "tags": []
   },
   "outputs": [],
   "source": [
    "# For future reference, Exercise 6.2 introduced graphical libraries Bokeh and Plotly.\n",
    "# import bokeh\n",
    "# import plotly"
   ]
  },
  {
   "cell_type": "code",
   "execution_count": 8,
   "id": "7c86ae4c-ea91-4627-8dfc-440de6ba9af7",
   "metadata": {
    "ExecuteTime": {
     "end_time": "2023-06-12T20:08:15.992831Z",
     "start_time": "2023-06-12T20:08:15.988513Z"
    },
    "execution": {
     "iopub.execute_input": "2023-07-03T02:35:38.546514Z",
     "iopub.status.busy": "2023-07-03T02:35:38.546097Z",
     "iopub.status.idle": "2023-07-03T02:35:38.552140Z",
     "shell.execute_reply": "2023-07-03T02:35:38.551190Z",
     "shell.execute_reply.started": "2023-07-03T02:35:38.546488Z"
    }
   },
   "outputs": [],
   "source": [
    "# Starting with Exercise 4.7, import additional libraries I've discovered thanks to Lubov, especially the time library.\n",
    "import time\n",
    "import string\n",
    "import random"
   ]
  },
  {
   "cell_type": "code",
   "execution_count": 9,
   "id": "c8b7cbea-73d2-4ce7-800d-5611a964c606",
   "metadata": {
    "ExecuteTime": {
     "end_time": "2023-06-12T20:08:15.999865Z",
     "start_time": "2023-06-12T20:08:15.996013Z"
    },
    "execution": {
     "iopub.execute_input": "2023-07-03T02:35:38.553334Z",
     "iopub.status.busy": "2023-07-03T02:35:38.553092Z",
     "iopub.status.idle": "2023-07-03T02:35:38.557954Z",
     "shell.execute_reply": "2023-07-03T02:35:38.557120Z",
     "shell.execute_reply.started": "2023-07-03T02:35:38.553309Z"
    },
    "tags": []
   },
   "outputs": [],
   "source": [
    "# Import itertools to help loop through lots of things.\n",
    "import itertools"
   ]
  },
  {
   "cell_type": "code",
   "execution_count": 10,
   "id": "2285ca5f-33de-44b2-a063-f2ef9e39d83a",
   "metadata": {
    "ExecuteTime": {
     "end_time": "2023-06-12T20:08:16.005997Z",
     "start_time": "2023-06-12T20:08:16.002994Z"
    },
    "execution": {
     "iopub.execute_input": "2023-07-03T02:35:38.561282Z",
     "iopub.status.busy": "2023-07-03T02:35:38.560621Z",
     "iopub.status.idle": "2023-07-03T02:35:38.564442Z",
     "shell.execute_reply": "2023-07-03T02:35:38.563859Z",
     "shell.execute_reply.started": "2023-07-03T02:35:38.561253Z"
    }
   },
   "outputs": [],
   "source": [
    "# I want to convert Date-Timestamps into UNIX Epoch time for analysis.\n",
    "from datetime import datetime"
   ]
  },
  {
   "cell_type": "code",
   "execution_count": 11,
   "id": "a55fc753-f512-4317-aa08-6407a71a040b",
   "metadata": {
    "ExecuteTime": {
     "end_time": "2023-06-12T20:08:16.011947Z",
     "start_time": "2023-06-12T20:08:16.008775Z"
    },
    "execution": {
     "iopub.execute_input": "2023-07-03T02:35:38.565929Z",
     "iopub.status.busy": "2023-07-03T02:35:38.565566Z",
     "iopub.status.idle": "2023-07-03T02:35:38.570443Z",
     "shell.execute_reply": "2023-07-03T02:35:38.569706Z",
     "shell.execute_reply.started": "2023-07-03T02:35:38.565904Z"
    }
   },
   "outputs": [],
   "source": [
    "# Set a PATH variable."
   ]
  },
  {
   "cell_type": "code",
   "execution_count": 12,
   "id": "e230a26e-f42a-4a9a-8d82-ed090ef195fb",
   "metadata": {
    "ExecuteTime": {
     "end_time": "2023-06-12T20:08:16.017084Z",
     "start_time": "2023-06-12T20:08:16.014098Z"
    },
    "execution": {
     "iopub.execute_input": "2023-07-03T02:35:38.571770Z",
     "iopub.status.busy": "2023-07-03T02:35:38.571546Z",
     "iopub.status.idle": "2023-07-03T02:35:38.576312Z",
     "shell.execute_reply": "2023-07-03T02:35:38.575395Z",
     "shell.execute_reply.started": "2023-07-03T02:35:38.571746Z"
    }
   },
   "outputs": [],
   "source": [
    "# Linux PATH, local - Sadly, my Linux system with 8GB of total RAM could not import the full dataset.\n",
    "# I have moved to an AWS EC2 instance that should be able to handle this."
   ]
  },
  {
   "cell_type": "code",
   "execution_count": 13,
   "id": "fd9d523a-a62e-42dc-aaaa-1805092cc23b",
   "metadata": {
    "ExecuteTime": {
     "end_time": "2023-06-12T20:08:16.022791Z",
     "start_time": "2023-06-12T20:08:16.019569Z"
    },
    "execution": {
     "iopub.execute_input": "2023-07-03T02:35:38.577958Z",
     "iopub.status.busy": "2023-07-03T02:35:38.577731Z",
     "iopub.status.idle": "2023-07-03T02:35:38.582124Z",
     "shell.execute_reply": "2023-07-03T02:35:38.581061Z",
     "shell.execute_reply.started": "2023-07-03T02:35:38.577934Z"
    }
   },
   "outputs": [],
   "source": [
    "## path = (r'~/careerfoundry/tasks/data-immersion/Achievement6/Project/02-Data/Original-Data/US-Weather-Events.2016-2021/www.kaggle.com/datasets/sobhanmoosavi/us-weather-events')"
   ]
  },
  {
   "cell_type": "markdown",
   "id": "932f1507-28ca-4829-8bcb-5dea1ff77ac8",
   "metadata": {},
   "source": [
    "### # Oh, wow, matplotlib.pyplot.savefig function does not expand the tilde (~) reference in directory paths.  LAME. :("
   ]
  },
  {
   "cell_type": "code",
   "execution_count": 14,
   "id": "6649e43a-5f86-451c-bc09-25f23793dcec",
   "metadata": {
    "ExecuteTime": {
     "end_time": "2023-06-12T20:08:16.028756Z",
     "start_time": "2023-06-12T20:08:16.025218Z"
    },
    "execution": {
     "iopub.execute_input": "2023-07-03T02:35:38.583362Z",
     "iopub.status.busy": "2023-07-03T02:35:38.583147Z",
     "iopub.status.idle": "2023-07-03T02:35:38.587822Z",
     "shell.execute_reply": "2023-07-03T02:35:38.586814Z",
     "shell.execute_reply.started": "2023-07-03T02:35:38.583338Z"
    }
   },
   "outputs": [],
   "source": [
    "path = (r'/home/ubuntu/careerfoundry/tasks/data-immersion/Achievement6/Project/')"
   ]
  },
  {
   "cell_type": "code",
   "execution_count": 15,
   "id": "12cdda00-cc5c-4e79-a0e9-34d4237c63f5",
   "metadata": {
    "ExecuteTime": {
     "end_time": "2023-06-12T20:08:16.036588Z",
     "start_time": "2023-06-12T20:08:16.032541Z"
    },
    "execution": {
     "iopub.execute_input": "2023-07-03T02:35:38.589631Z",
     "iopub.status.busy": "2023-07-03T02:35:38.589148Z",
     "iopub.status.idle": "2023-07-03T02:35:38.595285Z",
     "shell.execute_reply": "2023-07-03T02:35:38.594292Z",
     "shell.execute_reply.started": "2023-07-03T02:35:38.589594Z"
    }
   },
   "outputs": [],
   "source": [
    "# windoze PATH - The windoze laptop I bought for Excel and Tableau also has 16GB of RAM."
   ]
  },
  {
   "cell_type": "code",
   "execution_count": 16,
   "id": "1da45c73-9c2f-4f24-bb71-d8b1c1cf4b96",
   "metadata": {
    "ExecuteTime": {
     "end_time": "2023-06-12T20:08:16.045467Z",
     "start_time": "2023-06-12T20:08:16.042321Z"
    },
    "execution": {
     "iopub.execute_input": "2023-07-03T02:35:38.597282Z",
     "iopub.status.busy": "2023-07-03T02:35:38.596717Z",
     "iopub.status.idle": "2023-07-03T02:35:38.601584Z",
     "shell.execute_reply": "2023-07-03T02:35:38.600589Z",
     "shell.execute_reply.started": "2023-07-03T02:35:38.597243Z"
    },
    "tags": []
   },
   "outputs": [],
   "source": [
    "## path = (r'C:\\Users\\emccc\\OneDrive\\Documents\\CareerFoundry\\Achievement-4\\Instacart-Basket-Analysis')"
   ]
  },
  {
   "cell_type": "code",
   "execution_count": 17,
   "id": "01db7df1-9acb-4cef-a013-ccb76936fd64",
   "metadata": {
    "execution": {
     "iopub.execute_input": "2023-07-03T02:35:38.603413Z",
     "iopub.status.busy": "2023-07-03T02:35:38.602995Z",
     "iopub.status.idle": "2023-07-03T02:35:38.609847Z",
     "shell.execute_reply": "2023-07-03T02:35:38.609001Z",
     "shell.execute_reply.started": "2023-07-03T02:35:38.603381Z"
    },
    "tags": []
   },
   "outputs": [],
   "source": [
    "# This command propts matplotlib visuals to appear in the notebook.\n",
    "# This option ensures that the graphs you create are displayed within the notebook without the need to \"call\" them specifically.\n",
    "\n",
    "%matplotlib inline"
   ]
  },
  {
   "cell_type": "markdown",
   "id": "8014b649-67a2-41b9-b1e3-1227da80b1e1",
   "metadata": {},
   "source": [
    "## Load and check our updated dataframe for Texas weather from Task 6.3."
   ]
  },
  {
   "cell_type": "code",
   "execution_count": 18,
   "id": "7efcf712-f8f0-4b45-8a1b-a1a2e8169c2a",
   "metadata": {
    "execution": {
     "iopub.execute_input": "2023-07-03T02:35:38.611386Z",
     "iopub.status.busy": "2023-07-03T02:35:38.610796Z",
     "iopub.status.idle": "2023-07-03T02:35:38.991102Z",
     "shell.execute_reply": "2023-07-03T02:35:38.990331Z",
     "shell.execute_reply.started": "2023-07-03T02:35:38.611357Z"
    },
    "tags": []
   },
   "outputs": [],
   "source": [
    "df = pd.read_pickle(os.path.join(path, '02-Data','Prepared-Data', 'df_texas.Task-6.3.pkl'))"
   ]
  },
  {
   "cell_type": "code",
   "execution_count": 19,
   "id": "768aece9-f91f-4129-a1a6-63155111cd1e",
   "metadata": {
    "execution": {
     "iopub.execute_input": "2023-07-03T02:35:38.992431Z",
     "iopub.status.busy": "2023-07-03T02:35:38.992228Z",
     "iopub.status.idle": "2023-07-03T02:35:39.000306Z",
     "shell.execute_reply": "2023-07-03T02:35:38.999710Z",
     "shell.execute_reply.started": "2023-07-03T02:35:38.992408Z"
    },
    "tags": []
   },
   "outputs": [
    {
     "data": {
      "text/plain": [
       "(515813, 34)"
      ]
     },
     "execution_count": 19,
     "metadata": {},
     "output_type": "execute_result"
    }
   ],
   "source": [
    "df.shape"
   ]
  },
  {
   "cell_type": "code",
   "execution_count": 20,
   "id": "480cab10-23f4-4064-a6ad-959334a8c6b1",
   "metadata": {
    "execution": {
     "iopub.execute_input": "2023-07-03T02:35:39.001751Z",
     "iopub.status.busy": "2023-07-03T02:35:39.001308Z",
     "iopub.status.idle": "2023-07-03T02:35:39.008920Z",
     "shell.execute_reply": "2023-07-03T02:35:39.008154Z",
     "shell.execute_reply.started": "2023-07-03T02:35:39.001720Z"
    },
    "tags": []
   },
   "outputs": [
    {
     "data": {
      "text/plain": [
       "Index(['EventId', 'Type', 'Severity', 'StartTime(UTC)', 'EndTime(UTC)',\n",
       "       'Precipitation(in)', 'TimeZone', 'AirportCode', 'LocationLat',\n",
       "       'LocationLng', 'County', 'State', 'StartTime(Epoch)', 'EndTime(Epoch)',\n",
       "       'Duration(seconds)', 'Duration(hours)',\n",
       "       'PrecipitationRate(inches/hour)', 'Disbelievable', 'Region',\n",
       "       'StartYear', 'StartYear-Month', 'Snow(in)', 'Rain(in)', 'StartMonth',\n",
       "       'Rain-sum-AC-SY-M', 'Rain-sum-AC-SY', 'Snow-sum-AC-SY-M',\n",
       "       'Snow-sum-AC-SY', 'CO-Num-AC', 'Rain-sumavg-CO-SY-M',\n",
       "       'Rain-sumavg-CO-SY', 'Snow-sumavg-CO-SY-M', 'Snow-sumavg-CO-SY',\n",
       "       'GeoJSONCounty'],\n",
       "      dtype='object')"
      ]
     },
     "execution_count": 20,
     "metadata": {},
     "output_type": "execute_result"
    }
   ],
   "source": [
    "df.columns"
   ]
  },
  {
   "cell_type": "markdown",
   "id": "e23ac17a-1a76-4774-81ae-93e16cdffbc2",
   "metadata": {},
   "source": [
    "## Our data has already been cleaned, wrangled, and sanity-checked in previous Tasks."
   ]
  },
  {
   "cell_type": "markdown",
   "id": "ca58a50f-7489-4c04-99ae-fce545c79f37",
   "metadata": {},
   "source": [
    "# Save current dataframe to a CSV file for import - possibly via Excel - into Tableau."
   ]
  },
  {
   "cell_type": "code",
   "execution_count": 21,
   "id": "7211eca8-d788-42f0-b59a-b53f9d5567bf",
   "metadata": {
    "execution": {
     "iopub.execute_input": "2023-07-03T02:35:39.011668Z",
     "iopub.status.busy": "2023-07-03T02:35:39.010427Z",
     "iopub.status.idle": "2023-07-03T02:35:50.871921Z",
     "shell.execute_reply": "2023-07-03T02:35:50.871361Z",
     "shell.execute_reply.started": "2023-07-03T02:35:39.011621Z"
    },
    "tags": []
   },
   "outputs": [],
   "source": [
    "df.to_csv(os.path.join(path, '02-Data','Prepared-Data', 'df_texas.Task-6.3.csv'))"
   ]
  },
  {
   "cell_type": "markdown",
   "id": "9d31d576-b4c4-41ca-b902-ee44dabd06ee",
   "metadata": {},
   "source": [
    "# Tableau on windoze seems to choke on this much data.  We should whittle it down."
   ]
  },
  {
   "cell_type": "code",
   "execution_count": 22,
   "id": "bfe0c49c-46f3-440d-8058-5bb64978e31a",
   "metadata": {
    "execution": {
     "iopub.execute_input": "2023-07-03T02:35:50.873647Z",
     "iopub.status.busy": "2023-07-03T02:35:50.872962Z",
     "iopub.status.idle": "2023-07-03T02:35:50.879775Z",
     "shell.execute_reply": "2023-07-03T02:35:50.878834Z",
     "shell.execute_reply.started": "2023-07-03T02:35:50.873614Z"
    },
    "tags": []
   },
   "outputs": [
    {
     "data": {
      "text/plain": [
       "(515813, 34)"
      ]
     },
     "execution_count": 22,
     "metadata": {},
     "output_type": "execute_result"
    }
   ],
   "source": [
    "df.shape"
   ]
  },
  {
   "cell_type": "code",
   "execution_count": 23,
   "id": "23eb2593-32cd-4b4e-8b3a-c562aeb4a2b3",
   "metadata": {
    "execution": {
     "iopub.execute_input": "2023-07-03T02:35:50.881498Z",
     "iopub.status.busy": "2023-07-03T02:35:50.881115Z",
     "iopub.status.idle": "2023-07-03T02:35:50.906165Z",
     "shell.execute_reply": "2023-07-03T02:35:50.905630Z",
     "shell.execute_reply.started": "2023-07-03T02:35:50.881472Z"
    },
    "tags": []
   },
   "outputs": [],
   "source": [
    "df_tableau = df[['LocationLat', \\\n",
    "       'LocationLng', 'StartTime(Epoch)', 'StartYear', 'StartYear-Month', 'StartMonth', 'Rain-sumavg-CO-SY-M', \\\n",
    "       'Rain-sumavg-CO-SY', 'Snow-sumavg-CO-SY-M', 'Snow-sumavg-CO-SY', \\\n",
    "       'GeoJSONCounty']]"
   ]
  },
  {
   "cell_type": "code",
   "execution_count": 24,
   "id": "ff10dd0d-8f39-4b55-acbb-9fd70a66a28c",
   "metadata": {
    "execution": {
     "iopub.execute_input": "2023-07-03T02:35:50.907708Z",
     "iopub.status.busy": "2023-07-03T02:35:50.907294Z",
     "iopub.status.idle": "2023-07-03T02:35:50.912103Z",
     "shell.execute_reply": "2023-07-03T02:35:50.911598Z",
     "shell.execute_reply.started": "2023-07-03T02:35:50.907681Z"
    },
    "tags": []
   },
   "outputs": [
    {
     "data": {
      "text/plain": [
       "(515813, 11)"
      ]
     },
     "execution_count": 24,
     "metadata": {},
     "output_type": "execute_result"
    }
   ],
   "source": [
    "df_tableau.shape"
   ]
  },
  {
   "cell_type": "code",
   "execution_count": 25,
   "id": "dd67ee86-3af5-4e86-9c32-019424af75cc",
   "metadata": {
    "execution": {
     "iopub.execute_input": "2023-07-03T02:35:50.913679Z",
     "iopub.status.busy": "2023-07-03T02:35:50.912978Z",
     "iopub.status.idle": "2023-07-03T02:35:52.644198Z",
     "shell.execute_reply": "2023-07-03T02:35:52.643508Z",
     "shell.execute_reply.started": "2023-07-03T02:35:50.913650Z"
    },
    "tags": []
   },
   "outputs": [
    {
     "name": "stdout",
     "output_type": "stream",
     "text": [
      "<class 'pandas.core.frame.DataFrame'>\n",
      "Int64Index: 515813 entries, 136752 to 7364022\n",
      "Data columns (total 34 columns):\n",
      " #   Column                          Non-Null Count   Dtype         \n",
      "---  ------                          --------------   -----         \n",
      " 0   EventId                         515813 non-null  object        \n",
      " 1   Type                            515813 non-null  object        \n",
      " 2   Severity                        515813 non-null  object        \n",
      " 3   StartTime(UTC)                  515813 non-null  datetime64[ns]\n",
      " 4   EndTime(UTC)                    515813 non-null  object        \n",
      " 5   Precipitation(in)               515813 non-null  float64       \n",
      " 6   TimeZone                        515813 non-null  object        \n",
      " 7   AirportCode                     515813 non-null  object        \n",
      " 8   LocationLat                     515813 non-null  float64       \n",
      " 9   LocationLng                     515813 non-null  float64       \n",
      " 10  County                          515813 non-null  object        \n",
      " 11  State                           515813 non-null  object        \n",
      " 12  StartTime(Epoch)                515813 non-null  int64         \n",
      " 13  EndTime(Epoch)                  515813 non-null  int64         \n",
      " 14  Duration(seconds)               515813 non-null  int64         \n",
      " 15  Duration(hours)                 515813 non-null  float64       \n",
      " 16  PrecipitationRate(inches/hour)  515813 non-null  float64       \n",
      " 17  Disbelievable                   515813 non-null  object        \n",
      " 18  Region                          515813 non-null  object        \n",
      " 19  StartYear                       515813 non-null  int64         \n",
      " 20  StartYear-Month                 515813 non-null  int64         \n",
      " 21  Snow(in)                        515813 non-null  float64       \n",
      " 22  Rain(in)                        515813 non-null  float64       \n",
      " 23  StartMonth                      515813 non-null  int64         \n",
      " 24  Rain-sum-AC-SY-M                515813 non-null  float64       \n",
      " 25  Rain-sum-AC-SY                  515813 non-null  float64       \n",
      " 26  Snow-sum-AC-SY-M                515813 non-null  float64       \n",
      " 27  Snow-sum-AC-SY                  515813 non-null  float64       \n",
      " 28  CO-Num-AC                       515813 non-null  int64         \n",
      " 29  Rain-sumavg-CO-SY-M             515813 non-null  float64       \n",
      " 30  Rain-sumavg-CO-SY               515813 non-null  float64       \n",
      " 31  Snow-sumavg-CO-SY-M             515813 non-null  float64       \n",
      " 32  Snow-sumavg-CO-SY               515813 non-null  float64       \n",
      " 33  GeoJSONCounty                   515813 non-null  object        \n",
      "dtypes: datetime64[ns](1), float64(15), int64(7), object(11)\n",
      "memory usage: 443.4 MB\n"
     ]
    }
   ],
   "source": [
    "df.info(memory_usage = 'deep')"
   ]
  },
  {
   "cell_type": "code",
   "execution_count": 26,
   "id": "f698db87-c723-455a-896b-1c38c266627e",
   "metadata": {
    "execution": {
     "iopub.execute_input": "2023-07-03T02:35:52.645501Z",
     "iopub.status.busy": "2023-07-03T02:35:52.645129Z",
     "iopub.status.idle": "2023-07-03T02:35:52.830772Z",
     "shell.execute_reply": "2023-07-03T02:35:52.830039Z",
     "shell.execute_reply.started": "2023-07-03T02:35:52.645478Z"
    },
    "tags": []
   },
   "outputs": [
    {
     "name": "stdout",
     "output_type": "stream",
     "text": [
      "<class 'pandas.core.frame.DataFrame'>\n",
      "Int64Index: 515813 entries, 136752 to 7364022\n",
      "Data columns (total 11 columns):\n",
      " #   Column               Non-Null Count   Dtype  \n",
      "---  ------               --------------   -----  \n",
      " 0   LocationLat          515813 non-null  float64\n",
      " 1   LocationLng          515813 non-null  float64\n",
      " 2   StartTime(Epoch)     515813 non-null  int64  \n",
      " 3   StartYear            515813 non-null  int64  \n",
      " 4   StartYear-Month      515813 non-null  int64  \n",
      " 5   StartMonth           515813 non-null  int64  \n",
      " 6   Rain-sumavg-CO-SY-M  515813 non-null  float64\n",
      " 7   Rain-sumavg-CO-SY    515813 non-null  float64\n",
      " 8   Snow-sumavg-CO-SY-M  515813 non-null  float64\n",
      " 9   Snow-sumavg-CO-SY    515813 non-null  float64\n",
      " 10  GeoJSONCounty        515813 non-null  object \n",
      "dtypes: float64(6), int64(4), object(1)\n",
      "memory usage: 78.1 MB\n"
     ]
    }
   ],
   "source": [
    "df_tableau.info(memory_usage = 'deep')"
   ]
  },
  {
   "cell_type": "code",
   "execution_count": 27,
   "id": "65f3f578-9673-4196-9b8f-2d50967ca7a4",
   "metadata": {
    "execution": {
     "iopub.execute_input": "2023-07-03T02:35:52.832609Z",
     "iopub.status.busy": "2023-07-03T02:35:52.832244Z",
     "iopub.status.idle": "2023-07-03T02:35:52.836409Z",
     "shell.execute_reply": "2023-07-03T02:35:52.835724Z",
     "shell.execute_reply.started": "2023-07-03T02:35:52.832572Z"
    },
    "tags": []
   },
   "outputs": [],
   "source": [
    "# Good, we've reduced the memory footprint by 82%."
   ]
  },
  {
   "cell_type": "code",
   "execution_count": 28,
   "id": "7d474182-3d7e-41c8-a8eb-b52ac2c5944a",
   "metadata": {
    "execution": {
     "iopub.execute_input": "2023-07-03T02:35:52.840642Z",
     "iopub.status.busy": "2023-07-03T02:35:52.839996Z",
     "iopub.status.idle": "2023-07-03T02:35:52.844706Z",
     "shell.execute_reply": "2023-07-03T02:35:52.843624Z",
     "shell.execute_reply.started": "2023-07-03T02:35:52.840615Z"
    },
    "tags": []
   },
   "outputs": [],
   "source": [
    "# Rename the 'GeoJSONCounty' column to match the field used in the GeoJSON file.\n",
    "# I think this will make it easier for Tableau to connect the CSV and GeoJSON files."
   ]
  },
  {
   "cell_type": "code",
   "execution_count": 29,
   "id": "689b1153-5d4d-4265-b371-d5dec1d3bb14",
   "metadata": {
    "execution": {
     "iopub.execute_input": "2023-07-03T02:35:52.846047Z",
     "iopub.status.busy": "2023-07-03T02:35:52.845831Z",
     "iopub.status.idle": "2023-07-03T02:35:53.080416Z",
     "shell.execute_reply": "2023-07-03T02:35:53.079683Z",
     "shell.execute_reply.started": "2023-07-03T02:35:52.846023Z"
    },
    "tags": []
   },
   "outputs": [],
   "source": [
    "df_tableau.rename(columns = {'GeoJSONCounty' : 'NAMELSADCO'}, inplace = True)"
   ]
  },
  {
   "cell_type": "code",
   "execution_count": 30,
   "id": "4dc444b1-58af-4104-ba03-01976f606ba4",
   "metadata": {
    "execution": {
     "iopub.execute_input": "2023-07-03T02:35:53.081586Z",
     "iopub.status.busy": "2023-07-03T02:35:53.081349Z",
     "iopub.status.idle": "2023-07-03T02:35:53.100973Z",
     "shell.execute_reply": "2023-07-03T02:35:53.100130Z",
     "shell.execute_reply.started": "2023-07-03T02:35:53.081554Z"
    },
    "tags": []
   },
   "outputs": [
    {
     "data": {
      "text/html": [
       "<div>\n",
       "<style scoped>\n",
       "    .dataframe tbody tr th:only-of-type {\n",
       "        vertical-align: middle;\n",
       "    }\n",
       "\n",
       "    .dataframe tbody tr th {\n",
       "        vertical-align: top;\n",
       "    }\n",
       "\n",
       "    .dataframe thead th {\n",
       "        text-align: right;\n",
       "    }\n",
       "</style>\n",
       "<table border=\"1\" class=\"dataframe\">\n",
       "  <thead>\n",
       "    <tr style=\"text-align: right;\">\n",
       "      <th></th>\n",
       "      <th>LocationLat</th>\n",
       "      <th>LocationLng</th>\n",
       "      <th>StartTime(Epoch)</th>\n",
       "      <th>StartYear</th>\n",
       "      <th>StartYear-Month</th>\n",
       "      <th>StartMonth</th>\n",
       "      <th>Rain-sumavg-CO-SY-M</th>\n",
       "      <th>Rain-sumavg-CO-SY</th>\n",
       "      <th>Snow-sumavg-CO-SY-M</th>\n",
       "      <th>Snow-sumavg-CO-SY</th>\n",
       "      <th>NAMELSADCO</th>\n",
       "    </tr>\n",
       "  </thead>\n",
       "  <tbody>\n",
       "    <tr>\n",
       "      <th>136752</th>\n",
       "      <td>31.8111</td>\n",
       "      <td>-106.3758</td>\n",
       "      <td>1451997600</td>\n",
       "      <td>2016</td>\n",
       "      <td>201601</td>\n",
       "      <td>1</td>\n",
       "      <td>0.25</td>\n",
       "      <td>10.565</td>\n",
       "      <td>0.0</td>\n",
       "      <td>0.055</td>\n",
       "      <td>El Paso County</td>\n",
       "    </tr>\n",
       "    <tr>\n",
       "      <th>136753</th>\n",
       "      <td>31.8111</td>\n",
       "      <td>-106.3758</td>\n",
       "      <td>1452019500</td>\n",
       "      <td>2016</td>\n",
       "      <td>201601</td>\n",
       "      <td>1</td>\n",
       "      <td>0.25</td>\n",
       "      <td>10.565</td>\n",
       "      <td>0.0</td>\n",
       "      <td>0.055</td>\n",
       "      <td>El Paso County</td>\n",
       "    </tr>\n",
       "    <tr>\n",
       "      <th>136754</th>\n",
       "      <td>31.8111</td>\n",
       "      <td>-106.3758</td>\n",
       "      <td>1452085800</td>\n",
       "      <td>2016</td>\n",
       "      <td>201601</td>\n",
       "      <td>1</td>\n",
       "      <td>0.25</td>\n",
       "      <td>10.565</td>\n",
       "      <td>0.0</td>\n",
       "      <td>0.055</td>\n",
       "      <td>El Paso County</td>\n",
       "    </tr>\n",
       "    <tr>\n",
       "      <th>136755</th>\n",
       "      <td>31.8111</td>\n",
       "      <td>-106.3758</td>\n",
       "      <td>1452093900</td>\n",
       "      <td>2016</td>\n",
       "      <td>201601</td>\n",
       "      <td>1</td>\n",
       "      <td>0.25</td>\n",
       "      <td>10.565</td>\n",
       "      <td>0.0</td>\n",
       "      <td>0.055</td>\n",
       "      <td>El Paso County</td>\n",
       "    </tr>\n",
       "    <tr>\n",
       "      <th>136756</th>\n",
       "      <td>31.8111</td>\n",
       "      <td>-106.3758</td>\n",
       "      <td>1452095040</td>\n",
       "      <td>2016</td>\n",
       "      <td>201601</td>\n",
       "      <td>1</td>\n",
       "      <td>0.25</td>\n",
       "      <td>10.565</td>\n",
       "      <td>0.0</td>\n",
       "      <td>0.055</td>\n",
       "      <td>El Paso County</td>\n",
       "    </tr>\n",
       "  </tbody>\n",
       "</table>\n",
       "</div>"
      ],
      "text/plain": [
       "        LocationLat  LocationLng  StartTime(Epoch)  StartYear  \\\n",
       "136752      31.8111    -106.3758        1451997600       2016   \n",
       "136753      31.8111    -106.3758        1452019500       2016   \n",
       "136754      31.8111    -106.3758        1452085800       2016   \n",
       "136755      31.8111    -106.3758        1452093900       2016   \n",
       "136756      31.8111    -106.3758        1452095040       2016   \n",
       "\n",
       "        StartYear-Month  StartMonth  Rain-sumavg-CO-SY-M  Rain-sumavg-CO-SY  \\\n",
       "136752           201601           1                 0.25             10.565   \n",
       "136753           201601           1                 0.25             10.565   \n",
       "136754           201601           1                 0.25             10.565   \n",
       "136755           201601           1                 0.25             10.565   \n",
       "136756           201601           1                 0.25             10.565   \n",
       "\n",
       "        Snow-sumavg-CO-SY-M  Snow-sumavg-CO-SY      NAMELSADCO  \n",
       "136752                  0.0              0.055  El Paso County  \n",
       "136753                  0.0              0.055  El Paso County  \n",
       "136754                  0.0              0.055  El Paso County  \n",
       "136755                  0.0              0.055  El Paso County  \n",
       "136756                  0.0              0.055  El Paso County  "
      ]
     },
     "execution_count": 30,
     "metadata": {},
     "output_type": "execute_result"
    }
   ],
   "source": [
    "df_tableau.head()"
   ]
  },
  {
   "cell_type": "markdown",
   "id": "c35f0fc6-dd78-44d0-a567-fd54ba888538",
   "metadata": {},
   "source": [
    "# Save smaller dataframe to a CSV file for import - possibly via Excel - into Tableau."
   ]
  },
  {
   "cell_type": "code",
   "execution_count": 31,
   "id": "e3b3fca2-bd83-4625-92d1-71f6e54f50db",
   "metadata": {
    "execution": {
     "iopub.execute_input": "2023-07-03T02:35:53.102316Z",
     "iopub.status.busy": "2023-07-03T02:35:53.102107Z",
     "iopub.status.idle": "2023-07-03T02:35:57.366464Z",
     "shell.execute_reply": "2023-07-03T02:35:57.365776Z",
     "shell.execute_reply.started": "2023-07-03T02:35:53.102293Z"
    },
    "tags": []
   },
   "outputs": [],
   "source": [
    "df_tableau.to_csv(os.path.join(path, '02-Data','Prepared-Data', 'df_texas_tableau.Task-6.7.csv'))"
   ]
  },
  {
   "cell_type": "markdown",
   "id": "23ddecf6-4bd7-4107-a859-67713d13d632",
   "metadata": {},
   "source": [
    "## Load and check our k-means dataframe from Task 6.5.  We want Tableau to make some scatterplots from it."
   ]
  },
  {
   "cell_type": "code",
   "execution_count": 35,
   "id": "18cfaee4-f64d-42c9-8517-c6b81cd4fe55",
   "metadata": {
    "execution": {
     "iopub.execute_input": "2023-07-03T02:36:39.446042Z",
     "iopub.status.busy": "2023-07-03T02:36:39.445799Z",
     "iopub.status.idle": "2023-07-03T02:36:39.529458Z",
     "shell.execute_reply": "2023-07-03T02:36:39.528635Z",
     "shell.execute_reply.started": "2023-07-03T02:36:39.446019Z"
    },
    "tags": []
   },
   "outputs": [],
   "source": [
    "df_k_means = pd.read_pickle(os.path.join(path, '02-Data','Prepared-Data', 'df_k_means.Task-6.5.pkl'))"
   ]
  },
  {
   "cell_type": "code",
   "execution_count": 36,
   "id": "a0ee8837-cba5-4e1b-81f8-d106fd727958",
   "metadata": {
    "execution": {
     "iopub.execute_input": "2023-07-03T02:36:39.531275Z",
     "iopub.status.busy": "2023-07-03T02:36:39.531002Z",
     "iopub.status.idle": "2023-07-03T02:36:39.537418Z",
     "shell.execute_reply": "2023-07-03T02:36:39.536144Z",
     "shell.execute_reply.started": "2023-07-03T02:36:39.531249Z"
    },
    "tags": []
   },
   "outputs": [
    {
     "data": {
      "text/plain": [
       "(515813, 8)"
      ]
     },
     "execution_count": 36,
     "metadata": {},
     "output_type": "execute_result"
    }
   ],
   "source": [
    "df_k_means.shape"
   ]
  },
  {
   "cell_type": "code",
   "execution_count": 37,
   "id": "78d68d3d-3679-4e69-83e8-1f961f2f3364",
   "metadata": {
    "execution": {
     "iopub.execute_input": "2023-07-03T02:36:39.539069Z",
     "iopub.status.busy": "2023-07-03T02:36:39.538849Z",
     "iopub.status.idle": "2023-07-03T02:36:39.547547Z",
     "shell.execute_reply": "2023-07-03T02:36:39.546711Z",
     "shell.execute_reply.started": "2023-07-03T02:36:39.539046Z"
    },
    "tags": []
   },
   "outputs": [
    {
     "data": {
      "text/plain": [
       "Index(['LocationLat', 'LocationLng', 'StartTime(Epoch)', 'EndTime(Epoch)',\n",
       "       'Rain-sumavg-CO-SY', 'Snow-sumavg-CO-SY', 'clusters-3', 'cluster'],\n",
       "      dtype='object')"
      ]
     },
     "execution_count": 37,
     "metadata": {},
     "output_type": "execute_result"
    }
   ],
   "source": [
    "df_k_means.columns"
   ]
  },
  {
   "cell_type": "code",
   "execution_count": 38,
   "id": "3adb76dc-86fe-4bea-aac7-b2eba9b81c2a",
   "metadata": {
    "execution": {
     "iopub.execute_input": "2023-07-03T02:38:44.738678Z",
     "iopub.status.busy": "2023-07-03T02:38:44.738420Z",
     "iopub.status.idle": "2023-07-03T02:38:44.909940Z",
     "shell.execute_reply": "2023-07-03T02:38:44.909060Z",
     "shell.execute_reply.started": "2023-07-03T02:38:44.738654Z"
    },
    "tags": []
   },
   "outputs": [
    {
     "name": "stdout",
     "output_type": "stream",
     "text": [
      "<class 'pandas.core.frame.DataFrame'>\n",
      "Int64Index: 515813 entries, 136752 to 7364022\n",
      "Data columns (total 8 columns):\n",
      " #   Column             Non-Null Count   Dtype  \n",
      "---  ------             --------------   -----  \n",
      " 0   LocationLat        515813 non-null  float64\n",
      " 1   LocationLng        515813 non-null  float64\n",
      " 2   StartTime(Epoch)   515813 non-null  float64\n",
      " 3   EndTime(Epoch)     515813 non-null  float64\n",
      " 4   Rain-sumavg-CO-SY  515813 non-null  float64\n",
      " 5   Snow-sumavg-CO-SY  515813 non-null  float64\n",
      " 6   clusters-3         515813 non-null  int32  \n",
      " 7   cluster            515813 non-null  object \n",
      "dtypes: float64(6), int32(1), object(1)\n",
      "memory usage: 61.4 MB\n"
     ]
    }
   ],
   "source": [
    "df_k_means.info(memory_usage = 'deep')"
   ]
  },
  {
   "cell_type": "markdown",
   "id": "e2a3a2e1-882d-4f61-a79c-b147779b2604",
   "metadata": {},
   "source": [
    "## Save df_k_means to a .CSV file for Tableau to use."
   ]
  },
  {
   "cell_type": "code",
   "execution_count": 39,
   "id": "696d6d04-e3c4-4a7e-95e0-d4414f9120d4",
   "metadata": {
    "execution": {
     "iopub.execute_input": "2023-07-03T02:40:14.263378Z",
     "iopub.status.busy": "2023-07-03T02:40:14.263126Z",
     "iopub.status.idle": "2023-07-03T02:40:19.778431Z",
     "shell.execute_reply": "2023-07-03T02:40:19.777677Z",
     "shell.execute_reply.started": "2023-07-03T02:40:14.263355Z"
    },
    "tags": []
   },
   "outputs": [],
   "source": [
    "df_k_means.to_csv(os.path.join(path, '02-Data','Prepared-Data', 'df_k_means.Task-6.7.csv'))"
   ]
  }
 ],
 "metadata": {
  "kernelspec": {
   "display_name": "Python 3 (ipykernel)",
   "language": "python",
   "name": "python3"
  },
  "language_info": {
   "codemirror_mode": {
    "name": "ipython",
    "version": 3
   },
   "file_extension": ".py",
   "mimetype": "text/x-python",
   "name": "python",
   "nbconvert_exporter": "python",
   "pygments_lexer": "ipython3",
   "version": "3.9.12"
  }
 },
 "nbformat": 4,
 "nbformat_minor": 5
}
