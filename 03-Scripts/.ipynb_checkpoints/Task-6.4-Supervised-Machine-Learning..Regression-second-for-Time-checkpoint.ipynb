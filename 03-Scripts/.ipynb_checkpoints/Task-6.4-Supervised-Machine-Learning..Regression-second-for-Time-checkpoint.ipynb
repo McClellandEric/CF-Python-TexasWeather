{
 "cells": [
  {
   "cell_type": "markdown",
   "id": "803ccc3f-7b2e-452b-9727-d5ef53f26deb",
   "metadata": {
    "execution": {
     "iopub.execute_input": "2023-06-24T00:43:58.175749Z",
     "iopub.status.busy": "2023-06-24T00:43:58.175403Z",
     "iopub.status.idle": "2023-06-24T00:43:58.180395Z",
     "shell.execute_reply": "2023-06-24T00:43:58.179728Z",
     "shell.execute_reply.started": "2023-06-24T00:43:58.175712Z"
    },
    "tags": []
   },
   "source": [
    "# Task 6.4 Supervised Machine Learning:  Regression"
   ]
  },
  {
   "cell_type": "markdown",
   "id": "53749b93-c01e-4c4c-b91b-632e87a24310",
   "metadata": {
    "tags": []
   },
   "source": [
    "### Contents\n",
    "TBD"
   ]
  },
  {
   "cell_type": "markdown",
   "id": "a190bba6-d805-4c1e-b182-7131e6912dc9",
   "metadata": {
    "tags": []
   },
   "source": [
    "## Standard prerequisites.  Now with additional library 'scikit-learn' - and modules therefrom - as of Exercise/Task 6.4."
   ]
  },
  {
   "cell_type": "code",
   "execution_count": 1,
   "id": "5ce9bcce-830c-4a5a-a264-eceda3098d09",
   "metadata": {
    "ExecuteTime": {
     "end_time": "2023-06-12T20:08:15.986031Z",
     "start_time": "2023-06-12T20:08:13.649526Z"
    },
    "execution": {
     "iopub.execute_input": "2023-07-01T23:50:39.787231Z",
     "iopub.status.busy": "2023-07-01T23:50:39.786960Z",
     "iopub.status.idle": "2023-07-01T23:50:41.972112Z",
     "shell.execute_reply": "2023-07-01T23:50:41.971348Z",
     "shell.execute_reply.started": "2023-07-01T23:50:39.787160Z"
    },
    "tags": []
   },
   "outputs": [],
   "source": [
    "# Import libraries\n",
    "import pandas as pd\n",
    "# I'm trying modin as a drop-in replace-- er, enhancement to pandas; supposedly it will help use more than one CPU core.\n",
    "# Nope.  I'm having too much trouble getting modin installed, so it's back to plain old Pandas for now. :-(\n",
    "# import modin.pandas as pd\n",
    "import numpy as np\n",
    "import os\n",
    "import matplotlib.pyplot as plt\n",
    "import seaborn as sns\n",
    "import scipy"
   ]
  },
  {
   "cell_type": "code",
   "execution_count": 2,
   "id": "2175f1e5-d698-4918-856d-3f910cdc49d8",
   "metadata": {
    "execution": {
     "iopub.execute_input": "2023-07-01T23:50:41.974326Z",
     "iopub.status.busy": "2023-07-01T23:50:41.973772Z",
     "iopub.status.idle": "2023-07-01T23:50:42.190672Z",
     "shell.execute_reply": "2023-07-01T23:50:42.189947Z",
     "shell.execute_reply.started": "2023-07-01T23:50:41.974289Z"
    },
    "tags": []
   },
   "outputs": [],
   "source": [
    "# Import scikit-learn library and select modules for Task 6.4.\n",
    "import sklearn\n",
    "from sklearn.model_selection import train_test_split \n",
    "from sklearn.linear_model import LinearRegression\n",
    "from sklearn.metrics import mean_squared_error, r2_score"
   ]
  },
  {
   "cell_type": "code",
   "execution_count": 3,
   "id": "28a57031-4fae-4456-9960-06ca0e40a97d",
   "metadata": {
    "execution": {
     "iopub.execute_input": "2023-07-01T23:50:42.192147Z",
     "iopub.status.busy": "2023-07-01T23:50:42.191568Z",
     "iopub.status.idle": "2023-07-01T23:50:42.502753Z",
     "shell.execute_reply": "2023-07-01T23:50:42.501675Z",
     "shell.execute_reply.started": "2023-07-01T23:50:42.192121Z"
    },
    "tags": []
   },
   "outputs": [],
   "source": [
    "# Import folium and JSON libraries for Task 6.3.\n",
    "import folium\n",
    "import json "
   ]
  },
  {
   "cell_type": "code",
   "execution_count": 4,
   "id": "af3859ab-66e3-4dee-b054-6b84d1035b7e",
   "metadata": {
    "execution": {
     "iopub.execute_input": "2023-07-01T23:50:42.504780Z",
     "iopub.status.busy": "2023-07-01T23:50:42.504548Z",
     "iopub.status.idle": "2023-07-01T23:50:42.509565Z",
     "shell.execute_reply": "2023-07-01T23:50:42.508700Z",
     "shell.execute_reply.started": "2023-07-01T23:50:42.504756Z"
    },
    "tags": []
   },
   "outputs": [],
   "source": [
    "# For future reference, Exercise 6.2 introduced graphical libraries Bokeh and Plotly.\n",
    "# import bokeh\n",
    "# import plotly"
   ]
  },
  {
   "cell_type": "code",
   "execution_count": 5,
   "id": "84b552e3-5167-4274-be24-95c2feec980f",
   "metadata": {
    "ExecuteTime": {
     "end_time": "2023-06-12T20:08:15.992831Z",
     "start_time": "2023-06-12T20:08:15.988513Z"
    },
    "execution": {
     "iopub.execute_input": "2023-07-01T23:50:42.511185Z",
     "iopub.status.busy": "2023-07-01T23:50:42.510866Z",
     "iopub.status.idle": "2023-07-01T23:50:42.515674Z",
     "shell.execute_reply": "2023-07-01T23:50:42.514817Z",
     "shell.execute_reply.started": "2023-07-01T23:50:42.511146Z"
    }
   },
   "outputs": [],
   "source": [
    "# Starting with Exercise 4.7, import additional libraries I've discovered thanks to Lubov, especially the time library.\n",
    "import time\n",
    "import string\n",
    "import random"
   ]
  },
  {
   "cell_type": "code",
   "execution_count": 6,
   "id": "e7301ff7-3a27-41de-94cb-e41d23098870",
   "metadata": {
    "ExecuteTime": {
     "end_time": "2023-06-12T20:08:15.999865Z",
     "start_time": "2023-06-12T20:08:15.996013Z"
    },
    "execution": {
     "iopub.execute_input": "2023-07-01T23:50:42.517740Z",
     "iopub.status.busy": "2023-07-01T23:50:42.517226Z",
     "iopub.status.idle": "2023-07-01T23:50:42.522934Z",
     "shell.execute_reply": "2023-07-01T23:50:42.522085Z",
     "shell.execute_reply.started": "2023-07-01T23:50:42.517696Z"
    },
    "tags": []
   },
   "outputs": [],
   "source": [
    "# Import itertools to help loop through lots of things.\n",
    "import itertools"
   ]
  },
  {
   "cell_type": "code",
   "execution_count": 7,
   "id": "12e5a1a3-818e-41cd-bbae-9b02e22acb2b",
   "metadata": {
    "ExecuteTime": {
     "end_time": "2023-06-12T20:08:16.005997Z",
     "start_time": "2023-06-12T20:08:16.002994Z"
    },
    "execution": {
     "iopub.execute_input": "2023-07-01T23:50:42.525143Z",
     "iopub.status.busy": "2023-07-01T23:50:42.524359Z",
     "iopub.status.idle": "2023-07-01T23:50:42.529036Z",
     "shell.execute_reply": "2023-07-01T23:50:42.528157Z",
     "shell.execute_reply.started": "2023-07-01T23:50:42.525104Z"
    }
   },
   "outputs": [],
   "source": [
    "# I want to convert Date-Timestamps into UNIX Epoch time for analysis.\n",
    "from datetime import datetime"
   ]
  },
  {
   "cell_type": "code",
   "execution_count": 8,
   "id": "bd9cbf1e-875a-48c4-94cc-33c99487018c",
   "metadata": {
    "ExecuteTime": {
     "end_time": "2023-06-12T20:08:16.011947Z",
     "start_time": "2023-06-12T20:08:16.008775Z"
    },
    "execution": {
     "iopub.execute_input": "2023-07-01T23:50:42.531602Z",
     "iopub.status.busy": "2023-07-01T23:50:42.530383Z",
     "iopub.status.idle": "2023-07-01T23:50:42.534842Z",
     "shell.execute_reply": "2023-07-01T23:50:42.534266Z",
     "shell.execute_reply.started": "2023-07-01T23:50:42.531555Z"
    }
   },
   "outputs": [],
   "source": [
    "# Set a PATH variable."
   ]
  },
  {
   "cell_type": "code",
   "execution_count": 9,
   "id": "747ab22b-1601-46c2-bb46-ba196c4284c3",
   "metadata": {
    "ExecuteTime": {
     "end_time": "2023-06-12T20:08:16.017084Z",
     "start_time": "2023-06-12T20:08:16.014098Z"
    },
    "execution": {
     "iopub.execute_input": "2023-07-01T23:50:42.536276Z",
     "iopub.status.busy": "2023-07-01T23:50:42.535905Z",
     "iopub.status.idle": "2023-07-01T23:50:42.541470Z",
     "shell.execute_reply": "2023-07-01T23:50:42.540072Z",
     "shell.execute_reply.started": "2023-07-01T23:50:42.536239Z"
    }
   },
   "outputs": [],
   "source": [
    "# Linux PATH, local - Sadly, my Linux system with 8GB of total RAM could not import the full dataset.\n",
    "# I have moved to an AWS EC2 instance that should be able to handle this."
   ]
  },
  {
   "cell_type": "code",
   "execution_count": 10,
   "id": "f69532c2-fb98-4e11-9a7c-82cf5707adc8",
   "metadata": {
    "ExecuteTime": {
     "end_time": "2023-06-12T20:08:16.022791Z",
     "start_time": "2023-06-12T20:08:16.019569Z"
    },
    "execution": {
     "iopub.execute_input": "2023-07-01T23:50:42.545688Z",
     "iopub.status.busy": "2023-07-01T23:50:42.544683Z",
     "iopub.status.idle": "2023-07-01T23:50:42.549389Z",
     "shell.execute_reply": "2023-07-01T23:50:42.548323Z",
     "shell.execute_reply.started": "2023-07-01T23:50:42.545634Z"
    }
   },
   "outputs": [],
   "source": [
    "## path = (r'~/careerfoundry/tasks/data-immersion/Achievement6/Project/02-Data/Original-Data/US-Weather-Events.2016-2021/www.kaggle.com/datasets/sobhanmoosavi/us-weather-events')"
   ]
  },
  {
   "cell_type": "markdown",
   "id": "8d779489-4f66-4d39-9f4e-73e806972e71",
   "metadata": {},
   "source": [
    "### # Oh, wow, matplotlib.pyplot.savefig function does not expand the tilde (~) reference in directory paths.  LAME. :("
   ]
  },
  {
   "cell_type": "code",
   "execution_count": 11,
   "id": "e16a327d-0af0-479a-bbfb-21dc8d461150",
   "metadata": {
    "ExecuteTime": {
     "end_time": "2023-06-12T20:08:16.028756Z",
     "start_time": "2023-06-12T20:08:16.025218Z"
    },
    "execution": {
     "iopub.execute_input": "2023-07-01T23:50:42.551606Z",
     "iopub.status.busy": "2023-07-01T23:50:42.550905Z",
     "iopub.status.idle": "2023-07-01T23:50:42.556044Z",
     "shell.execute_reply": "2023-07-01T23:50:42.555079Z",
     "shell.execute_reply.started": "2023-07-01T23:50:42.551567Z"
    }
   },
   "outputs": [],
   "source": [
    "path = (r'/home/ubuntu/careerfoundry/tasks/data-immersion/Achievement6/Project/')"
   ]
  },
  {
   "cell_type": "code",
   "execution_count": 12,
   "id": "8d2fb307-a4a5-467f-be4b-9c29f50be0f6",
   "metadata": {
    "ExecuteTime": {
     "end_time": "2023-06-12T20:08:16.036588Z",
     "start_time": "2023-06-12T20:08:16.032541Z"
    },
    "execution": {
     "iopub.execute_input": "2023-07-01T23:50:42.557660Z",
     "iopub.status.busy": "2023-07-01T23:50:42.557363Z",
     "iopub.status.idle": "2023-07-01T23:50:42.562376Z",
     "shell.execute_reply": "2023-07-01T23:50:42.561364Z",
     "shell.execute_reply.started": "2023-07-01T23:50:42.557624Z"
    }
   },
   "outputs": [],
   "source": [
    "# windoze PATH - The windoze laptop I bought for Excel and Tableau also has 16GB of RAM."
   ]
  },
  {
   "cell_type": "code",
   "execution_count": 13,
   "id": "4123f7b3-838e-4b4b-a034-a919bfa24e66",
   "metadata": {
    "ExecuteTime": {
     "end_time": "2023-06-12T20:08:16.045467Z",
     "start_time": "2023-06-12T20:08:16.042321Z"
    },
    "execution": {
     "iopub.execute_input": "2023-07-01T23:50:42.564464Z",
     "iopub.status.busy": "2023-07-01T23:50:42.563744Z",
     "iopub.status.idle": "2023-07-01T23:50:42.567863Z",
     "shell.execute_reply": "2023-07-01T23:50:42.567138Z",
     "shell.execute_reply.started": "2023-07-01T23:50:42.564430Z"
    },
    "tags": []
   },
   "outputs": [],
   "source": [
    "## path = (r'C:\\Users\\emccc\\OneDrive\\Documents\\CareerFoundry\\Achievement-4\\Instacart-Basket-Analysis')"
   ]
  },
  {
   "cell_type": "code",
   "execution_count": 14,
   "id": "c8dce26b-c3ce-4d0a-bfea-70751e5b63c0",
   "metadata": {
    "execution": {
     "iopub.execute_input": "2023-07-01T23:50:42.569706Z",
     "iopub.status.busy": "2023-07-01T23:50:42.569224Z",
     "iopub.status.idle": "2023-07-01T23:50:42.576152Z",
     "shell.execute_reply": "2023-07-01T23:50:42.575043Z",
     "shell.execute_reply.started": "2023-07-01T23:50:42.569668Z"
    },
    "tags": []
   },
   "outputs": [],
   "source": [
    "# This command propts matplotlib visuals to appear in the notebook \n",
    "# This option ensures that the graphs you create are displayed within the notebook without the need to \"call\" them specifically.\n",
    "\n",
    "%matplotlib inline"
   ]
  },
  {
   "cell_type": "markdown",
   "id": "804d86c1-a7eb-434b-ba0f-642a5e41e830",
   "metadata": {},
   "source": [
    "## Load and check our updated dataframe for Texas weather from Task 6.3."
   ]
  },
  {
   "cell_type": "code",
   "execution_count": 15,
   "id": "89c4aa19-83f7-4c3d-9673-65ffd1c04651",
   "metadata": {
    "execution": {
     "iopub.execute_input": "2023-07-01T23:50:42.578312Z",
     "iopub.status.busy": "2023-07-01T23:50:42.577680Z",
     "iopub.status.idle": "2023-07-01T23:50:43.355146Z",
     "shell.execute_reply": "2023-07-01T23:50:43.353772Z",
     "shell.execute_reply.started": "2023-07-01T23:50:42.578275Z"
    },
    "tags": []
   },
   "outputs": [],
   "source": [
    "df = pd.read_pickle(os.path.join(path, '02-Data','Prepared-Data', 'df_texas.Task-6.3.pkl'))"
   ]
  },
  {
   "cell_type": "code",
   "execution_count": 16,
   "id": "fc2d41e2-815e-40f3-9f0e-7df23afc32e6",
   "metadata": {
    "execution": {
     "iopub.execute_input": "2023-07-01T23:50:43.356404Z",
     "iopub.status.busy": "2023-07-01T23:50:43.356193Z",
     "iopub.status.idle": "2023-07-01T23:50:43.363832Z",
     "shell.execute_reply": "2023-07-01T23:50:43.363081Z",
     "shell.execute_reply.started": "2023-07-01T23:50:43.356380Z"
    },
    "tags": []
   },
   "outputs": [
    {
     "data": {
      "text/plain": [
       "(515813, 34)"
      ]
     },
     "execution_count": 16,
     "metadata": {},
     "output_type": "execute_result"
    }
   ],
   "source": [
    "df.shape"
   ]
  },
  {
   "cell_type": "code",
   "execution_count": 17,
   "id": "c611e016-0cb2-4b92-bf5d-9e1a2d2bf239",
   "metadata": {
    "execution": {
     "iopub.execute_input": "2023-07-01T23:50:43.365818Z",
     "iopub.status.busy": "2023-07-01T23:50:43.365165Z",
     "iopub.status.idle": "2023-07-01T23:50:43.372463Z",
     "shell.execute_reply": "2023-07-01T23:50:43.371377Z",
     "shell.execute_reply.started": "2023-07-01T23:50:43.365783Z"
    },
    "tags": []
   },
   "outputs": [
    {
     "data": {
      "text/plain": [
       "Index(['EventId', 'Type', 'Severity', 'StartTime(UTC)', 'EndTime(UTC)',\n",
       "       'Precipitation(in)', 'TimeZone', 'AirportCode', 'LocationLat',\n",
       "       'LocationLng', 'County', 'State', 'StartTime(Epoch)', 'EndTime(Epoch)',\n",
       "       'Duration(seconds)', 'Duration(hours)',\n",
       "       'PrecipitationRate(inches/hour)', 'Disbelievable', 'Region',\n",
       "       'StartYear', 'StartYear-Month', 'Snow(in)', 'Rain(in)', 'StartMonth',\n",
       "       'Rain-sum-AC-SY-M', 'Rain-sum-AC-SY', 'Snow-sum-AC-SY-M',\n",
       "       'Snow-sum-AC-SY', 'CO-Num-AC', 'Rain-sumavg-CO-SY-M',\n",
       "       'Rain-sumavg-CO-SY', 'Snow-sumavg-CO-SY-M', 'Snow-sumavg-CO-SY',\n",
       "       'GeoJSONCounty'],\n",
       "      dtype='object')"
      ]
     },
     "execution_count": 17,
     "metadata": {},
     "output_type": "execute_result"
    }
   ],
   "source": [
    "df.columns"
   ]
  },
  {
   "cell_type": "markdown",
   "id": "ae48c8b8-9b67-4490-aac0-9f1ac2d61134",
   "metadata": {},
   "source": [
    "## Our data has already been cleaned, wrangled, and sanity-checked in previous Tasks."
   ]
  },
  {
   "cell_type": "markdown",
   "id": "2da9e56e-f7fc-4c8a-be35-3f26cfdb9d6a",
   "metadata": {},
   "source": [
    "# Hypothesis:  Areas further to the east (i.e. increased longitude) will see higher annual rainfall totals."
   ]
  },
  {
   "cell_type": "markdown",
   "id": "6d7174bc-f9ea-41b3-9528-2aed3e8658c6",
   "metadata": {
    "tags": []
   },
   "source": [
    "## Data Preparation for Regression Analysis:  Longitude ('LocationLng') vs. Airport Yearly Rainfall Totals ('Rain-sum-AC-SY')"
   ]
  },
  {
   "cell_type": "code",
   "execution_count": 18,
   "id": "ae4a31f7-6d8b-41d5-9f51-1ec3090ee408",
   "metadata": {
    "execution": {
     "iopub.execute_input": "2023-07-01T23:50:43.375347Z",
     "iopub.status.busy": "2023-07-01T23:50:43.374344Z",
     "iopub.status.idle": "2023-07-01T23:50:45.639962Z",
     "shell.execute_reply": "2023-07-01T23:50:45.639112Z",
     "shell.execute_reply.started": "2023-07-01T23:50:43.375271Z"
    },
    "tags": []
   },
   "outputs": [
    {
     "data": {
      "image/png": "[encoded data removed]",
      "text/plain": [
       "<Figure size 432x288 with 1 Axes>"
      ]
     },
     "metadata": {
      "needs_background": "light"
     },
     "output_type": "display_data"
    }
   ],
   "source": [
    "# Create a scatterplot using matplotlib for another look at how the chosen variables plot against each other.\n",
    "df.plot(x = 'LocationLng', y='Rain-sum-AC-SY',style='o') # The style option creates a scatterplot; without it, we only have lines.\n",
    "plt.title('Longitude vs. Airport Yearly Rainfall Totals')  \n",
    "plt.xlabel('LocationLng')  \n",
    "plt.ylabel('Rain-sum-AC-SY')  \n",
    "plt.show()"
   ]
  },
  {
   "cell_type": "code",
   "execution_count": 19,
   "id": "7fe765ff-dec1-4151-bb29-6489cc239849",
   "metadata": {
    "execution": {
     "iopub.execute_input": "2023-07-01T23:50:45.641195Z",
     "iopub.status.busy": "2023-07-01T23:50:45.640966Z",
     "iopub.status.idle": "2023-07-01T23:50:45.646304Z",
     "shell.execute_reply": "2023-07-01T23:50:45.645445Z",
     "shell.execute_reply.started": "2023-07-01T23:50:45.641169Z"
    },
    "tags": []
   },
   "outputs": [],
   "source": [
    "# Reshape the variables into NumPy arrays and put them into separate objects.\n",
    "\n",
    "X = df['LocationLng'].values.reshape(-1,1)\n",
    "y = df['Rain-sum-AC-SY'].values.reshape(-1,1)"
   ]
  },
  {
   "cell_type": "code",
   "execution_count": 20,
   "id": "f399f887-e602-4997-836d-33a7830912f3",
   "metadata": {
    "execution": {
     "iopub.execute_input": "2023-07-01T23:50:45.647616Z",
     "iopub.status.busy": "2023-07-01T23:50:45.647355Z",
     "iopub.status.idle": "2023-07-01T23:50:45.653985Z",
     "shell.execute_reply": "2023-07-01T23:50:45.653178Z",
     "shell.execute_reply.started": "2023-07-01T23:50:45.647585Z"
    },
    "tags": []
   },
   "outputs": [
    {
     "data": {
      "text/plain": [
       "array([[-106.3758],\n",
       "       [-106.3758],\n",
       "       [-106.3758],\n",
       "       ...,\n",
       "       [-100.019 ],\n",
       "       [-100.019 ],\n",
       "       [-100.019 ]])"
      ]
     },
     "execution_count": 20,
     "metadata": {},
     "output_type": "execute_result"
    }
   ],
   "source": [
    "X"
   ]
  },
  {
   "cell_type": "code",
   "execution_count": 21,
   "id": "68d90c97-eb39-4b96-b9b4-5cf0e7f9a23a",
   "metadata": {
    "execution": {
     "iopub.execute_input": "2023-07-01T23:50:45.655857Z",
     "iopub.status.busy": "2023-07-01T23:50:45.655056Z",
     "iopub.status.idle": "2023-07-01T23:50:45.662730Z",
     "shell.execute_reply": "2023-07-01T23:50:45.662218Z",
     "shell.execute_reply.started": "2023-07-01T23:50:45.655811Z"
    },
    "tags": []
   },
   "outputs": [
    {
     "data": {
      "text/plain": [
       "array([[17.2],\n",
       "       [17.2],\n",
       "       [17.2],\n",
       "       ...,\n",
       "       [ 0. ],\n",
       "       [ 0. ],\n",
       "       [ 0. ]])"
      ]
     },
     "execution_count": 21,
     "metadata": {},
     "output_type": "execute_result"
    }
   ],
   "source": [
    "y"
   ]
  },
  {
   "cell_type": "code",
   "execution_count": 22,
   "id": "91f600e8-1d25-46d4-9df2-3cb1b4348d83",
   "metadata": {
    "execution": {
     "iopub.execute_input": "2023-07-01T23:50:45.664204Z",
     "iopub.status.busy": "2023-07-01T23:50:45.663848Z",
     "iopub.status.idle": "2023-07-01T23:50:45.699916Z",
     "shell.execute_reply": "2023-07-01T23:50:45.699035Z",
     "shell.execute_reply.started": "2023-07-01T23:50:45.664176Z"
    },
    "tags": []
   },
   "outputs": [],
   "source": [
    "# Split data into a training set and a test set.\n",
    "\n",
    "X_train, X_test, y_train, y_test = train_test_split(X, y, test_size=0.3, random_state=0)"
   ]
  },
  {
   "cell_type": "markdown",
   "id": "c21d797f-3fae-403b-8322-fe677fe3ad91",
   "metadata": {
    "tags": []
   },
   "source": [
    "## Run the Regression Analysis:  Longitude ('LocationLng') vs. Airport Yearly Rainfall Totals ('Rain-sum-AC-SY')"
   ]
  },
  {
   "cell_type": "code",
   "execution_count": 23,
   "id": "8fe5c13c-35ad-4a46-8836-21b539b937b7",
   "metadata": {
    "execution": {
     "iopub.execute_input": "2023-07-01T23:50:45.701319Z",
     "iopub.status.busy": "2023-07-01T23:50:45.700991Z",
     "iopub.status.idle": "2023-07-01T23:50:45.705540Z",
     "shell.execute_reply": "2023-07-01T23:50:45.704552Z",
     "shell.execute_reply.started": "2023-07-01T23:50:45.701290Z"
    },
    "tags": []
   },
   "outputs": [],
   "source": [
    "# Create a regression object.\n",
    "\n",
    "regression = LinearRegression()  # This is the regression object, which will be fit onto the training set."
   ]
  },
  {
   "cell_type": "code",
   "execution_count": 24,
   "id": "ec384df5-0822-4261-a842-9fc080905857",
   "metadata": {
    "execution": {
     "iopub.execute_input": "2023-07-01T23:50:45.706796Z",
     "iopub.status.busy": "2023-07-01T23:50:45.706578Z",
     "iopub.status.idle": "2023-07-01T23:50:45.753658Z",
     "shell.execute_reply": "2023-07-01T23:50:45.752355Z",
     "shell.execute_reply.started": "2023-07-01T23:50:45.706772Z"
    },
    "tags": []
   },
   "outputs": [
    {
     "data": {
      "text/plain": [
       "LinearRegression()"
      ]
     },
     "execution_count": 24,
     "metadata": {},
     "output_type": "execute_result"
    }
   ],
   "source": [
    "# Fit the regression object onto the training set.\n",
    "\n",
    "regression.fit(X_train, y_train)"
   ]
  },
  {
   "cell_type": "code",
   "execution_count": 25,
   "id": "400d45c6-8440-411d-8468-12f0a447a6d9",
   "metadata": {
    "execution": {
     "iopub.execute_input": "2023-07-01T23:50:45.756277Z",
     "iopub.status.busy": "2023-07-01T23:50:45.755695Z",
     "iopub.status.idle": "2023-07-01T23:50:45.763227Z",
     "shell.execute_reply": "2023-07-01T23:50:45.761188Z",
     "shell.execute_reply.started": "2023-07-01T23:50:45.756242Z"
    },
    "tags": []
   },
   "outputs": [],
   "source": [
    "# Predict the values of y using X.\n",
    "\n",
    "y_predicted = regression.predict(X_test)"
   ]
  },
  {
   "cell_type": "code",
   "execution_count": 26,
   "id": "cfd82ad0-fd40-4019-874d-f135bb26303b",
   "metadata": {
    "execution": {
     "iopub.execute_input": "2023-07-01T23:50:45.765771Z",
     "iopub.status.busy": "2023-07-01T23:50:45.765338Z",
     "iopub.status.idle": "2023-07-01T23:50:46.969841Z",
     "shell.execute_reply": "2023-07-01T23:50:46.968922Z",
     "shell.execute_reply.started": "2023-07-01T23:50:45.765731Z"
    },
    "tags": []
   },
   "outputs": [
    {
     "data": {
      "image/png": "[encoded data removed]",
      "text/plain": [
       "<Figure size 432x288 with 1 Axes>"
      ]
     },
     "metadata": {
      "needs_background": "light"
     },
     "output_type": "display_data"
    }
   ],
   "source": [
    "# Create a plot that shows the regression line from the model on the test set.\n",
    "\n",
    "plot_test = plt\n",
    "plot_test.scatter(X_test, y_test, color='gray', s = 15)\n",
    "plot_test.plot(X_test, y_predicted, color='red', linewidth =3)\n",
    "plot_test.title('Longitude vs. Airport Yearly Rainfall Totals (Test set)')\n",
    "plot_test.xlabel('Longitude')\n",
    "plot_test.ylabel('Rainfall')\n",
    "plot_test.savefig(os.path.join(path, '04-Analysis', 'Visualizations', 'task-6.4-LinearRegression-TestSet.png'), facecolor='white', bbox_inches='tight')\n",
    "plot_test.show()"
   ]
  },
  {
   "cell_type": "code",
   "execution_count": 27,
   "id": "755e7b77-8cce-4568-87ad-dbcc2095092c",
   "metadata": {
    "execution": {
     "iopub.execute_input": "2023-07-01T23:50:46.971051Z",
     "iopub.status.busy": "2023-07-01T23:50:46.970844Z",
     "iopub.status.idle": "2023-07-01T23:50:46.977814Z",
     "shell.execute_reply": "2023-07-01T23:50:46.976845Z",
     "shell.execute_reply.started": "2023-07-01T23:50:46.971028Z"
    },
    "tags": []
   },
   "outputs": [],
   "source": [
    "# Create objects that contain the model summary statistics.\n",
    "\n",
    "rmse = mean_squared_error(y_test, y_predicted) # This is the mean squared error\n",
    "r2 = r2_score(y_test, y_predicted) # This is the R2 score. "
   ]
  },
  {
   "cell_type": "code",
   "execution_count": 28,
   "id": "9396258c-216f-47bb-a42b-5e0b18430ee2",
   "metadata": {
    "execution": {
     "iopub.execute_input": "2023-07-01T23:50:46.985303Z",
     "iopub.status.busy": "2023-07-01T23:50:46.984514Z",
     "iopub.status.idle": "2023-07-01T23:50:46.993168Z",
     "shell.execute_reply": "2023-07-01T23:50:46.991632Z",
     "shell.execute_reply.started": "2023-07-01T23:50:46.985253Z"
    },
    "tags": []
   },
   "outputs": [
    {
     "name": "stdout",
     "output_type": "stream",
     "text": [
      "Slope: [[7.32131858]]\n",
      "Mean squared error:  1071.7868583538134\n",
      "R2 score:  0.20399940891300095\n"
     ]
    }
   ],
   "source": [
    "# Print the model summary statistics. This is where you evaluate the performance of the model.\n",
    "\n",
    "print('Slope:' ,regression.coef_)\n",
    "print('Mean squared error: ', rmse)\n",
    "print('R2 score: ', r2)"
   ]
  },
  {
   "cell_type": "markdown",
   "id": "986483fd-a0c9-4669-9cba-9899553ee8d9",
   "metadata": {},
   "source": [
    "## Oh, this model does not work too well here.  No big surprise, given the wide range of scatter among the data points.\n",
    "### The spread in rainfall totals is markedly higher in the eastern part of the state, so other factors variables likely play a role.\n",
    "### One likely factor is the shear number of airports:  as visualized in the pair plot of latitude vs. longitude in Task 6.2, there clearly are more airports in the eastern and southern parts of the state:  more data points means more chances for spread.\n",
    "### Another factor may be that Texas tends to have a greater range of latitudes in the east than in the west.  The far western end is particularly narrow north-to-south."
   ]
  },
  {
   "cell_type": "code",
   "execution_count": 29,
   "id": "730dde63-3334-40f5-b9e5-5a39743f4822",
   "metadata": {
    "execution": {
     "iopub.execute_input": "2023-07-01T23:50:46.995301Z",
     "iopub.status.busy": "2023-07-01T23:50:46.995008Z",
     "iopub.status.idle": "2023-07-01T23:50:47.000458Z",
     "shell.execute_reply": "2023-07-01T23:50:46.999926Z",
     "shell.execute_reply.started": "2023-07-01T23:50:46.995273Z"
    },
    "tags": []
   },
   "outputs": [
    {
     "data": {
      "text/plain": [
       "array([[62.13398732],\n",
       "       [44.6148041 ],\n",
       "       [61.45969388],\n",
       "       ...,\n",
       "       [ 2.7705399 ],\n",
       "       [50.64903487],\n",
       "       [36.89520579]])"
      ]
     },
     "execution_count": 29,
     "metadata": {},
     "output_type": "execute_result"
    }
   ],
   "source": [
    "y_predicted"
   ]
  },
  {
   "cell_type": "code",
   "execution_count": 30,
   "id": "4bfc2012-c39c-40f4-8c3f-52630469ac4a",
   "metadata": {
    "execution": {
     "iopub.execute_input": "2023-07-01T23:50:47.002296Z",
     "iopub.status.busy": "2023-07-01T23:50:47.001639Z",
     "iopub.status.idle": "2023-07-01T23:50:47.018120Z",
     "shell.execute_reply": "2023-07-01T23:50:47.017476Z",
     "shell.execute_reply.started": "2023-07-01T23:50:47.002265Z"
    },
    "tags": []
   },
   "outputs": [
    {
     "data": {
      "text/html": [
       "<div>\n",
       "<style scoped>\n",
       "    .dataframe tbody tr th:only-of-type {\n",
       "        vertical-align: middle;\n",
       "    }\n",
       "\n",
       "    .dataframe tbody tr th {\n",
       "        vertical-align: top;\n",
       "    }\n",
       "\n",
       "    .dataframe thead th {\n",
       "        text-align: right;\n",
       "    }\n",
       "</style>\n",
       "<table border=\"1\" class=\"dataframe\">\n",
       "  <thead>\n",
       "    <tr style=\"text-align: right;\">\n",
       "      <th></th>\n",
       "      <th>Actual</th>\n",
       "      <th>Predicted</th>\n",
       "    </tr>\n",
       "  </thead>\n",
       "  <tbody>\n",
       "    <tr>\n",
       "      <th>0</th>\n",
       "      <td>60.19</td>\n",
       "      <td>62.133987</td>\n",
       "    </tr>\n",
       "    <tr>\n",
       "      <th>1</th>\n",
       "      <td>37.60</td>\n",
       "      <td>44.614804</td>\n",
       "    </tr>\n",
       "    <tr>\n",
       "      <th>2</th>\n",
       "      <td>62.17</td>\n",
       "      <td>61.459694</td>\n",
       "    </tr>\n",
       "    <tr>\n",
       "      <th>3</th>\n",
       "      <td>36.64</td>\n",
       "      <td>40.489241</td>\n",
       "    </tr>\n",
       "    <tr>\n",
       "      <th>4</th>\n",
       "      <td>71.82</td>\n",
       "      <td>65.021515</td>\n",
       "    </tr>\n",
       "    <tr>\n",
       "      <th>5</th>\n",
       "      <td>16.84</td>\n",
       "      <td>-18.205770</td>\n",
       "    </tr>\n",
       "    <tr>\n",
       "      <th>6</th>\n",
       "      <td>40.35</td>\n",
       "      <td>47.451815</td>\n",
       "    </tr>\n",
       "    <tr>\n",
       "      <th>7</th>\n",
       "      <td>100.56</td>\n",
       "      <td>63.012546</td>\n",
       "    </tr>\n",
       "    <tr>\n",
       "      <th>8</th>\n",
       "      <td>61.16</td>\n",
       "      <td>43.365787</td>\n",
       "    </tr>\n",
       "    <tr>\n",
       "      <th>9</th>\n",
       "      <td>59.58</td>\n",
       "      <td>61.007969</td>\n",
       "    </tr>\n",
       "    <tr>\n",
       "      <th>10</th>\n",
       "      <td>41.30</td>\n",
       "      <td>27.200316</td>\n",
       "    </tr>\n",
       "    <tr>\n",
       "      <th>11</th>\n",
       "      <td>26.77</td>\n",
       "      <td>52.765628</td>\n",
       "    </tr>\n",
       "    <tr>\n",
       "      <th>12</th>\n",
       "      <td>73.20</td>\n",
       "      <td>51.498308</td>\n",
       "    </tr>\n",
       "    <tr>\n",
       "      <th>13</th>\n",
       "      <td>49.74</td>\n",
       "      <td>39.525756</td>\n",
       "    </tr>\n",
       "    <tr>\n",
       "      <th>14</th>\n",
       "      <td>2.79</td>\n",
       "      <td>9.052231</td>\n",
       "    </tr>\n",
       "    <tr>\n",
       "      <th>15</th>\n",
       "      <td>79.35</td>\n",
       "      <td>65.454205</td>\n",
       "    </tr>\n",
       "    <tr>\n",
       "      <th>16</th>\n",
       "      <td>69.77</td>\n",
       "      <td>66.876737</td>\n",
       "    </tr>\n",
       "    <tr>\n",
       "      <th>17</th>\n",
       "      <td>94.40</td>\n",
       "      <td>47.784203</td>\n",
       "    </tr>\n",
       "    <tr>\n",
       "      <th>18</th>\n",
       "      <td>14.17</td>\n",
       "      <td>38.740178</td>\n",
       "    </tr>\n",
       "    <tr>\n",
       "      <th>19</th>\n",
       "      <td>16.64</td>\n",
       "      <td>29.538013</td>\n",
       "    </tr>\n",
       "    <tr>\n",
       "      <th>20</th>\n",
       "      <td>22.80</td>\n",
       "      <td>15.900593</td>\n",
       "    </tr>\n",
       "    <tr>\n",
       "      <th>21</th>\n",
       "      <td>73.35</td>\n",
       "      <td>66.876737</td>\n",
       "    </tr>\n",
       "    <tr>\n",
       "      <th>22</th>\n",
       "      <td>145.17</td>\n",
       "      <td>62.049792</td>\n",
       "    </tr>\n",
       "    <tr>\n",
       "      <th>23</th>\n",
       "      <td>11.95</td>\n",
       "      <td>42.804974</td>\n",
       "    </tr>\n",
       "    <tr>\n",
       "      <th>24</th>\n",
       "      <td>40.17</td>\n",
       "      <td>48.108537</td>\n",
       "    </tr>\n",
       "    <tr>\n",
       "      <th>25</th>\n",
       "      <td>62.40</td>\n",
       "      <td>34.519438</td>\n",
       "    </tr>\n",
       "    <tr>\n",
       "      <th>26</th>\n",
       "      <td>100.92</td>\n",
       "      <td>42.784474</td>\n",
       "    </tr>\n",
       "    <tr>\n",
       "      <th>27</th>\n",
       "      <td>61.61</td>\n",
       "      <td>47.241693</td>\n",
       "    </tr>\n",
       "    <tr>\n",
       "      <th>28</th>\n",
       "      <td>69.48</td>\n",
       "      <td>61.591478</td>\n",
       "    </tr>\n",
       "    <tr>\n",
       "      <th>29</th>\n",
       "      <td>25.32</td>\n",
       "      <td>7.119403</td>\n",
       "    </tr>\n",
       "  </tbody>\n",
       "</table>\n",
       "</div>"
      ],
      "text/plain": [
       "    Actual  Predicted\n",
       "0    60.19  62.133987\n",
       "1    37.60  44.614804\n",
       "2    62.17  61.459694\n",
       "3    36.64  40.489241\n",
       "4    71.82  65.021515\n",
       "5    16.84 -18.205770\n",
       "6    40.35  47.451815\n",
       "7   100.56  63.012546\n",
       "8    61.16  43.365787\n",
       "9    59.58  61.007969\n",
       "10   41.30  27.200316\n",
       "11   26.77  52.765628\n",
       "12   73.20  51.498308\n",
       "13   49.74  39.525756\n",
       "14    2.79   9.052231\n",
       "15   79.35  65.454205\n",
       "16   69.77  66.876737\n",
       "17   94.40  47.784203\n",
       "18   14.17  38.740178\n",
       "19   16.64  29.538013\n",
       "20   22.80  15.900593\n",
       "21   73.35  66.876737\n",
       "22  145.17  62.049792\n",
       "23   11.95  42.804974\n",
       "24   40.17  48.108537\n",
       "25   62.40  34.519438\n",
       "26  100.92  42.784474\n",
       "27   61.61  47.241693\n",
       "28   69.48  61.591478\n",
       "29   25.32   7.119403"
      ]
     },
     "execution_count": 30,
     "metadata": {},
     "output_type": "execute_result"
    }
   ],
   "source": [
    "# Create a dataframe comparing the actual and predicted values of y.\n",
    "\n",
    "data = pd.DataFrame({'Actual': y_test.flatten(), 'Predicted': y_predicted.flatten()})\n",
    "data.head(30)"
   ]
  },
  {
   "cell_type": "markdown",
   "id": "29bb6dd0-89d6-4d4f-916f-9b2f56dfaabf",
   "metadata": {},
   "source": [
    "## Compare how well (or poorly) the regression fits the training set."
   ]
  },
  {
   "cell_type": "code",
   "execution_count": 31,
   "id": "d4732704-8f6d-4a5e-8a7e-fa9130c49a5c",
   "metadata": {
    "execution": {
     "iopub.execute_input": "2023-07-01T23:50:47.019329Z",
     "iopub.status.busy": "2023-07-01T23:50:47.019037Z",
     "iopub.status.idle": "2023-07-01T23:50:47.031157Z",
     "shell.execute_reply": "2023-07-01T23:50:47.029980Z",
     "shell.execute_reply.started": "2023-07-01T23:50:47.019305Z"
    },
    "tags": []
   },
   "outputs": [],
   "source": [
    "# Predict.\n",
    "\n",
    "y_predicted_train = regression.predict(X_train) # This is predicting X_train!"
   ]
  },
  {
   "cell_type": "code",
   "execution_count": 32,
   "id": "77452fd5-6a6e-424c-95bf-572804af6dfd",
   "metadata": {
    "execution": {
     "iopub.execute_input": "2023-07-01T23:50:47.034215Z",
     "iopub.status.busy": "2023-07-01T23:50:47.033217Z",
     "iopub.status.idle": "2023-07-01T23:50:47.045408Z",
     "shell.execute_reply": "2023-07-01T23:50:47.044469Z",
     "shell.execute_reply.started": "2023-07-01T23:50:47.034167Z"
    },
    "tags": []
   },
   "outputs": [],
   "source": [
    "rmse = mean_squared_error(y_train, y_predicted_train)\n",
    "r2 = r2_score(y_train, y_predicted_train)"
   ]
  },
  {
   "cell_type": "code",
   "execution_count": 33,
   "id": "f36e588d-6bde-4f47-8c76-3e090c65bad0",
   "metadata": {
    "execution": {
     "iopub.execute_input": "2023-07-01T23:50:47.046563Z",
     "iopub.status.busy": "2023-07-01T23:50:47.046360Z",
     "iopub.status.idle": "2023-07-01T23:50:47.052590Z",
     "shell.execute_reply": "2023-07-01T23:50:47.051960Z",
     "shell.execute_reply.started": "2023-07-01T23:50:47.046540Z"
    },
    "tags": []
   },
   "outputs": [
    {
     "name": "stdout",
     "output_type": "stream",
     "text": [
      "Slope: [[7.32131858]]\n",
      "Mean squared error:  1065.9094544003779\n",
      "R2 score:  0.20184836201036438\n"
     ]
    }
   ],
   "source": [
    "print('Slope:' ,regression.coef_)\n",
    "print('Mean squared error: ', rmse)\n",
    "print('R2 score: ', r2)"
   ]
  },
  {
   "cell_type": "markdown",
   "id": "d1b478f7-6e6a-4cd8-8852-c74bf4439e7b",
   "metadata": {},
   "source": [
    "## The model also performs poorly here on the training set, with about the same performance as on the test set."
   ]
  },
  {
   "cell_type": "code",
   "execution_count": 34,
   "id": "f58b1e96-e937-4822-956c-de0a7234cece",
   "metadata": {
    "execution": {
     "iopub.execute_input": "2023-07-01T23:50:47.055980Z",
     "iopub.status.busy": "2023-07-01T23:50:47.054114Z",
     "iopub.status.idle": "2023-07-01T23:50:49.282151Z",
     "shell.execute_reply": "2023-07-01T23:50:49.281364Z",
     "shell.execute_reply.started": "2023-07-01T23:50:47.055910Z"
    },
    "tags": []
   },
   "outputs": [
    {
     "data": {
      "image/png": "[encoded data removed]",
      "text/plain": [
       "<Figure size 432x288 with 1 Axes>"
      ]
     },
     "metadata": {
      "needs_background": "light"
     },
     "output_type": "display_data"
    }
   ],
   "source": [
    "# Visualizing the training set results.\n",
    "\n",
    "plot_train = plt\n",
    "plot_train.scatter(X_train, y_train, color='green', s = 15)\n",
    "plot_train.plot(X_train, y_predicted_train, color='red', linewidth =3)\n",
    "plot_train.title('Longitude vs. Airport Yearly Rainfall Totals (Train set)')\n",
    "plot_train.xlabel('Longitude')\n",
    "plot_train.ylabel('Rainfall')\n",
    "plot_train.savefig(os.path.join(path, '04-Analysis', 'Visualizations', 'task-6.4-LinearRegression-TrainSet.png'), facecolor='white', bbox_inches='tight')\n",
    "plot_train.show()"
   ]
  },
  {
   "cell_type": "code",
   "execution_count": 35,
   "id": "3c53c4c8-9d8d-4b62-8bf0-fd136afe5e63",
   "metadata": {
    "execution": {
     "iopub.execute_input": "2023-07-01T23:50:49.284010Z",
     "iopub.status.busy": "2023-07-01T23:50:49.283257Z",
     "iopub.status.idle": "2023-07-01T23:50:49.289391Z",
     "shell.execute_reply": "2023-07-01T23:50:49.288329Z",
     "shell.execute_reply.started": "2023-07-01T23:50:49.283983Z"
    },
    "tags": []
   },
   "outputs": [
    {
     "data": {
      "text/plain": [
       "(515813, 34)"
      ]
     },
     "execution_count": 35,
     "metadata": {},
     "output_type": "execute_result"
    }
   ],
   "source": [
    "df.shape"
   ]
  },
  {
   "cell_type": "code",
   "execution_count": 36,
   "id": "c50509be-9939-4ccb-ac96-a8044a2846ed",
   "metadata": {
    "execution": {
     "iopub.execute_input": "2023-07-01T23:50:49.290925Z",
     "iopub.status.busy": "2023-07-01T23:50:49.290685Z",
     "iopub.status.idle": "2023-07-01T23:50:49.295121Z",
     "shell.execute_reply": "2023-07-01T23:50:49.294346Z",
     "shell.execute_reply.started": "2023-07-01T23:50:49.290901Z"
    },
    "tags": []
   },
   "outputs": [],
   "source": [
    "# We've made no changes to our dataframe, so there is no need to save here.\n",
    "# The visualizations show us nothing we don't see in another notebook, either."
   ]
  }
 ],
 "metadata": {
  "kernelspec": {
   "display_name": "Python 3 (ipykernel)",
   "language": "python",
   "name": "python3"
  },
  "language_info": {
   "codemirror_mode": {
    "name": "ipython",
    "version": 3
   },
   "file_extension": ".py",
   "mimetype": "text/x-python",
   "name": "python",
   "nbconvert_exporter": "python",
   "pygments_lexer": "ipython3",
   "version": "3.9.12"
  }
 },
 "nbformat": 4,
 "nbformat_minor": 5
}
