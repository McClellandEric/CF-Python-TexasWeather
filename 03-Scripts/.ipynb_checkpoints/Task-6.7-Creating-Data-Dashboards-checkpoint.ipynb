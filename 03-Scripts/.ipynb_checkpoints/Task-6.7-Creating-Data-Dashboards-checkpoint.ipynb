{
 "cells": [
  {
   "cell_type": "markdown",
   "id": "44c7174e-553c-47a1-8b58-ae2cef4d7f6e",
   "metadata": {
    "execution": {
     "iopub.execute_input": "2023-06-24T00:43:58.175749Z",
     "iopub.status.busy": "2023-06-24T00:43:58.175403Z",
     "iopub.status.idle": "2023-06-24T00:43:58.180395Z",
     "shell.execute_reply": "2023-06-24T00:43:58.179728Z",
     "shell.execute_reply.started": "2023-06-24T00:43:58.175712Z"
    },
    "tags": []
   },
   "source": [
    "# Task 6.7 Creating Data Dashboards"
   ]
  },
  {
   "cell_type": "code",
   "execution_count": 1,
   "id": "bed3b2ff-fd3d-4d02-84af-9d4e5f7b27f0",
   "metadata": {
    "ExecuteTime": {
     "end_time": "2023-06-12T20:08:15.986031Z",
     "start_time": "2023-06-12T20:08:13.649526Z"
    },
    "execution": {
     "iopub.execute_input": "2023-06-28T20:25:15.184374Z",
     "iopub.status.busy": "2023-06-28T20:25:15.184054Z",
     "iopub.status.idle": "2023-06-28T20:25:17.577355Z",
     "shell.execute_reply": "2023-06-28T20:25:17.576583Z",
     "shell.execute_reply.started": "2023-06-28T20:25:15.184295Z"
    },
    "tags": []
   },
   "outputs": [],
   "source": [
    "# Import libraries\n",
    "import pandas as pd\n",
    "# I'm trying modin as a drop-in replace-- er, enhancement to pandas; supposedly it will help use more than one CPU core.\n",
    "# Nope.  I'm having too much trouble getting modin installed, so it's back to plain old Pandas for now. :-(\n",
    "# import modin.pandas as pd\n",
    "import numpy as np\n",
    "import os\n",
    "import matplotlib.pyplot as plt\n",
    "import seaborn as sns\n",
    "import scipy"
   ]
  },
  {
   "cell_type": "code",
   "execution_count": 2,
   "id": "15d5926e-5b7e-43a8-9b4b-449a7c4581c2",
   "metadata": {
    "execution": {
     "iopub.execute_input": "2023-06-28T20:25:17.578805Z",
     "iopub.status.busy": "2023-06-28T20:25:17.578597Z",
     "iopub.status.idle": "2023-06-28T20:25:17.695255Z",
     "shell.execute_reply": "2023-06-28T20:25:17.694424Z",
     "shell.execute_reply.started": "2023-06-28T20:25:17.578781Z"
    },
    "tags": []
   },
   "outputs": [],
   "source": [
    "# Import Quandl library for Task 6.6.\n",
    "import quandl"
   ]
  },
  {
   "cell_type": "code",
   "execution_count": 3,
   "id": "39bca9c8-d7f8-468e-a82e-113d644aae27",
   "metadata": {
    "execution": {
     "iopub.execute_input": "2023-06-28T20:25:17.696498Z",
     "iopub.status.busy": "2023-06-28T20:25:17.696268Z",
     "iopub.status.idle": "2023-06-28T20:25:18.549563Z",
     "shell.execute_reply": "2023-06-28T20:25:18.548740Z",
     "shell.execute_reply.started": "2023-06-28T20:25:17.696471Z"
    },
    "tags": []
   },
   "outputs": [],
   "source": [
    "# Import additional things that are suggested/required for Task 6.6.\n",
    "\n",
    "# TO-DO:  Learn why (or if) it makes sense to import both a library and individual library modules separately.\n",
    "import matplotlib\n",
    "\n",
    "# Using .api imports the public access version of statsmodels, which is a library that handles statistical models.\n",
    "import statsmodels.api as sm\n",
    "\n",
    "import warnings # This is a library that handles warnings.\n",
    "\n",
    "# Disable deprecation warnings that could indicate, for instance, a suspended library or \n",
    "# feature. \"These are more relevant to developers and very seldom to analysts.\" [Really?]\n",
    "warnings.filterwarnings(\"ignore\")\n",
    "\n",
    "# This is a styling option for how your plots will appear. More examples here:\n",
    "# https://matplotlib.org/3.2.1/tutorials/introductory/customizing.html\n",
    "# https://matplotlib.org/3.1.0/gallery/style_sheets/fivethirtyeight.html\n",
    "plt.style.use('fivethirtyeight')"
   ]
  },
  {
   "cell_type": "code",
   "execution_count": 4,
   "id": "9774d1e9-c99d-4941-8333-3f9e65c1703c",
   "metadata": {
    "execution": {
     "iopub.execute_input": "2023-06-28T20:25:18.552116Z",
     "iopub.status.busy": "2023-06-28T20:25:18.551672Z",
     "iopub.status.idle": "2023-06-28T20:25:18.767869Z",
     "shell.execute_reply": "2023-06-28T20:25:18.767275Z",
     "shell.execute_reply.started": "2023-06-28T20:25:18.552080Z"
    },
    "tags": []
   },
   "outputs": [],
   "source": [
    "# Import scikit-learn library and select modules for Task 6.4 (see more imports for Task 6.5, next).\n",
    "import sklearn\n",
    "from sklearn.model_selection import train_test_split \n",
    "from sklearn.linear_model import LinearRegression\n",
    "from sklearn.metrics import mean_squared_error, r2_score"
   ]
  },
  {
   "cell_type": "code",
   "execution_count": 5,
   "id": "6d3f6280-71d1-4e08-853f-fdd95e008f48",
   "metadata": {
    "execution": {
     "iopub.execute_input": "2023-06-28T20:25:18.768949Z",
     "iopub.status.busy": "2023-06-28T20:25:18.768704Z",
     "iopub.status.idle": "2023-06-28T20:25:18.919476Z",
     "shell.execute_reply": "2023-06-28T20:25:18.918803Z",
     "shell.execute_reply.started": "2023-06-28T20:25:18.768925Z"
    }
   },
   "outputs": [],
   "source": [
    "# Import additional modules 'KMeans' and 'pylab' - from the libraries 'scikit-learn' and 'matplotlib', respectively - for Task 6.5\n",
    "from sklearn.cluster import KMeans # Here is where you import the k-means algorithm from scikit-learn.\n",
    "import pylab as pl # PyLab is a convenience module that bulk imports matplotlib.\n",
    "# (Note to self:  learn more about Python imports, particularly why we don't say, \"import matplotlib.pylab as pl\" or \"from matplotlib import pylab ...\")"
   ]
  },
  {
   "cell_type": "code",
   "execution_count": 6,
   "id": "f51a02ba-a329-4604-a97a-1b6d77f13ec2",
   "metadata": {
    "execution": {
     "iopub.execute_input": "2023-06-28T20:25:18.920489Z",
     "iopub.status.busy": "2023-06-28T20:25:18.920304Z",
     "iopub.status.idle": "2023-06-28T20:25:19.236822Z",
     "shell.execute_reply": "2023-06-28T20:25:19.236050Z",
     "shell.execute_reply.started": "2023-06-28T20:25:18.920466Z"
    },
    "tags": []
   },
   "outputs": [],
   "source": [
    "# Import folium and JSON libraries for Task 6.3.\n",
    "import folium\n",
    "import json "
   ]
  },
  {
   "cell_type": "code",
   "execution_count": 7,
   "id": "30cd1872-842b-4f0e-b344-5b00d68a25e9",
   "metadata": {
    "execution": {
     "iopub.execute_input": "2023-06-28T20:25:19.238325Z",
     "iopub.status.busy": "2023-06-28T20:25:19.237981Z",
     "iopub.status.idle": "2023-06-28T20:25:19.241730Z",
     "shell.execute_reply": "2023-06-28T20:25:19.240877Z",
     "shell.execute_reply.started": "2023-06-28T20:25:19.238300Z"
    },
    "tags": []
   },
   "outputs": [],
   "source": [
    "# For future reference, Exercise 6.2 introduced graphical libraries Bokeh and Plotly.\n",
    "# import bokeh\n",
    "# import plotly"
   ]
  },
  {
   "cell_type": "code",
   "execution_count": 8,
   "id": "7c86ae4c-ea91-4627-8dfc-440de6ba9af7",
   "metadata": {
    "ExecuteTime": {
     "end_time": "2023-06-12T20:08:15.992831Z",
     "start_time": "2023-06-12T20:08:15.988513Z"
    },
    "execution": {
     "iopub.execute_input": "2023-06-28T20:25:19.243459Z",
     "iopub.status.busy": "2023-06-28T20:25:19.243133Z",
     "iopub.status.idle": "2023-06-28T20:25:19.249545Z",
     "shell.execute_reply": "2023-06-28T20:25:19.248438Z",
     "shell.execute_reply.started": "2023-06-28T20:25:19.243422Z"
    }
   },
   "outputs": [],
   "source": [
    "# Starting with Exercise 4.7, import additional libraries I've discovered thanks to Lubov, especially the time library.\n",
    "import time\n",
    "import string\n",
    "import random"
   ]
  },
  {
   "cell_type": "code",
   "execution_count": 9,
   "id": "c8b7cbea-73d2-4ce7-800d-5611a964c606",
   "metadata": {
    "ExecuteTime": {
     "end_time": "2023-06-12T20:08:15.999865Z",
     "start_time": "2023-06-12T20:08:15.996013Z"
    },
    "execution": {
     "iopub.execute_input": "2023-06-28T20:25:19.251174Z",
     "iopub.status.busy": "2023-06-28T20:25:19.250739Z",
     "iopub.status.idle": "2023-06-28T20:25:19.257502Z",
     "shell.execute_reply": "2023-06-28T20:25:19.256868Z",
     "shell.execute_reply.started": "2023-06-28T20:25:19.251147Z"
    },
    "tags": []
   },
   "outputs": [],
   "source": [
    "# Import itertools to help loop through lots of things.\n",
    "import itertools"
   ]
  },
  {
   "cell_type": "code",
   "execution_count": 10,
   "id": "2285ca5f-33de-44b2-a063-f2ef9e39d83a",
   "metadata": {
    "ExecuteTime": {
     "end_time": "2023-06-12T20:08:16.005997Z",
     "start_time": "2023-06-12T20:08:16.002994Z"
    },
    "execution": {
     "iopub.execute_input": "2023-06-28T20:25:19.261151Z",
     "iopub.status.busy": "2023-06-28T20:25:19.260683Z",
     "iopub.status.idle": "2023-06-28T20:25:19.264748Z",
     "shell.execute_reply": "2023-06-28T20:25:19.263945Z",
     "shell.execute_reply.started": "2023-06-28T20:25:19.261115Z"
    }
   },
   "outputs": [],
   "source": [
    "# I want to convert Date-Timestamps into UNIX Epoch time for analysis.\n",
    "from datetime import datetime"
   ]
  },
  {
   "cell_type": "code",
   "execution_count": 11,
   "id": "a55fc753-f512-4317-aa08-6407a71a040b",
   "metadata": {
    "ExecuteTime": {
     "end_time": "2023-06-12T20:08:16.011947Z",
     "start_time": "2023-06-12T20:08:16.008775Z"
    },
    "execution": {
     "iopub.execute_input": "2023-06-28T20:25:19.266310Z",
     "iopub.status.busy": "2023-06-28T20:25:19.265928Z",
     "iopub.status.idle": "2023-06-28T20:25:19.270920Z",
     "shell.execute_reply": "2023-06-28T20:25:19.270291Z",
     "shell.execute_reply.started": "2023-06-28T20:25:19.266279Z"
    }
   },
   "outputs": [],
   "source": [
    "# Set a PATH variable."
   ]
  },
  {
   "cell_type": "code",
   "execution_count": 12,
   "id": "e230a26e-f42a-4a9a-8d82-ed090ef195fb",
   "metadata": {
    "ExecuteTime": {
     "end_time": "2023-06-12T20:08:16.017084Z",
     "start_time": "2023-06-12T20:08:16.014098Z"
    },
    "execution": {
     "iopub.execute_input": "2023-06-28T20:25:19.272448Z",
     "iopub.status.busy": "2023-06-28T20:25:19.272038Z",
     "iopub.status.idle": "2023-06-28T20:25:19.277696Z",
     "shell.execute_reply": "2023-06-28T20:25:19.277156Z",
     "shell.execute_reply.started": "2023-06-28T20:25:19.272412Z"
    }
   },
   "outputs": [],
   "source": [
    "# Linux PATH, local - Sadly, my Linux system with 8GB of total RAM could not import the full dataset.\n",
    "# I have moved to an AWS EC2 instance that should be able to handle this."
   ]
  },
  {
   "cell_type": "code",
   "execution_count": 13,
   "id": "fd9d523a-a62e-42dc-aaaa-1805092cc23b",
   "metadata": {
    "ExecuteTime": {
     "end_time": "2023-06-12T20:08:16.022791Z",
     "start_time": "2023-06-12T20:08:16.019569Z"
    },
    "execution": {
     "iopub.execute_input": "2023-06-28T20:25:19.279140Z",
     "iopub.status.busy": "2023-06-28T20:25:19.278891Z",
     "iopub.status.idle": "2023-06-28T20:25:19.285159Z",
     "shell.execute_reply": "2023-06-28T20:25:19.284451Z",
     "shell.execute_reply.started": "2023-06-28T20:25:19.279114Z"
    }
   },
   "outputs": [],
   "source": [
    "## path = (r'~/careerfoundry/tasks/data-immersion/Achievement6/Project/02-Data/Original-Data/US-Weather-Events.2016-2021/www.kaggle.com/datasets/sobhanmoosavi/us-weather-events')"
   ]
  },
  {
   "cell_type": "markdown",
   "id": "932f1507-28ca-4829-8bcb-5dea1ff77ac8",
   "metadata": {},
   "source": [
    "### # Oh, wow, matplotlib.pyplot.savefig function does not expand the tilde (~) reference in directory paths.  LAME. :("
   ]
  },
  {
   "cell_type": "code",
   "execution_count": 14,
   "id": "6649e43a-5f86-451c-bc09-25f23793dcec",
   "metadata": {
    "ExecuteTime": {
     "end_time": "2023-06-12T20:08:16.028756Z",
     "start_time": "2023-06-12T20:08:16.025218Z"
    },
    "execution": {
     "iopub.execute_input": "2023-06-28T20:25:19.286766Z",
     "iopub.status.busy": "2023-06-28T20:25:19.285981Z",
     "iopub.status.idle": "2023-06-28T20:25:19.293610Z",
     "shell.execute_reply": "2023-06-28T20:25:19.292635Z",
     "shell.execute_reply.started": "2023-06-28T20:25:19.286739Z"
    }
   },
   "outputs": [],
   "source": [
    "path = (r'/home/ubuntu/careerfoundry/tasks/data-immersion/Achievement6/Project/')"
   ]
  },
  {
   "cell_type": "code",
   "execution_count": 15,
   "id": "12cdda00-cc5c-4e79-a0e9-34d4237c63f5",
   "metadata": {
    "ExecuteTime": {
     "end_time": "2023-06-12T20:08:16.036588Z",
     "start_time": "2023-06-12T20:08:16.032541Z"
    },
    "execution": {
     "iopub.execute_input": "2023-06-28T20:25:19.295329Z",
     "iopub.status.busy": "2023-06-28T20:25:19.294686Z",
     "iopub.status.idle": "2023-06-28T20:25:19.300814Z",
     "shell.execute_reply": "2023-06-28T20:25:19.300239Z",
     "shell.execute_reply.started": "2023-06-28T20:25:19.295289Z"
    }
   },
   "outputs": [],
   "source": [
    "# windoze PATH - The windoze laptop I bought for Excel and Tableau also has 16GB of RAM."
   ]
  },
  {
   "cell_type": "code",
   "execution_count": 16,
   "id": "1da45c73-9c2f-4f24-bb71-d8b1c1cf4b96",
   "metadata": {
    "ExecuteTime": {
     "end_time": "2023-06-12T20:08:16.045467Z",
     "start_time": "2023-06-12T20:08:16.042321Z"
    },
    "execution": {
     "iopub.execute_input": "2023-06-28T20:25:19.302103Z",
     "iopub.status.busy": "2023-06-28T20:25:19.301785Z",
     "iopub.status.idle": "2023-06-28T20:25:19.308001Z",
     "shell.execute_reply": "2023-06-28T20:25:19.307455Z",
     "shell.execute_reply.started": "2023-06-28T20:25:19.302070Z"
    },
    "tags": []
   },
   "outputs": [],
   "source": [
    "## path = (r'C:\\Users\\emccc\\OneDrive\\Documents\\CareerFoundry\\Achievement-4\\Instacart-Basket-Analysis')"
   ]
  },
  {
   "cell_type": "code",
   "execution_count": 17,
   "id": "01db7df1-9acb-4cef-a013-ccb76936fd64",
   "metadata": {
    "execution": {
     "iopub.execute_input": "2023-06-28T20:25:19.309367Z",
     "iopub.status.busy": "2023-06-28T20:25:19.309045Z",
     "iopub.status.idle": "2023-06-28T20:25:19.316653Z",
     "shell.execute_reply": "2023-06-28T20:25:19.316122Z",
     "shell.execute_reply.started": "2023-06-28T20:25:19.309332Z"
    },
    "tags": []
   },
   "outputs": [],
   "source": [
    "# This command propts matplotlib visuals to appear in the notebook.\n",
    "# This option ensures that the graphs you create are displayed within the notebook without the need to \"call\" them specifically.\n",
    "\n",
    "%matplotlib inline"
   ]
  },
  {
   "cell_type": "markdown",
   "id": "8014b649-67a2-41b9-b1e3-1227da80b1e1",
   "metadata": {},
   "source": [
    "## Load and check our updated dataframe for Texas weather from Task 6.3."
   ]
  },
  {
   "cell_type": "code",
   "execution_count": 18,
   "id": "7efcf712-f8f0-4b45-8a1b-a1a2e8169c2a",
   "metadata": {
    "execution": {
     "iopub.execute_input": "2023-06-28T20:25:19.318029Z",
     "iopub.status.busy": "2023-06-28T20:25:19.317822Z",
     "iopub.status.idle": "2023-06-28T20:25:20.282766Z",
     "shell.execute_reply": "2023-06-28T20:25:20.282067Z",
     "shell.execute_reply.started": "2023-06-28T20:25:19.318007Z"
    },
    "tags": []
   },
   "outputs": [],
   "source": [
    "df = pd.read_pickle(os.path.join(path, '02-Data','Prepared-Data', 'df_texas.Task-6.3.pkl'))"
   ]
  },
  {
   "cell_type": "code",
   "execution_count": 19,
   "id": "768aece9-f91f-4129-a1a6-63155111cd1e",
   "metadata": {
    "execution": {
     "iopub.execute_input": "2023-06-28T20:25:20.283969Z",
     "iopub.status.busy": "2023-06-28T20:25:20.283661Z",
     "iopub.status.idle": "2023-06-28T20:25:20.292422Z",
     "shell.execute_reply": "2023-06-28T20:25:20.291327Z",
     "shell.execute_reply.started": "2023-06-28T20:25:20.283935Z"
    },
    "tags": []
   },
   "outputs": [
    {
     "data": {
      "text/plain": [
       "(515813, 34)"
      ]
     },
     "execution_count": 19,
     "metadata": {},
     "output_type": "execute_result"
    }
   ],
   "source": [
    "df.shape"
   ]
  },
  {
   "cell_type": "code",
   "execution_count": 20,
   "id": "480cab10-23f4-4064-a6ad-959334a8c6b1",
   "metadata": {
    "execution": {
     "iopub.execute_input": "2023-06-28T20:25:20.294836Z",
     "iopub.status.busy": "2023-06-28T20:25:20.294277Z",
     "iopub.status.idle": "2023-06-28T20:25:20.302643Z",
     "shell.execute_reply": "2023-06-28T20:25:20.301971Z",
     "shell.execute_reply.started": "2023-06-28T20:25:20.294795Z"
    },
    "tags": []
   },
   "outputs": [
    {
     "data": {
      "text/plain": [
       "Index(['EventId', 'Type', 'Severity', 'StartTime(UTC)', 'EndTime(UTC)',\n",
       "       'Precipitation(in)', 'TimeZone', 'AirportCode', 'LocationLat',\n",
       "       'LocationLng', 'County', 'State', 'StartTime(Epoch)', 'EndTime(Epoch)',\n",
       "       'Duration(seconds)', 'Duration(hours)',\n",
       "       'PrecipitationRate(inches/hour)', 'Disbelievable', 'Region',\n",
       "       'StartYear', 'StartYear-Month', 'Snow(in)', 'Rain(in)', 'StartMonth',\n",
       "       'Rain-sum-AC-SY-M', 'Rain-sum-AC-SY', 'Snow-sum-AC-SY-M',\n",
       "       'Snow-sum-AC-SY', 'CO-Num-AC', 'Rain-sumavg-CO-SY-M',\n",
       "       'Rain-sumavg-CO-SY', 'Snow-sumavg-CO-SY-M', 'Snow-sumavg-CO-SY',\n",
       "       'GeoJSONCounty'],\n",
       "      dtype='object')"
      ]
     },
     "execution_count": 20,
     "metadata": {},
     "output_type": "execute_result"
    }
   ],
   "source": [
    "df.columns"
   ]
  },
  {
   "cell_type": "markdown",
   "id": "e23ac17a-1a76-4774-81ae-93e16cdffbc2",
   "metadata": {},
   "source": [
    "## Our data has already been cleaned, wrangled, and sanity-checked in previous Tasks."
   ]
  },
  {
   "cell_type": "markdown",
   "id": "ca58a50f-7489-4c04-99ae-fce545c79f37",
   "metadata": {},
   "source": [
    "# Save current dataframe to a CSV file for import (via Excel??) into Tableau."
   ]
  },
  {
   "cell_type": "code",
   "execution_count": 21,
   "id": "7211eca8-d788-42f0-b59a-b53f9d5567bf",
   "metadata": {
    "execution": {
     "iopub.execute_input": "2023-06-28T20:25:20.304387Z",
     "iopub.status.busy": "2023-06-28T20:25:20.303508Z",
     "iopub.status.idle": "2023-06-28T20:25:31.493624Z",
     "shell.execute_reply": "2023-06-28T20:25:31.492933Z",
     "shell.execute_reply.started": "2023-06-28T20:25:20.304341Z"
    },
    "tags": []
   },
   "outputs": [],
   "source": [
    "df.to_csv(os.path.join(path, '02-Data','Prepared-Data', 'df_texas.Task-6.3.csv'))"
   ]
  },
  {
   "cell_type": "markdown",
   "id": "9d31d576-b4c4-41ca-b902-ee44dabd06ee",
   "metadata": {},
   "source": [
    "# Tableau on windoze seems to choke on this much data.  We should whittle it down."
   ]
  },
  {
   "cell_type": "code",
   "execution_count": 22,
   "id": "bfe0c49c-46f3-440d-8058-5bb64978e31a",
   "metadata": {
    "execution": {
     "iopub.execute_input": "2023-06-28T20:31:51.839696Z",
     "iopub.status.busy": "2023-06-28T20:31:51.839468Z",
     "iopub.status.idle": "2023-06-28T20:31:51.845969Z",
     "shell.execute_reply": "2023-06-28T20:31:51.845025Z",
     "shell.execute_reply.started": "2023-06-28T20:31:51.839672Z"
    },
    "tags": []
   },
   "outputs": [
    {
     "data": {
      "text/plain": [
       "(515813, 34)"
      ]
     },
     "execution_count": 22,
     "metadata": {},
     "output_type": "execute_result"
    }
   ],
   "source": [
    "df.shape"
   ]
  }
 ],
 "metadata": {
  "kernelspec": {
   "display_name": "Python 3 (ipykernel)",
   "language": "python",
   "name": "python3"
  },
  "language_info": {
   "codemirror_mode": {
    "name": "ipython",
    "version": 3
   },
   "file_extension": ".py",
   "mimetype": "text/x-python",
   "name": "python",
   "nbconvert_exporter": "python",
   "pygments_lexer": "ipython3",
   "version": "3.9.12"
  }
 },
 "nbformat": 4,
 "nbformat_minor": 5
}
