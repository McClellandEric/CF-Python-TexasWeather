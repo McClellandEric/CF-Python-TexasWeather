{
 "cells": [
  {
   "cell_type": "markdown",
   "id": "06de54f6-616e-4c78-a1c7-7a9b2b5f30e8",
   "metadata": {
    "execution": {
     "iopub.execute_input": "2023-06-24T00:43:58.175749Z",
     "iopub.status.busy": "2023-06-24T00:43:58.175403Z",
     "iopub.status.idle": "2023-06-24T00:43:58.180395Z",
     "shell.execute_reply": "2023-06-24T00:43:58.179728Z",
     "shell.execute_reply.started": "2023-06-24T00:43:58.175712Z"
    },
    "tags": []
   },
   "source": [
    "# Task 6.6 Sourcing & Analyzing Time Series Data"
   ]
  },
  {
   "cell_type": "code",
   "execution_count": 9,
   "id": "9a01ff63-f2c5-4eac-8e11-897799b9e821",
   "metadata": {
    "ExecuteTime": {
     "end_time": "2023-06-12T20:08:15.986031Z",
     "start_time": "2023-06-12T20:08:13.649526Z"
    },
    "execution": {
     "iopub.execute_input": "2023-06-26T19:04:53.646722Z",
     "iopub.status.busy": "2023-06-26T19:04:53.646417Z",
     "iopub.status.idle": "2023-06-26T19:04:53.651622Z",
     "shell.execute_reply": "2023-06-26T19:04:53.650914Z",
     "shell.execute_reply.started": "2023-06-26T19:04:53.646698Z"
    },
    "tags": []
   },
   "outputs": [],
   "source": [
    "# Import libraries\n",
    "import pandas as pd\n",
    "# I'm trying modin as a drop-in replace-- er, enhancement to pandas; supposedly it will help use more than one CPU core.\n",
    "# Nope.  I'm having too much trouble getting modin installed, so it's back to plain old Pandas for now. :-(\n",
    "# import modin.pandas as pd\n",
    "import numpy as np\n",
    "import os\n",
    "import matplotlib.pyplot as plt\n",
    "import seaborn as sns\n",
    "import scipy"
   ]
  },
  {
   "cell_type": "code",
   "execution_count": 10,
   "id": "e03a5b49-8ed1-4fcc-b682-f3bd97122b9d",
   "metadata": {
    "execution": {
     "iopub.execute_input": "2023-06-26T19:04:53.653648Z",
     "iopub.status.busy": "2023-06-26T19:04:53.653134Z",
     "iopub.status.idle": "2023-06-26T19:04:53.660507Z",
     "shell.execute_reply": "2023-06-26T19:04:53.659545Z",
     "shell.execute_reply.started": "2023-06-26T19:04:53.653603Z"
    },
    "tags": []
   },
   "outputs": [],
   "source": [
    "# Import Quandl library for Task 6.6.\n",
    "import quandl"
   ]
  },
  {
   "cell_type": "code",
   "execution_count": 11,
   "id": "dc52bc21-d7c5-44ad-9b00-828c207c477f",
   "metadata": {
    "execution": {
     "iopub.execute_input": "2023-06-26T19:04:53.663198Z",
     "iopub.status.busy": "2023-06-26T19:04:53.662721Z",
     "iopub.status.idle": "2023-06-26T19:04:53.670549Z",
     "shell.execute_reply": "2023-06-26T19:04:53.669885Z",
     "shell.execute_reply.started": "2023-06-26T19:04:53.663155Z"
    },
    "tags": []
   },
   "outputs": [],
   "source": [
    "# Import additional things that are suggested/required for Task 6.6.\n",
    "\n",
    "# TO-DO:  Learn why (or if) it makes sense to import both a library and individual library modules separately.\n",
    "import matplotlib\n",
    "\n",
    "# Using .api imports the public access version of statsmodels, which is a library that handles statistical models.\n",
    "import statsmodels.api as sm\n",
    "\n",
    "import warnings # This is a library that handles warnings.\n",
    "\n",
    "# Disable deprecation warnings that could indicate, for instance, a suspended library or \n",
    "# feature. \"These are more relevant to developers and very seldom to analysts.\" [Really?]\n",
    "warnings.filterwarnings(\"ignore\")\n",
    "\n",
    "# This is a styling option for how your plots will appear. More examples here:\n",
    "# https://matplotlib.org/3.2.1/tutorials/introductory/customizing.html\n",
    "# https://matplotlib.org/3.1.0/gallery/style_sheets/fivethirtyeight.html\n",
    "plt.style.use('fivethirtyeight')"
   ]
  },
  {
   "cell_type": "code",
   "execution_count": 12,
   "id": "fc5ef025-0acf-4599-9dae-9bead38a3038",
   "metadata": {
    "execution": {
     "iopub.execute_input": "2023-06-26T19:04:53.672378Z",
     "iopub.status.busy": "2023-06-26T19:04:53.671814Z",
     "iopub.status.idle": "2023-06-26T19:04:53.866398Z",
     "shell.execute_reply": "2023-06-26T19:04:53.865554Z",
     "shell.execute_reply.started": "2023-06-26T19:04:53.672336Z"
    },
    "tags": []
   },
   "outputs": [],
   "source": [
    "# Import scikit-learn library and select modules for Task 6.4 (see more imports for Task 6.5, next).\n",
    "import sklearn\n",
    "from sklearn.model_selection import train_test_split \n",
    "from sklearn.linear_model import LinearRegression\n",
    "from sklearn.metrics import mean_squared_error, r2_score"
   ]
  },
  {
   "cell_type": "code",
   "execution_count": 13,
   "id": "b8ab6b18-eb5a-44b3-8eac-373bef875f00",
   "metadata": {
    "execution": {
     "iopub.execute_input": "2023-06-26T19:04:53.869989Z",
     "iopub.status.busy": "2023-06-26T19:04:53.868974Z",
     "iopub.status.idle": "2023-06-26T19:04:54.005850Z",
     "shell.execute_reply": "2023-06-26T19:04:54.005133Z",
     "shell.execute_reply.started": "2023-06-26T19:04:53.869949Z"
    }
   },
   "outputs": [],
   "source": [
    "# Import additional modules 'KMeans' and 'pylab' - from the libraries 'scikit-learn' and 'matplotlib', respectively - for Task 6.5\n",
    "from sklearn.cluster import KMeans # Here is where you import the k-means algorithm from scikit-learn.\n",
    "import pylab as pl # PyLab is a convenience module that bulk imports matplotlib.\n",
    "# (Note to self:  learn more about Python imports, particularly why we don't say, \"import matplotlib.pylab as pl\" or \"from matplotlib import pylab ...\")"
   ]
  },
  {
   "cell_type": "code",
   "execution_count": 14,
   "id": "38582940-2db1-4107-848f-2d4d46f7c17f",
   "metadata": {
    "execution": {
     "iopub.execute_input": "2023-06-26T19:04:54.007040Z",
     "iopub.status.busy": "2023-06-26T19:04:54.006762Z",
     "iopub.status.idle": "2023-06-26T19:04:54.246326Z",
     "shell.execute_reply": "2023-06-26T19:04:54.245787Z",
     "shell.execute_reply.started": "2023-06-26T19:04:54.007016Z"
    },
    "tags": []
   },
   "outputs": [],
   "source": [
    "# Import folium and JSON libraries for Task 6.3.\n",
    "import folium\n",
    "import json "
   ]
  },
  {
   "cell_type": "code",
   "execution_count": 15,
   "id": "d7aef6c3-2820-4778-8717-c251fdd6b4b3",
   "metadata": {
    "execution": {
     "iopub.execute_input": "2023-06-26T19:04:54.247857Z",
     "iopub.status.busy": "2023-06-26T19:04:54.247323Z",
     "iopub.status.idle": "2023-06-26T19:04:54.251459Z",
     "shell.execute_reply": "2023-06-26T19:04:54.250489Z",
     "shell.execute_reply.started": "2023-06-26T19:04:54.247831Z"
    },
    "tags": []
   },
   "outputs": [],
   "source": [
    "# For future reference, Exercise 6.2 introduced graphical libraries Bokeh and Plotly.\n",
    "# import bokeh\n",
    "# import plotly"
   ]
  },
  {
   "cell_type": "code",
   "execution_count": 16,
   "id": "c03d0bc3-ad40-4e0b-8ab4-96bc22ae50e8",
   "metadata": {
    "ExecuteTime": {
     "end_time": "2023-06-12T20:08:15.992831Z",
     "start_time": "2023-06-12T20:08:15.988513Z"
    },
    "execution": {
     "iopub.execute_input": "2023-06-26T19:04:54.252591Z",
     "iopub.status.busy": "2023-06-26T19:04:54.252378Z",
     "iopub.status.idle": "2023-06-26T19:04:54.257156Z",
     "shell.execute_reply": "2023-06-26T19:04:54.256279Z",
     "shell.execute_reply.started": "2023-06-26T19:04:54.252568Z"
    }
   },
   "outputs": [],
   "source": [
    "# Starting with Exercise 4.7, import additional libraries I've discovered thanks to Lubov, especially the time library.\n",
    "import time\n",
    "import string\n",
    "import random"
   ]
  },
  {
   "cell_type": "code",
   "execution_count": 17,
   "id": "d5b94446-8e42-4acb-8a74-9943036a3c89",
   "metadata": {
    "ExecuteTime": {
     "end_time": "2023-06-12T20:08:15.999865Z",
     "start_time": "2023-06-12T20:08:15.996013Z"
    },
    "execution": {
     "iopub.execute_input": "2023-06-26T19:04:54.259326Z",
     "iopub.status.busy": "2023-06-26T19:04:54.258738Z",
     "iopub.status.idle": "2023-06-26T19:04:54.263844Z",
     "shell.execute_reply": "2023-06-26T19:04:54.262853Z",
     "shell.execute_reply.started": "2023-06-26T19:04:54.259284Z"
    },
    "tags": []
   },
   "outputs": [],
   "source": [
    "# Import itertools to help loop through lots of things.\n",
    "import itertools"
   ]
  },
  {
   "cell_type": "code",
   "execution_count": 18,
   "id": "2d0cb98a-036c-4f19-83c4-f97d947b5d6e",
   "metadata": {
    "ExecuteTime": {
     "end_time": "2023-06-12T20:08:16.005997Z",
     "start_time": "2023-06-12T20:08:16.002994Z"
    },
    "execution": {
     "iopub.execute_input": "2023-06-26T19:04:54.265697Z",
     "iopub.status.busy": "2023-06-26T19:04:54.265380Z",
     "iopub.status.idle": "2023-06-26T19:04:54.270470Z",
     "shell.execute_reply": "2023-06-26T19:04:54.269614Z",
     "shell.execute_reply.started": "2023-06-26T19:04:54.265662Z"
    }
   },
   "outputs": [],
   "source": [
    "# I want to convert Date-Timestamps into UNIX Epoch time for analysis.\n",
    "from datetime import datetime"
   ]
  },
  {
   "cell_type": "code",
   "execution_count": 19,
   "id": "a7fd6fd6-c695-49ff-aed4-40b1ea564e78",
   "metadata": {
    "ExecuteTime": {
     "end_time": "2023-06-12T20:08:16.011947Z",
     "start_time": "2023-06-12T20:08:16.008775Z"
    },
    "execution": {
     "iopub.execute_input": "2023-06-26T19:04:54.274516Z",
     "iopub.status.busy": "2023-06-26T19:04:54.273605Z",
     "iopub.status.idle": "2023-06-26T19:04:54.279020Z",
     "shell.execute_reply": "2023-06-26T19:04:54.278080Z",
     "shell.execute_reply.started": "2023-06-26T19:04:54.274460Z"
    }
   },
   "outputs": [],
   "source": [
    "# Set a PATH variable."
   ]
  },
  {
   "cell_type": "code",
   "execution_count": 20,
   "id": "26c732c5-fa41-4393-b5de-59678b87263a",
   "metadata": {
    "ExecuteTime": {
     "end_time": "2023-06-12T20:08:16.017084Z",
     "start_time": "2023-06-12T20:08:16.014098Z"
    },
    "execution": {
     "iopub.execute_input": "2023-06-26T19:04:54.281997Z",
     "iopub.status.busy": "2023-06-26T19:04:54.280803Z",
     "iopub.status.idle": "2023-06-26T19:04:54.287066Z",
     "shell.execute_reply": "2023-06-26T19:04:54.285241Z",
     "shell.execute_reply.started": "2023-06-26T19:04:54.281918Z"
    }
   },
   "outputs": [],
   "source": [
    "# Linux PATH, local - Sadly, my Linux system with 8GB of total RAM could not import the full dataset.\n",
    "# I have moved to an AWS EC2 instance that should be able to handle this."
   ]
  },
  {
   "cell_type": "code",
   "execution_count": 21,
   "id": "b6bf9b12-46db-4253-a73d-2b675488b100",
   "metadata": {
    "ExecuteTime": {
     "end_time": "2023-06-12T20:08:16.022791Z",
     "start_time": "2023-06-12T20:08:16.019569Z"
    },
    "execution": {
     "iopub.execute_input": "2023-06-26T19:04:54.290084Z",
     "iopub.status.busy": "2023-06-26T19:04:54.289050Z",
     "iopub.status.idle": "2023-06-26T19:04:54.295038Z",
     "shell.execute_reply": "2023-06-26T19:04:54.294055Z",
     "shell.execute_reply.started": "2023-06-26T19:04:54.290036Z"
    }
   },
   "outputs": [],
   "source": [
    "## path = (r'~/careerfoundry/tasks/data-immersion/Achievement6/Project/02-Data/Original-Data/US-Weather-Events.2016-2021/www.kaggle.com/datasets/sobhanmoosavi/us-weather-events')"
   ]
  },
  {
   "cell_type": "markdown",
   "id": "ca8550e0-a410-4953-89e3-5c5acbc340e9",
   "metadata": {},
   "source": [
    "### # Oh, wow, matplotlib.pyplot.savefig function does not expand the tilde (~) reference in directory paths.  LAME. :("
   ]
  },
  {
   "cell_type": "code",
   "execution_count": 22,
   "id": "434ebe9a-f4ca-4f21-8bf1-7e2bb8e4dc54",
   "metadata": {
    "ExecuteTime": {
     "end_time": "2023-06-12T20:08:16.028756Z",
     "start_time": "2023-06-12T20:08:16.025218Z"
    },
    "execution": {
     "iopub.execute_input": "2023-06-26T19:04:54.297902Z",
     "iopub.status.busy": "2023-06-26T19:04:54.296876Z",
     "iopub.status.idle": "2023-06-26T19:04:54.303400Z",
     "shell.execute_reply": "2023-06-26T19:04:54.302240Z",
     "shell.execute_reply.started": "2023-06-26T19:04:54.297851Z"
    }
   },
   "outputs": [],
   "source": [
    "path = (r'/home/ubuntu/careerfoundry/tasks/data-immersion/Achievement6/Project/')"
   ]
  },
  {
   "cell_type": "code",
   "execution_count": 23,
   "id": "0735547a-cc63-40e5-9c98-93758f5dd2c4",
   "metadata": {
    "ExecuteTime": {
     "end_time": "2023-06-12T20:08:16.036588Z",
     "start_time": "2023-06-12T20:08:16.032541Z"
    },
    "execution": {
     "iopub.execute_input": "2023-06-26T19:04:54.304703Z",
     "iopub.status.busy": "2023-06-26T19:04:54.304490Z",
     "iopub.status.idle": "2023-06-26T19:04:54.308996Z",
     "shell.execute_reply": "2023-06-26T19:04:54.308351Z",
     "shell.execute_reply.started": "2023-06-26T19:04:54.304680Z"
    }
   },
   "outputs": [],
   "source": [
    "# windoze PATH - The windoze laptop I bought for Excel and Tableau also has 16GB of RAM."
   ]
  },
  {
   "cell_type": "code",
   "execution_count": 24,
   "id": "0a035d08-99b0-4bbe-9cea-06422afbee1a",
   "metadata": {
    "ExecuteTime": {
     "end_time": "2023-06-12T20:08:16.045467Z",
     "start_time": "2023-06-12T20:08:16.042321Z"
    },
    "execution": {
     "iopub.execute_input": "2023-06-26T19:04:54.311036Z",
     "iopub.status.busy": "2023-06-26T19:04:54.310150Z",
     "iopub.status.idle": "2023-06-26T19:04:54.314298Z",
     "shell.execute_reply": "2023-06-26T19:04:54.313519Z",
     "shell.execute_reply.started": "2023-06-26T19:04:54.311008Z"
    },
    "tags": []
   },
   "outputs": [],
   "source": [
    "## path = (r'C:\\Users\\emccc\\OneDrive\\Documents\\CareerFoundry\\Achievement-4\\Instacart-Basket-Analysis')"
   ]
  },
  {
   "cell_type": "code",
   "execution_count": 25,
   "id": "92cc75cd-86df-4204-bbd4-21b581a3d624",
   "metadata": {
    "execution": {
     "iopub.execute_input": "2023-06-26T19:04:54.316774Z",
     "iopub.status.busy": "2023-06-26T19:04:54.315623Z",
     "iopub.status.idle": "2023-06-26T19:04:54.326044Z",
     "shell.execute_reply": "2023-06-26T19:04:54.324672Z",
     "shell.execute_reply.started": "2023-06-26T19:04:54.316529Z"
    },
    "tags": []
   },
   "outputs": [],
   "source": [
    "# This command propts matplotlib visuals to appear in the notebook.\n",
    "# This option ensures that the graphs you create are displayed within the notebook without the need to \"call\" them specifically.\n",
    "\n",
    "%matplotlib inline"
   ]
  },
  {
   "cell_type": "markdown",
   "id": "88d6abf4-8ec3-49f2-96c8-2605b19653e1",
   "metadata": {},
   "source": [
    "# BE SURE TO CENSOR THE FOLLOWING LINE BEFORE SHARING OR PUBLISHING THIS NOTEBOOK."
   ]
  },
  {
   "cell_type": "code",
   "execution_count": 26,
   "id": "01b4fc13-82b0-4185-89d7-4d722fe1de61",
   "metadata": {
    "execution": {
     "iopub.execute_input": "2023-06-26T19:04:54.328506Z",
     "iopub.status.busy": "2023-06-26T19:04:54.328089Z",
     "iopub.status.idle": "2023-06-26T19:04:54.333441Z",
     "shell.execute_reply": "2023-06-26T19:04:54.332507Z",
     "shell.execute_reply.started": "2023-06-26T19:04:54.328467Z"
    }
   },
   "outputs": [],
   "source": [
    "# Configure Quandl API key \n",
    "\n",
    "quandl.ApiConfig.api_key = 'RtifXytrs5NXsswGKz_j'"
   ]
  },
  {
   "cell_type": "markdown",
   "id": "8ac353b4-f1ef-4cb1-a83c-ba7d277ec09e",
   "metadata": {},
   "source": [
    "# BE SURE TO CENSOR THE PRECEDING LINE BEFORE SHARING OR PUBLISHING THIS NOTEBOOK."
   ]
  },
  {
   "cell_type": "markdown",
   "id": "29f892a5-112d-443d-82df-82780bc68be3",
   "metadata": {},
   "source": [
    "# Step 1:  Install the Quandl library and register for a Quandl account as described in the Exercise."
   ]
  },
  {
   "cell_type": "markdown",
   "id": "cdf526b6-994e-4a95-8367-6d51a6f1508f",
   "metadata": {},
   "source": [
    "## Done among the lines of code, above."
   ]
  },
  {
   "cell_type": "markdown",
   "id": "f5ecc991-4b0b-44eb-9802-4a7d1de3ebf0",
   "metadata": {},
   "source": [
    "# Step 2:  Find a data set to work and import it into your Jupyter notebook.\n",
    "## Ensure that this data somehow connects to the broader research topic for your Achievement project.\n",
    "## The best data set would be one that shares a common key with your main data set, such as a geographic component, so you can merge the data, but this could be difficult to find, so it’s not a requirement."
   ]
  },
  {
   "cell_type": "markdown",
   "id": "748f4574-dabb-4092-8b33-47f48a7cca09",
   "metadata": {},
   "source": [
    "### Grr, I was thinking that the FOMC Summary of Economic Projections for the Fed Funds Rate, Range, Midpoint (Quandl code:  FRED/FEDTARRM) looked interesting, but it's not likely to be related to my main research project for this achievement."
   ]
  },
  {
   "cell_type": "markdown",
   "id": "16416f90-69da-4832-95a6-8061e2471a8b",
   "metadata": {},
   "source": [
    "## Exploring Zillow Real Estate Data in Qandl (now a/k/a Nasdaq \n",
    "### See https://data.nasdaq.com/databases/ZILLOW/documentation for more information."
   ]
  },
  {
   "cell_type": "code",
   "execution_count": 27,
   "id": "4c70fe90-86ad-4e9c-bf39-b6163b1f32e2",
   "metadata": {
    "execution": {
     "iopub.execute_input": "2023-06-26T19:04:54.335773Z",
     "iopub.status.busy": "2023-06-26T19:04:54.334645Z",
     "iopub.status.idle": "2023-06-26T19:04:54.341232Z",
     "shell.execute_reply": "2023-06-26T19:04:54.339899Z",
     "shell.execute_reply.started": "2023-06-26T19:04:54.335691Z"
    },
    "tags": []
   },
   "outputs": [],
   "source": [
    "#data = quandl.get('ZILLOW/DATA')"
   ]
  },
  {
   "cell_type": "code",
   "execution_count": 28,
   "id": "f1269461-ec78-4f09-907e-fe83dc854f7e",
   "metadata": {
    "execution": {
     "iopub.execute_input": "2023-06-26T19:04:54.343267Z",
     "iopub.status.busy": "2023-06-26T19:04:54.342903Z",
     "iopub.status.idle": "2023-06-26T19:04:56.865843Z",
     "shell.execute_reply": "2023-06-26T19:04:56.865302Z",
     "shell.execute_reply.started": "2023-06-26T19:04:54.343235Z"
    },
    "tags": []
   },
   "outputs": [
    {
     "data": {
      "text/html": [
       "<div>\n",
       "<style scoped>\n",
       "    .dataframe tbody tr th:only-of-type {\n",
       "        vertical-align: middle;\n",
       "    }\n",
       "\n",
       "    .dataframe tbody tr th {\n",
       "        vertical-align: top;\n",
       "    }\n",
       "\n",
       "    .dataframe thead th {\n",
       "        text-align: right;\n",
       "    }\n",
       "</style>\n",
       "<table border=\"1\" class=\"dataframe\">\n",
       "  <thead>\n",
       "    <tr style=\"text-align: right;\">\n",
       "      <th></th>\n",
       "      <th>indicator_id</th>\n",
       "      <th>region_id</th>\n",
       "      <th>date</th>\n",
       "      <th>value</th>\n",
       "    </tr>\n",
       "    <tr>\n",
       "      <th>None</th>\n",
       "      <th></th>\n",
       "      <th></th>\n",
       "      <th></th>\n",
       "      <th></th>\n",
       "    </tr>\n",
       "  </thead>\n",
       "  <tbody>\n",
       "    <tr>\n",
       "      <th>0</th>\n",
       "      <td>ZSFH</td>\n",
       "      <td>99999</td>\n",
       "      <td>2023-05-31</td>\n",
       "      <td>475773.959428</td>\n",
       "    </tr>\n",
       "    <tr>\n",
       "      <th>1</th>\n",
       "      <td>ZSFH</td>\n",
       "      <td>99999</td>\n",
       "      <td>2023-04-30</td>\n",
       "      <td>475808.561280</td>\n",
       "    </tr>\n",
       "    <tr>\n",
       "      <th>2</th>\n",
       "      <td>ZSFH</td>\n",
       "      <td>99999</td>\n",
       "      <td>2023-03-31</td>\n",
       "      <td>478245.160686</td>\n",
       "    </tr>\n",
       "    <tr>\n",
       "      <th>3</th>\n",
       "      <td>ZSFH</td>\n",
       "      <td>99999</td>\n",
       "      <td>2023-02-28</td>\n",
       "      <td>447694.734130</td>\n",
       "    </tr>\n",
       "    <tr>\n",
       "      <th>4</th>\n",
       "      <td>ZSFH</td>\n",
       "      <td>99999</td>\n",
       "      <td>2023-01-31</td>\n",
       "      <td>442532.972885</td>\n",
       "    </tr>\n",
       "    <tr>\n",
       "      <th>...</th>\n",
       "      <td>...</td>\n",
       "      <td>...</td>\n",
       "      <td>...</td>\n",
       "      <td>...</td>\n",
       "    </tr>\n",
       "    <tr>\n",
       "      <th>9995</th>\n",
       "      <td>ZSFH</td>\n",
       "      <td>99958</td>\n",
       "      <td>2007-06-30</td>\n",
       "      <td>73940.000000</td>\n",
       "    </tr>\n",
       "    <tr>\n",
       "      <th>9996</th>\n",
       "      <td>ZSFH</td>\n",
       "      <td>99958</td>\n",
       "      <td>2007-05-31</td>\n",
       "      <td>74039.000000</td>\n",
       "    </tr>\n",
       "    <tr>\n",
       "      <th>9997</th>\n",
       "      <td>ZSFH</td>\n",
       "      <td>99958</td>\n",
       "      <td>2007-04-30</td>\n",
       "      <td>74159.000000</td>\n",
       "    </tr>\n",
       "    <tr>\n",
       "      <th>9998</th>\n",
       "      <td>ZSFH</td>\n",
       "      <td>99958</td>\n",
       "      <td>2007-03-31</td>\n",
       "      <td>74214.000000</td>\n",
       "    </tr>\n",
       "    <tr>\n",
       "      <th>9999</th>\n",
       "      <td>ZSFH</td>\n",
       "      <td>99958</td>\n",
       "      <td>2007-02-28</td>\n",
       "      <td>74252.000000</td>\n",
       "    </tr>\n",
       "  </tbody>\n",
       "</table>\n",
       "<p>10000 rows × 4 columns</p>\n",
       "</div>"
      ],
      "text/plain": [
       "     indicator_id region_id       date          value\n",
       "None                                                 \n",
       "0            ZSFH     99999 2023-05-31  475773.959428\n",
       "1            ZSFH     99999 2023-04-30  475808.561280\n",
       "2            ZSFH     99999 2023-03-31  478245.160686\n",
       "3            ZSFH     99999 2023-02-28  447694.734130\n",
       "4            ZSFH     99999 2023-01-31  442532.972885\n",
       "...           ...       ...        ...            ...\n",
       "9995         ZSFH     99958 2007-06-30   73940.000000\n",
       "9996         ZSFH     99958 2007-05-31   74039.000000\n",
       "9997         ZSFH     99958 2007-04-30   74159.000000\n",
       "9998         ZSFH     99958 2007-03-31   74214.000000\n",
       "9999         ZSFH     99958 2007-02-28   74252.000000\n",
       "\n",
       "[10000 rows x 4 columns]"
      ]
     },
     "execution_count": 28,
     "metadata": {},
     "output_type": "execute_result"
    }
   ],
   "source": [
    "quandl.get_table('ZILLOW/DATA', indicator_id='ZSFH')"
   ]
  },
  {
   "cell_type": "code",
   "execution_count": 29,
   "id": "c4e69b2d-5636-447d-8e24-8532a7f8b02f",
   "metadata": {
    "execution": {
     "iopub.execute_input": "2023-06-26T19:11:48.057092Z",
     "iopub.status.busy": "2023-06-26T19:11:48.056846Z",
     "iopub.status.idle": "2023-06-26T19:11:48.723813Z",
     "shell.execute_reply": "2023-06-26T19:11:48.722700Z",
     "shell.execute_reply.started": "2023-06-26T19:11:48.057067Z"
    },
    "tags": []
   },
   "outputs": [
    {
     "data": {
      "text/html": [
       "<div>\n",
       "<style scoped>\n",
       "    .dataframe tbody tr th:only-of-type {\n",
       "        vertical-align: middle;\n",
       "    }\n",
       "\n",
       "    .dataframe tbody tr th {\n",
       "        vertical-align: top;\n",
       "    }\n",
       "\n",
       "    .dataframe thead th {\n",
       "        text-align: right;\n",
       "    }\n",
       "</style>\n",
       "<table border=\"1\" class=\"dataframe\">\n",
       "  <thead>\n",
       "    <tr style=\"text-align: right;\">\n",
       "      <th></th>\n",
       "      <th>region_id</th>\n",
       "      <th>region_type</th>\n",
       "      <th>region</th>\n",
       "    </tr>\n",
       "    <tr>\n",
       "      <th>None</th>\n",
       "      <th></th>\n",
       "      <th></th>\n",
       "      <th></th>\n",
       "    </tr>\n",
       "  </thead>\n",
       "  <tbody>\n",
       "    <tr>\n",
       "      <th>0</th>\n",
       "      <td>99999</td>\n",
       "      <td>zip</td>\n",
       "      <td>98847; WA; Wenatchee, WA; Chelan County; Pesha...</td>\n",
       "    </tr>\n",
       "    <tr>\n",
       "      <th>1</th>\n",
       "      <td>99998</td>\n",
       "      <td>zip</td>\n",
       "      <td>98846; WA; Okanogan County; Pateros</td>\n",
       "    </tr>\n",
       "    <tr>\n",
       "      <th>2</th>\n",
       "      <td>99997</td>\n",
       "      <td>zip</td>\n",
       "      <td>98845; WA; Wenatchee; Douglas County; Palisades</td>\n",
       "    </tr>\n",
       "    <tr>\n",
       "      <th>3</th>\n",
       "      <td>99996</td>\n",
       "      <td>zip</td>\n",
       "      <td>98844; WA; Okanogan County; Oroville</td>\n",
       "    </tr>\n",
       "    <tr>\n",
       "      <th>4</th>\n",
       "      <td>99995</td>\n",
       "      <td>zip</td>\n",
       "      <td>98843; WA; Wenatchee, WA; Douglas County; Orondo</td>\n",
       "    </tr>\n",
       "    <tr>\n",
       "      <th>...</th>\n",
       "      <td>...</td>\n",
       "      <td>...</td>\n",
       "      <td>...</td>\n",
       "    </tr>\n",
       "    <tr>\n",
       "      <th>9995</th>\n",
       "      <td>87003</td>\n",
       "      <td>zip</td>\n",
       "      <td>65783; MO; Springfield, MO; Dallas County; Win...</td>\n",
       "    </tr>\n",
       "    <tr>\n",
       "      <th>9996</th>\n",
       "      <td>87002</td>\n",
       "      <td>zip</td>\n",
       "      <td>65781; MO; Springfield, MO; Greene County; Wil...</td>\n",
       "    </tr>\n",
       "    <tr>\n",
       "      <th>9997</th>\n",
       "      <td>87001</td>\n",
       "      <td>zip</td>\n",
       "      <td>65779; MO; Hickory County; Hermitage</td>\n",
       "    </tr>\n",
       "    <tr>\n",
       "      <th>9998</th>\n",
       "      <td>87000</td>\n",
       "      <td>zip</td>\n",
       "      <td>65778; MO; Oregon County; Myrtle</td>\n",
       "    </tr>\n",
       "    <tr>\n",
       "      <th>9999</th>\n",
       "      <td>870</td>\n",
       "      <td>county</td>\n",
       "      <td>Benton County; OR; Corvallis, OR</td>\n",
       "    </tr>\n",
       "  </tbody>\n",
       "</table>\n",
       "<p>10000 rows × 3 columns</p>\n",
       "</div>"
      ],
      "text/plain": [
       "     region_id region_type                                             region\n",
       "None                                                                         \n",
       "0        99999         zip  98847; WA; Wenatchee, WA; Chelan County; Pesha...\n",
       "1        99998         zip                98846; WA; Okanogan County; Pateros\n",
       "2        99997         zip    98845; WA; Wenatchee; Douglas County; Palisades\n",
       "3        99996         zip               98844; WA; Okanogan County; Oroville\n",
       "4        99995         zip   98843; WA; Wenatchee, WA; Douglas County; Orondo\n",
       "...        ...         ...                                                ...\n",
       "9995     87003         zip  65783; MO; Springfield, MO; Dallas County; Win...\n",
       "9996     87002         zip  65781; MO; Springfield, MO; Greene County; Wil...\n",
       "9997     87001         zip               65779; MO; Hickory County; Hermitage\n",
       "9998     87000         zip                   65778; MO; Oregon County; Myrtle\n",
       "9999       870      county                   Benton County; OR; Corvallis, OR\n",
       "\n",
       "[10000 rows x 3 columns]"
      ]
     },
     "execution_count": 29,
     "metadata": {},
     "output_type": "execute_result"
    }
   ],
   "source": [
    "quandl.get_table('ZILLOW/REGIONS')"
   ]
  },
  {
   "cell_type": "code",
   "execution_count": 30,
   "id": "bc2d5a38-481c-41e5-a3a0-4e05de246713",
   "metadata": {
    "execution": {
     "iopub.execute_input": "2023-06-26T19:13:24.675439Z",
     "iopub.status.busy": "2023-06-26T19:13:24.675203Z",
     "iopub.status.idle": "2023-06-26T19:13:25.260593Z",
     "shell.execute_reply": "2023-06-26T19:13:25.259878Z",
     "shell.execute_reply.started": "2023-06-26T19:13:24.675416Z"
    },
    "tags": []
   },
   "outputs": [],
   "source": [
    "df_zillow_regions = quandl.get_table('ZILLOW/REGIONS')"
   ]
  },
  {
   "cell_type": "code",
   "execution_count": 44,
   "id": "06513f46-a466-4f56-8bb3-c045766549d0",
   "metadata": {
    "execution": {
     "iopub.execute_input": "2023-06-26T19:26:46.439891Z",
     "iopub.status.busy": "2023-06-26T19:26:46.439640Z",
     "iopub.status.idle": "2023-06-26T19:26:46.445667Z",
     "shell.execute_reply": "2023-06-26T19:26:46.445099Z",
     "shell.execute_reply.started": "2023-06-26T19:26:46.439866Z"
    },
    "tags": []
   },
   "outputs": [
    {
     "data": {
      "text/plain": [
       "region_id      object\n",
       "region_type    object\n",
       "region         object\n",
       "dtype: object"
      ]
     },
     "execution_count": 44,
     "metadata": {},
     "output_type": "execute_result"
    }
   ],
   "source": [
    "df_zillow_regions.dtypes"
   ]
  },
  {
   "cell_type": "code",
   "execution_count": 33,
   "id": "9030374b-1abd-40c5-bc6f-0901215e3cde",
   "metadata": {
    "execution": {
     "iopub.execute_input": "2023-06-26T19:14:09.942068Z",
     "iopub.status.busy": "2023-06-26T19:14:09.941835Z",
     "iopub.status.idle": "2023-06-26T19:14:09.953643Z",
     "shell.execute_reply": "2023-06-26T19:14:09.952526Z",
     "shell.execute_reply.started": "2023-06-26T19:14:09.942044Z"
    },
    "tags": []
   },
   "outputs": [
    {
     "data": {
      "text/plain": [
       "zip       9256\n",
       "city       595\n",
       "county     133\n",
       "neigh       15\n",
       "state        1\n",
       "Name: region_type, dtype: int64"
      ]
     },
     "execution_count": 33,
     "metadata": {},
     "output_type": "execute_result"
    }
   ],
   "source": [
    "df_zillow_regions['region_type'].value_counts()"
   ]
  },
  {
   "cell_type": "code",
   "execution_count": 35,
   "id": "01f049df-1df8-48ee-a406-cbe2c8a71366",
   "metadata": {
    "execution": {
     "iopub.execute_input": "2023-06-26T19:17:28.067605Z",
     "iopub.status.busy": "2023-06-26T19:17:28.067342Z",
     "iopub.status.idle": "2023-06-26T19:17:28.086094Z",
     "shell.execute_reply": "2023-06-26T19:17:28.085481Z",
     "shell.execute_reply.started": "2023-06-26T19:17:28.067581Z"
    },
    "tags": []
   },
   "outputs": [
    {
     "data": {
      "text/html": [
       "<div>\n",
       "<style scoped>\n",
       "    .dataframe tbody tr th:only-of-type {\n",
       "        vertical-align: middle;\n",
       "    }\n",
       "\n",
       "    .dataframe tbody tr th {\n",
       "        vertical-align: top;\n",
       "    }\n",
       "\n",
       "    .dataframe thead th {\n",
       "        text-align: right;\n",
       "    }\n",
       "</style>\n",
       "<table border=\"1\" class=\"dataframe\">\n",
       "  <thead>\n",
       "    <tr style=\"text-align: right;\">\n",
       "      <th></th>\n",
       "      <th>region_id</th>\n",
       "      <th>region_type</th>\n",
       "      <th>region</th>\n",
       "    </tr>\n",
       "    <tr>\n",
       "      <th>None</th>\n",
       "      <th></th>\n",
       "      <th></th>\n",
       "      <th></th>\n",
       "    </tr>\n",
       "  </thead>\n",
       "  <tbody>\n",
       "    <tr>\n",
       "      <th>933</th>\n",
       "      <td>988</td>\n",
       "      <td>county</td>\n",
       "      <td>Denton County; TX; Dallas-Fort Worth-Arlington...</td>\n",
       "    </tr>\n",
       "    <tr>\n",
       "      <th>1381</th>\n",
       "      <td>982</td>\n",
       "      <td>county</td>\n",
       "      <td>Dawson County; TX; Lamesa, TX</td>\n",
       "    </tr>\n",
       "    <tr>\n",
       "      <th>1543</th>\n",
       "      <td>98</td>\n",
       "      <td>county</td>\n",
       "      <td>Bell County; TX; Killeen-Temple, TX</td>\n",
       "    </tr>\n",
       "    <tr>\n",
       "      <th>1677</th>\n",
       "      <td>978</td>\n",
       "      <td>county</td>\n",
       "      <td>Dallas County; TX; Dallas-Fort Worth-Arlington...</td>\n",
       "    </tr>\n",
       "    <tr>\n",
       "      <th>2625</th>\n",
       "      <td>963</td>\n",
       "      <td>county</td>\n",
       "      <td>Crosby County; TX; Lubbock, TX</td>\n",
       "    </tr>\n",
       "    <tr>\n",
       "      <th>3370</th>\n",
       "      <td>951</td>\n",
       "      <td>county</td>\n",
       "      <td>Collin County; TX; Dallas-Fort Worth-Arlington...</td>\n",
       "    </tr>\n",
       "    <tr>\n",
       "      <th>5911</th>\n",
       "      <td>918</td>\n",
       "      <td>county</td>\n",
       "      <td>Carson County; TX; Amarillo, TX</td>\n",
       "    </tr>\n",
       "    <tr>\n",
       "      <th>8264</th>\n",
       "      <td>890</td>\n",
       "      <td>county</td>\n",
       "      <td>Brazos County; TX; College Station-Bryan, TX</td>\n",
       "    </tr>\n",
       "  </tbody>\n",
       "</table>\n",
       "</div>"
      ],
      "text/plain": [
       "     region_id region_type                                             region\n",
       "None                                                                         \n",
       "933        988      county  Denton County; TX; Dallas-Fort Worth-Arlington...\n",
       "1381       982      county                      Dawson County; TX; Lamesa, TX\n",
       "1543        98      county                Bell County; TX; Killeen-Temple, TX\n",
       "1677       978      county  Dallas County; TX; Dallas-Fort Worth-Arlington...\n",
       "2625       963      county                     Crosby County; TX; Lubbock, TX\n",
       "3370       951      county  Collin County; TX; Dallas-Fort Worth-Arlington...\n",
       "5911       918      county                    Carson County; TX; Amarillo, TX\n",
       "8264       890      county       Brazos County; TX; College Station-Bryan, TX"
      ]
     },
     "execution_count": 35,
     "metadata": {},
     "output_type": "execute_result"
    }
   ],
   "source": [
    "df_zillow_regions.loc[df_zillow_regions['region'].str.endswith(', TX')]"
   ]
  },
  {
   "cell_type": "code",
   "execution_count": 52,
   "id": "8dabf1d4-ac90-486b-b98d-5d9c9b251bb9",
   "metadata": {
    "execution": {
     "iopub.execute_input": "2023-06-26T19:47:44.907424Z",
     "iopub.status.busy": "2023-06-26T19:47:44.907176Z",
     "iopub.status.idle": "2023-06-26T19:47:44.911329Z",
     "shell.execute_reply": "2023-06-26T19:47:44.910717Z",
     "shell.execute_reply.started": "2023-06-26T19:47:44.907400Z"
    },
    "tags": []
   },
   "outputs": [],
   "source": [
    "pd.set_option('display.max_columns', None)   # Show all columns\n",
    "pd.set_option('display.max_colwidth', None)  # Set display option to show the full contents of each column\n",
    "# The following is the code to reset these, if needed:\n",
    "# pd.reset_option('display.max_columns')\n",
    "# pd.reset_option('display.max_colwidth')"
   ]
  },
  {
   "cell_type": "code",
   "execution_count": 53,
   "id": "ade3dc6b-cd25-463b-accc-4109ad71ca58",
   "metadata": {
    "execution": {
     "iopub.execute_input": "2023-06-26T19:47:44.924837Z",
     "iopub.status.busy": "2023-06-26T19:47:44.924222Z",
     "iopub.status.idle": "2023-06-26T19:47:44.943326Z",
     "shell.execute_reply": "2023-06-26T19:47:44.942592Z",
     "shell.execute_reply.started": "2023-06-26T19:47:44.924810Z"
    },
    "tags": []
   },
   "outputs": [
    {
     "data": {
      "text/html": [
       "<div>\n",
       "<style scoped>\n",
       "    .dataframe tbody tr th:only-of-type {\n",
       "        vertical-align: middle;\n",
       "    }\n",
       "\n",
       "    .dataframe tbody tr th {\n",
       "        vertical-align: top;\n",
       "    }\n",
       "\n",
       "    .dataframe thead th {\n",
       "        text-align: right;\n",
       "    }\n",
       "</style>\n",
       "<table border=\"1\" class=\"dataframe\">\n",
       "  <thead>\n",
       "    <tr style=\"text-align: right;\">\n",
       "      <th></th>\n",
       "      <th>region_id</th>\n",
       "      <th>region_type</th>\n",
       "      <th>region</th>\n",
       "    </tr>\n",
       "    <tr>\n",
       "      <th>None</th>\n",
       "      <th></th>\n",
       "      <th></th>\n",
       "      <th></th>\n",
       "    </tr>\n",
       "  </thead>\n",
       "  <tbody>\n",
       "    <tr>\n",
       "      <th>320</th>\n",
       "      <td>9961</td>\n",
       "      <td>city</td>\n",
       "      <td>San Patricio; TX; Corpus Christi, TX; San Patricio County</td>\n",
       "    </tr>\n",
       "    <tr>\n",
       "      <th>933</th>\n",
       "      <td>988</td>\n",
       "      <td>county</td>\n",
       "      <td>Denton County; TX; Dallas-Fort Worth-Arlington, TX</td>\n",
       "    </tr>\n",
       "    <tr>\n",
       "      <th>1086</th>\n",
       "      <td>9852</td>\n",
       "      <td>city</td>\n",
       "      <td>Combes; TX; Brownsville-Harlingen, TX; Cameron County</td>\n",
       "    </tr>\n",
       "    <tr>\n",
       "      <th>1381</th>\n",
       "      <td>982</td>\n",
       "      <td>county</td>\n",
       "      <td>Dawson County; TX; Lamesa, TX</td>\n",
       "    </tr>\n",
       "    <tr>\n",
       "      <th>1463</th>\n",
       "      <td>9811</td>\n",
       "      <td>city</td>\n",
       "      <td>De Kalb; TX; Texarkana, TX-AR; Bowie County</td>\n",
       "    </tr>\n",
       "    <tr>\n",
       "      <th>...</th>\n",
       "      <td>...</td>\n",
       "      <td>...</td>\n",
       "      <td>...</td>\n",
       "    </tr>\n",
       "    <tr>\n",
       "      <th>8099</th>\n",
       "      <td>89208</td>\n",
       "      <td>zip</td>\n",
       "      <td>71822; AR; Texarkana, TX-AR; Little River County; Ashdown</td>\n",
       "    </tr>\n",
       "    <tr>\n",
       "      <th>8264</th>\n",
       "      <td>890</td>\n",
       "      <td>county</td>\n",
       "      <td>Brazos County; TX; College Station-Bryan, TX</td>\n",
       "    </tr>\n",
       "    <tr>\n",
       "      <th>8469</th>\n",
       "      <td>8872</td>\n",
       "      <td>city</td>\n",
       "      <td>Muenster; TX; Gainesville, TX; Cooke County</td>\n",
       "    </tr>\n",
       "    <tr>\n",
       "      <th>8731</th>\n",
       "      <td>8835</td>\n",
       "      <td>city</td>\n",
       "      <td>Mount Enterprise; TX; Longview, TX; Rusk County</td>\n",
       "    </tr>\n",
       "    <tr>\n",
       "      <th>9870</th>\n",
       "      <td>8714</td>\n",
       "      <td>city</td>\n",
       "      <td>Foreman; AR; Texarkana, TX-AR; Little River County</td>\n",
       "    </tr>\n",
       "  </tbody>\n",
       "</table>\n",
       "<p>1093 rows × 3 columns</p>\n",
       "</div>"
      ],
      "text/plain": [
       "     region_id region_type  \\\n",
       "None                         \n",
       "320       9961        city   \n",
       "933        988      county   \n",
       "1086      9852        city   \n",
       "1381       982      county   \n",
       "1463      9811        city   \n",
       "...        ...         ...   \n",
       "8099     89208         zip   \n",
       "8264       890      county   \n",
       "8469      8872        city   \n",
       "8731      8835        city   \n",
       "9870      8714        city   \n",
       "\n",
       "                                                         region  \n",
       "None                                                             \n",
       "320   San Patricio; TX; Corpus Christi, TX; San Patricio County  \n",
       "933          Denton County; TX; Dallas-Fort Worth-Arlington, TX  \n",
       "1086      Combes; TX; Brownsville-Harlingen, TX; Cameron County  \n",
       "1381                              Dawson County; TX; Lamesa, TX  \n",
       "1463                De Kalb; TX; Texarkana, TX-AR; Bowie County  \n",
       "...                                                         ...  \n",
       "8099  71822; AR; Texarkana, TX-AR; Little River County; Ashdown  \n",
       "8264               Brazos County; TX; College Station-Bryan, TX  \n",
       "8469                Muenster; TX; Gainesville, TX; Cooke County  \n",
       "8731            Mount Enterprise; TX; Longview, TX; Rusk County  \n",
       "9870         Foreman; AR; Texarkana, TX-AR; Little River County  \n",
       "\n",
       "[1093 rows x 3 columns]"
      ]
     },
     "execution_count": 53,
     "metadata": {},
     "output_type": "execute_result"
    }
   ],
   "source": [
    "df_zillow_regions.loc[df_zillow_regions['region'].str.contains(', TX')]"
   ]
  },
  {
   "cell_type": "code",
   "execution_count": 54,
   "id": "ade1a2ce-3a1d-45da-950f-1693e1779543",
   "metadata": {
    "execution": {
     "iopub.execute_input": "2023-06-26T19:47:44.944801Z",
     "iopub.status.busy": "2023-06-26T19:47:44.944592Z",
     "iopub.status.idle": "2023-06-26T19:47:44.963620Z",
     "shell.execute_reply": "2023-06-26T19:47:44.962626Z",
     "shell.execute_reply.started": "2023-06-26T19:47:44.944777Z"
    },
    "tags": []
   },
   "outputs": [
    {
     "data": {
      "text/html": [
       "<div>\n",
       "<style scoped>\n",
       "    .dataframe tbody tr th:only-of-type {\n",
       "        vertical-align: middle;\n",
       "    }\n",
       "\n",
       "    .dataframe tbody tr th {\n",
       "        vertical-align: top;\n",
       "    }\n",
       "\n",
       "    .dataframe thead th {\n",
       "        text-align: right;\n",
       "    }\n",
       "</style>\n",
       "<table border=\"1\" class=\"dataframe\">\n",
       "  <thead>\n",
       "    <tr style=\"text-align: right;\">\n",
       "      <th></th>\n",
       "      <th>region_id</th>\n",
       "      <th>region_type</th>\n",
       "      <th>region</th>\n",
       "    </tr>\n",
       "    <tr>\n",
       "      <th>None</th>\n",
       "      <th></th>\n",
       "      <th></th>\n",
       "      <th></th>\n",
       "    </tr>\n",
       "  </thead>\n",
       "  <tbody>\n",
       "    <tr>\n",
       "      <th>933</th>\n",
       "      <td>988</td>\n",
       "      <td>county</td>\n",
       "      <td>Denton County; TX; Dallas-Fort Worth-Arlington, TX</td>\n",
       "    </tr>\n",
       "    <tr>\n",
       "      <th>1381</th>\n",
       "      <td>982</td>\n",
       "      <td>county</td>\n",
       "      <td>Dawson County; TX; Lamesa, TX</td>\n",
       "    </tr>\n",
       "    <tr>\n",
       "      <th>1543</th>\n",
       "      <td>98</td>\n",
       "      <td>county</td>\n",
       "      <td>Bell County; TX; Killeen-Temple, TX</td>\n",
       "    </tr>\n",
       "    <tr>\n",
       "      <th>1677</th>\n",
       "      <td>978</td>\n",
       "      <td>county</td>\n",
       "      <td>Dallas County; TX; Dallas-Fort Worth-Arlington, TX</td>\n",
       "    </tr>\n",
       "    <tr>\n",
       "      <th>2625</th>\n",
       "      <td>963</td>\n",
       "      <td>county</td>\n",
       "      <td>Crosby County; TX; Lubbock, TX</td>\n",
       "    </tr>\n",
       "    <tr>\n",
       "      <th>3370</th>\n",
       "      <td>951</td>\n",
       "      <td>county</td>\n",
       "      <td>Collin County; TX; Dallas-Fort Worth-Arlington, TX</td>\n",
       "    </tr>\n",
       "    <tr>\n",
       "      <th>5911</th>\n",
       "      <td>918</td>\n",
       "      <td>county</td>\n",
       "      <td>Carson County; TX; Amarillo, TX</td>\n",
       "    </tr>\n",
       "    <tr>\n",
       "      <th>8264</th>\n",
       "      <td>890</td>\n",
       "      <td>county</td>\n",
       "      <td>Brazos County; TX; College Station-Bryan, TX</td>\n",
       "    </tr>\n",
       "  </tbody>\n",
       "</table>\n",
       "</div>"
      ],
      "text/plain": [
       "     region_id region_type                                              region\n",
       "None                                                                          \n",
       "933        988      county  Denton County; TX; Dallas-Fort Worth-Arlington, TX\n",
       "1381       982      county                       Dawson County; TX; Lamesa, TX\n",
       "1543        98      county                 Bell County; TX; Killeen-Temple, TX\n",
       "1677       978      county  Dallas County; TX; Dallas-Fort Worth-Arlington, TX\n",
       "2625       963      county                      Crosby County; TX; Lubbock, TX\n",
       "3370       951      county  Collin County; TX; Dallas-Fort Worth-Arlington, TX\n",
       "5911       918      county                     Carson County; TX; Amarillo, TX\n",
       "8264       890      county        Brazos County; TX; College Station-Bryan, TX"
      ]
     },
     "execution_count": 54,
     "metadata": {},
     "output_type": "execute_result"
    }
   ],
   "source": [
    "df_zillow_regions.loc[(df_zillow_regions['region'].str.contains(', TX')) & (df_zillow_regions['region_type'] == 'county')]"
   ]
  },
  {
   "cell_type": "markdown",
   "id": "04656868-9d11-4e3e-af01-80613a97290a",
   "metadata": {},
   "source": [
    "## I'm not confident that the matches for \", TX\" in non-county regions are necessarily in the state of Texas.\n",
    "## Some, like region_id 8714, appear to overlap with parts of Arkansas."
   ]
  },
  {
   "cell_type": "code",
   "execution_count": 55,
   "id": "86cc7efe-a59b-490f-876f-1aed07a1b2b4",
   "metadata": {
    "execution": {
     "iopub.execute_input": "2023-06-26T19:47:44.966016Z",
     "iopub.status.busy": "2023-06-26T19:47:44.965499Z",
     "iopub.status.idle": "2023-06-26T19:47:44.983028Z",
     "shell.execute_reply": "2023-06-26T19:47:44.982019Z",
     "shell.execute_reply.started": "2023-06-26T19:47:44.965976Z"
    },
    "tags": []
   },
   "outputs": [
    {
     "data": {
      "text/html": [
       "<div>\n",
       "<style scoped>\n",
       "    .dataframe tbody tr th:only-of-type {\n",
       "        vertical-align: middle;\n",
       "    }\n",
       "\n",
       "    .dataframe tbody tr th {\n",
       "        vertical-align: top;\n",
       "    }\n",
       "\n",
       "    .dataframe thead th {\n",
       "        text-align: right;\n",
       "    }\n",
       "</style>\n",
       "<table border=\"1\" class=\"dataframe\">\n",
       "  <thead>\n",
       "    <tr style=\"text-align: right;\">\n",
       "      <th></th>\n",
       "      <th>region_id</th>\n",
       "      <th>region_type</th>\n",
       "      <th>region</th>\n",
       "    </tr>\n",
       "    <tr>\n",
       "      <th>None</th>\n",
       "      <th></th>\n",
       "      <th></th>\n",
       "      <th></th>\n",
       "    </tr>\n",
       "  </thead>\n",
       "  <tbody>\n",
       "    <tr>\n",
       "      <th>9870</th>\n",
       "      <td>8714</td>\n",
       "      <td>city</td>\n",
       "      <td>Foreman; AR; Texarkana, TX-AR; Little River County</td>\n",
       "    </tr>\n",
       "  </tbody>\n",
       "</table>\n",
       "</div>"
      ],
      "text/plain": [
       "     region_id region_type                                              region\n",
       "None                                                                          \n",
       "9870      8714        city  Foreman; AR; Texarkana, TX-AR; Little River County"
      ]
     },
     "execution_count": 55,
     "metadata": {},
     "output_type": "execute_result"
    }
   ],
   "source": [
    "df_zillow_regions.loc[df_zillow_regions['region_id'] == '8714']"
   ]
  },
  {
   "cell_type": "markdown",
   "id": "79d0e90b-78d8-4d57-ac14-8c409c0d5d0d",
   "metadata": {
    "execution": {
     "iopub.execute_input": "2023-06-26T19:32:18.159906Z",
     "iopub.status.busy": "2023-06-26T19:32:18.158877Z",
     "iopub.status.idle": "2023-06-26T19:32:18.164360Z",
     "shell.execute_reply": "2023-06-26T19:32:18.163367Z",
     "shell.execute_reply.started": "2023-06-26T19:32:18.159865Z"
    },
    "tags": []
   },
   "source": [
    "## I will stick with 'county' region types, for now."
   ]
  },
  {
   "cell_type": "markdown",
   "id": "620636bb-ed9c-4d1c-90be-cb81df382a9b",
   "metadata": {},
   "source": [
    "## Exploring the ZILLOW/INDICATORS table."
   ]
  },
  {
   "cell_type": "code",
   "execution_count": 56,
   "id": "f296a0e6-321a-4dcd-9da0-60ef1c3241ee",
   "metadata": {
    "execution": {
     "iopub.execute_input": "2023-06-26T19:50:29.278605Z",
     "iopub.status.busy": "2023-06-26T19:50:29.278362Z",
     "iopub.status.idle": "2023-06-26T19:50:30.220822Z",
     "shell.execute_reply": "2023-06-26T19:50:30.220117Z",
     "shell.execute_reply.started": "2023-06-26T19:50:29.278580Z"
    },
    "tags": []
   },
   "outputs": [],
   "source": [
    "df_zillow_indicators = quandl.get_table('ZILLOW/INDICATORS')"
   ]
  },
  {
   "cell_type": "code",
   "execution_count": 57,
   "id": "cc454962-fd2b-4706-90c3-49db72c5ba17",
   "metadata": {
    "execution": {
     "iopub.execute_input": "2023-06-26T19:50:39.394938Z",
     "iopub.status.busy": "2023-06-26T19:50:39.394250Z",
     "iopub.status.idle": "2023-06-26T19:50:39.400170Z",
     "shell.execute_reply": "2023-06-26T19:50:39.399340Z",
     "shell.execute_reply.started": "2023-06-26T19:50:39.394909Z"
    },
    "tags": []
   },
   "outputs": [
    {
     "data": {
      "text/plain": [
       "(56, 3)"
      ]
     },
     "execution_count": 57,
     "metadata": {},
     "output_type": "execute_result"
    }
   ],
   "source": [
    "df_zillow_indicators.shape"
   ]
  },
  {
   "cell_type": "code",
   "execution_count": 59,
   "id": "e67a004c-fc60-4bd3-a84d-2a8663d215a3",
   "metadata": {
    "execution": {
     "iopub.execute_input": "2023-06-26T19:50:54.765732Z",
     "iopub.status.busy": "2023-06-26T19:50:54.765507Z",
     "iopub.status.idle": "2023-06-26T19:50:54.780862Z",
     "shell.execute_reply": "2023-06-26T19:50:54.779687Z",
     "shell.execute_reply.started": "2023-06-26T19:50:54.765708Z"
    },
    "tags": []
   },
   "outputs": [
    {
     "data": {
      "text/html": [
       "<div>\n",
       "<style scoped>\n",
       "    .dataframe tbody tr th:only-of-type {\n",
       "        vertical-align: middle;\n",
       "    }\n",
       "\n",
       "    .dataframe tbody tr th {\n",
       "        vertical-align: top;\n",
       "    }\n",
       "\n",
       "    .dataframe thead th {\n",
       "        text-align: right;\n",
       "    }\n",
       "</style>\n",
       "<table border=\"1\" class=\"dataframe\">\n",
       "  <thead>\n",
       "    <tr style=\"text-align: right;\">\n",
       "      <th></th>\n",
       "      <th>indicator_id</th>\n",
       "      <th>indicator</th>\n",
       "      <th>category</th>\n",
       "    </tr>\n",
       "    <tr>\n",
       "      <th>None</th>\n",
       "      <th></th>\n",
       "      <th></th>\n",
       "      <th></th>\n",
       "    </tr>\n",
       "  </thead>\n",
       "  <tbody>\n",
       "    <tr>\n",
       "      <th>0</th>\n",
       "      <td>ZSFH</td>\n",
       "      <td>ZHVI Single-Family Homes Time Series ($)</td>\n",
       "      <td>Home values</td>\n",
       "    </tr>\n",
       "    <tr>\n",
       "      <th>1</th>\n",
       "      <td>ZCON</td>\n",
       "      <td>ZHVI Condo/Co-op Time Series ($)</td>\n",
       "      <td>Home values</td>\n",
       "    </tr>\n",
       "    <tr>\n",
       "      <th>2</th>\n",
       "      <td>ZATT</td>\n",
       "      <td>ZHVI All Homes- Top Tier Time Series ($)</td>\n",
       "      <td>Home values</td>\n",
       "    </tr>\n",
       "    <tr>\n",
       "      <th>3</th>\n",
       "      <td>ZALL</td>\n",
       "      <td>ZHVI All Homes (SFR, Condo/Co-op) Time Series ($)</td>\n",
       "      <td>Home values</td>\n",
       "    </tr>\n",
       "    <tr>\n",
       "      <th>4</th>\n",
       "      <td>ZABT</td>\n",
       "      <td>ZHVI All Homes- Bottom Tier Time Series ($)</td>\n",
       "      <td>Home values</td>\n",
       "    </tr>\n",
       "    <tr>\n",
       "      <th>5</th>\n",
       "      <td>Z5BR</td>\n",
       "      <td>ZHVI 5+ Bedroom Time Series ($)</td>\n",
       "      <td>Home values</td>\n",
       "    </tr>\n",
       "    <tr>\n",
       "      <th>6</th>\n",
       "      <td>Z4BR</td>\n",
       "      <td>ZHVI 4-Bedroom Time Series ($)</td>\n",
       "      <td>Home values</td>\n",
       "    </tr>\n",
       "    <tr>\n",
       "      <th>7</th>\n",
       "      <td>Z3BR</td>\n",
       "      <td>ZHVI 3-Bedroom Time Series ($)</td>\n",
       "      <td>Home values</td>\n",
       "    </tr>\n",
       "    <tr>\n",
       "      <th>8</th>\n",
       "      <td>Z2BR</td>\n",
       "      <td>ZHVI 2-Bedroom Time Series ($)</td>\n",
       "      <td>Home values</td>\n",
       "    </tr>\n",
       "    <tr>\n",
       "      <th>9</th>\n",
       "      <td>Z1BR</td>\n",
       "      <td>ZHVI 1-Bedroom Time Series ($)</td>\n",
       "      <td>Home values</td>\n",
       "    </tr>\n",
       "    <tr>\n",
       "      <th>10</th>\n",
       "      <td>SSSW</td>\n",
       "      <td>Median Sale Price (Smooth, SFR only, Weekly View)</td>\n",
       "      <td>Inventory and sales</td>\n",
       "    </tr>\n",
       "    <tr>\n",
       "      <th>11</th>\n",
       "      <td>SSSM</td>\n",
       "      <td>Median Sale Price (Smooth, SFR only, Monthly)</td>\n",
       "      <td>Inventory and sales</td>\n",
       "    </tr>\n",
       "    <tr>\n",
       "      <th>12</th>\n",
       "      <td>SSAW</td>\n",
       "      <td>Median Sale Price (Smooth, All Homes, Weekly View)</td>\n",
       "      <td>Inventory and sales</td>\n",
       "    </tr>\n",
       "    <tr>\n",
       "      <th>13</th>\n",
       "      <td>SSAM</td>\n",
       "      <td>Median Sale Price (Smooth, All Homes, Monthly)</td>\n",
       "      <td>Inventory and sales</td>\n",
       "    </tr>\n",
       "    <tr>\n",
       "      <th>14</th>\n",
       "      <td>SRSW</td>\n",
       "      <td>Median Sale Price (Raw, SFR only, Weekly View)</td>\n",
       "      <td>Inventory and sales</td>\n",
       "    </tr>\n",
       "    <tr>\n",
       "      <th>15</th>\n",
       "      <td>SRSM</td>\n",
       "      <td>Median Sale Price (Raw, SFR only, Monthly)</td>\n",
       "      <td>Inventory and sales</td>\n",
       "    </tr>\n",
       "    <tr>\n",
       "      <th>16</th>\n",
       "      <td>SRAW</td>\n",
       "      <td>Median Sale Price (Raw, All Homes, Weekly View)</td>\n",
       "      <td>Inventory and sales</td>\n",
       "    </tr>\n",
       "    <tr>\n",
       "      <th>17</th>\n",
       "      <td>SRAM</td>\n",
       "      <td>Median Sale Price (Raw, All Homes, Monthly)</td>\n",
       "      <td>Inventory and sales</td>\n",
       "    </tr>\n",
       "    <tr>\n",
       "      <th>18</th>\n",
       "      <td>SASW</td>\n",
       "      <td>Median Sale Price (Smooth &amp; Seasonally Adjusted, SFR only, Weekly View)</td>\n",
       "      <td>Inventory and sales</td>\n",
       "    </tr>\n",
       "    <tr>\n",
       "      <th>19</th>\n",
       "      <td>SASM</td>\n",
       "      <td>Median Sale Price (Smooth &amp; Seasonally Adjusted, SFR only, Monthly)</td>\n",
       "      <td>Inventory and sales</td>\n",
       "    </tr>\n",
       "    <tr>\n",
       "      <th>20</th>\n",
       "      <td>SAAW</td>\n",
       "      <td>Median Sale Price (Smooth &amp; Seasonally Adjusted, All Homes, Weekly View)</td>\n",
       "      <td>Inventory and sales</td>\n",
       "    </tr>\n",
       "    <tr>\n",
       "      <th>21</th>\n",
       "      <td>SAAM</td>\n",
       "      <td>Median Sale Price (Smooth &amp; Seasonally Adjusted, All Homes, Monthly)</td>\n",
       "      <td>Inventory and sales</td>\n",
       "    </tr>\n",
       "    <tr>\n",
       "      <th>22</th>\n",
       "      <td>RSSA</td>\n",
       "      <td>ZORI (Smoothed, Seasonally Adjusted): All Homes Plus Multifamily Time Series ($)</td>\n",
       "      <td>Rentals</td>\n",
       "    </tr>\n",
       "    <tr>\n",
       "      <th>23</th>\n",
       "      <td>RSNA</td>\n",
       "      <td>ZORI (Smoothed): All Homes Plus Multifamily Time Series ($)</td>\n",
       "      <td>Rentals</td>\n",
       "    </tr>\n",
       "    <tr>\n",
       "      <th>24</th>\n",
       "      <td>NSAW</td>\n",
       "      <td>Median Days to Pending (Smooth, All Homes, Weekly View)</td>\n",
       "      <td>Inventory and sales</td>\n",
       "    </tr>\n",
       "    <tr>\n",
       "      <th>25</th>\n",
       "      <td>NSAM</td>\n",
       "      <td>Median Days to Pending (Smooth, All Homes, Monthly)</td>\n",
       "      <td>Inventory and sales</td>\n",
       "    </tr>\n",
       "    <tr>\n",
       "      <th>26</th>\n",
       "      <td>NRAW</td>\n",
       "      <td>Median Days to Pending (Raw, All Homes, Weekly View)</td>\n",
       "      <td>Inventory and sales</td>\n",
       "    </tr>\n",
       "    <tr>\n",
       "      <th>27</th>\n",
       "      <td>NRAM</td>\n",
       "      <td>Median Days to Pending (Raw, All Homes, Monthly)</td>\n",
       "      <td>Inventory and sales</td>\n",
       "    </tr>\n",
       "    <tr>\n",
       "      <th>28</th>\n",
       "      <td>MSAW</td>\n",
       "      <td>Mean Days to Pending (Smooth, All Homes, Weekly View)</td>\n",
       "      <td>Inventory and sales</td>\n",
       "    </tr>\n",
       "    <tr>\n",
       "      <th>29</th>\n",
       "      <td>MSAM</td>\n",
       "      <td>Mean Days to Pending (Smooth, All Homes, Monthly)</td>\n",
       "      <td>Inventory and sales</td>\n",
       "    </tr>\n",
       "    <tr>\n",
       "      <th>30</th>\n",
       "      <td>MRAW</td>\n",
       "      <td>Mean Days to Pending (Raw, All Homes, Weekly View)</td>\n",
       "      <td>Inventory and sales</td>\n",
       "    </tr>\n",
       "    <tr>\n",
       "      <th>31</th>\n",
       "      <td>MRAM</td>\n",
       "      <td>Mean Days to Pending (Raw, All Homes, Monthly)</td>\n",
       "      <td>Inventory and sales</td>\n",
       "    </tr>\n",
       "    <tr>\n",
       "      <th>32</th>\n",
       "      <td>LSSW</td>\n",
       "      <td>Median List Price (Smooth, SFR Only, Weekly View)</td>\n",
       "      <td>Inventory and sales</td>\n",
       "    </tr>\n",
       "    <tr>\n",
       "      <th>33</th>\n",
       "      <td>LSSM</td>\n",
       "      <td>Median List Price (Smooth, SFR Only, Monthly)</td>\n",
       "      <td>Inventory and sales</td>\n",
       "    </tr>\n",
       "    <tr>\n",
       "      <th>34</th>\n",
       "      <td>LSAW</td>\n",
       "      <td>Median List Price (Smooth, All Homes, Weekly View)</td>\n",
       "      <td>Inventory and sales</td>\n",
       "    </tr>\n",
       "    <tr>\n",
       "      <th>35</th>\n",
       "      <td>LSAM</td>\n",
       "      <td>Median List Price (Smooth, All Homes, Monthly)</td>\n",
       "      <td>Inventory and sales</td>\n",
       "    </tr>\n",
       "    <tr>\n",
       "      <th>36</th>\n",
       "      <td>LRSW</td>\n",
       "      <td>Median List Price (Raw, SFR Only, Weekly View)</td>\n",
       "      <td>Inventory and sales</td>\n",
       "    </tr>\n",
       "    <tr>\n",
       "      <th>37</th>\n",
       "      <td>LRSM</td>\n",
       "      <td>Median List Price (Raw, SFR Only, Monthly)</td>\n",
       "      <td>Inventory and sales</td>\n",
       "    </tr>\n",
       "    <tr>\n",
       "      <th>38</th>\n",
       "      <td>LRAW</td>\n",
       "      <td>Median List Price (Raw, All Homes, Weekly View)</td>\n",
       "      <td>Inventory and sales</td>\n",
       "    </tr>\n",
       "    <tr>\n",
       "      <th>39</th>\n",
       "      <td>LRAM</td>\n",
       "      <td>Median List Price (Raw, All Homes, Monthly)</td>\n",
       "      <td>Inventory and sales</td>\n",
       "    </tr>\n",
       "    <tr>\n",
       "      <th>40</th>\n",
       "      <td>ISSW</td>\n",
       "      <td>For-Sale Inventory (Smooth, SFR only, Weekly View)</td>\n",
       "      <td>Inventory and sales</td>\n",
       "    </tr>\n",
       "    <tr>\n",
       "      <th>41</th>\n",
       "      <td>ISSM</td>\n",
       "      <td>For-Sale Inventory (Smooth, SFR only, Monthly)</td>\n",
       "      <td>Inventory and sales</td>\n",
       "    </tr>\n",
       "    <tr>\n",
       "      <th>42</th>\n",
       "      <td>ISAW</td>\n",
       "      <td>For-Sale Inventory (Smooth, All Homes, Weekly View)</td>\n",
       "      <td>Inventory and sales</td>\n",
       "    </tr>\n",
       "    <tr>\n",
       "      <th>43</th>\n",
       "      <td>ISAM</td>\n",
       "      <td>For-Sale Inventory (Smooth, All Homes, Monthly)</td>\n",
       "      <td>Inventory and sales</td>\n",
       "    </tr>\n",
       "    <tr>\n",
       "      <th>44</th>\n",
       "      <td>IRSW</td>\n",
       "      <td>For-sale Inventory (Raw, SFR only, Weekly View)</td>\n",
       "      <td>Inventory and sales</td>\n",
       "    </tr>\n",
       "    <tr>\n",
       "      <th>45</th>\n",
       "      <td>IRSM</td>\n",
       "      <td>For-sale Inventory (Raw, SFR only, Monthly)</td>\n",
       "      <td>Inventory and sales</td>\n",
       "    </tr>\n",
       "    <tr>\n",
       "      <th>46</th>\n",
       "      <td>IRAW</td>\n",
       "      <td>For-Sale Inventory (Raw, All Homes, Weekly View)</td>\n",
       "      <td>Inventory and sales</td>\n",
       "    </tr>\n",
       "    <tr>\n",
       "      <th>47</th>\n",
       "      <td>IRAM</td>\n",
       "      <td>For-Sale Inventory (Raw, All Homes, Monthly)</td>\n",
       "      <td>Inventory and sales</td>\n",
       "    </tr>\n",
       "    <tr>\n",
       "      <th>48</th>\n",
       "      <td>CSSW</td>\n",
       "      <td>Share of Listings With a Price Cut (Smooth, SFR Only, Weekly View)</td>\n",
       "      <td>Inventory and sales</td>\n",
       "    </tr>\n",
       "    <tr>\n",
       "      <th>49</th>\n",
       "      <td>CSSM</td>\n",
       "      <td>Share of Listings With a Price Cut (Smooth, SFR Only, Monthly)</td>\n",
       "      <td>Inventory and sales</td>\n",
       "    </tr>\n",
       "    <tr>\n",
       "      <th>50</th>\n",
       "      <td>CSAW</td>\n",
       "      <td>Share of Listings With a Price Cut (Smooth, All Homes, Weekly View)</td>\n",
       "      <td>Inventory and sales</td>\n",
       "    </tr>\n",
       "    <tr>\n",
       "      <th>51</th>\n",
       "      <td>CSAM</td>\n",
       "      <td>Share of Listings With a Price Cut (Smooth, All Homes, Monthly)</td>\n",
       "      <td>Inventory and sales</td>\n",
       "    </tr>\n",
       "    <tr>\n",
       "      <th>52</th>\n",
       "      <td>CRSW</td>\n",
       "      <td>Share of Listings With a Price Cut (Raw, SFR Only, Weekly View)</td>\n",
       "      <td>Inventory and sales</td>\n",
       "    </tr>\n",
       "    <tr>\n",
       "      <th>53</th>\n",
       "      <td>CRSM</td>\n",
       "      <td>Share of Listings With a Price Cut (Raw, SFR Only, Monthly)</td>\n",
       "      <td>Inventory and sales</td>\n",
       "    </tr>\n",
       "    <tr>\n",
       "      <th>54</th>\n",
       "      <td>CRAW</td>\n",
       "      <td>Share of Listings With a Price Cut (Raw, All Homes, Weekly View)</td>\n",
       "      <td>Inventory and sales</td>\n",
       "    </tr>\n",
       "    <tr>\n",
       "      <th>55</th>\n",
       "      <td>CRAM</td>\n",
       "      <td>Share of Listings With a Price Cut (Raw, All Homes, Monthly)</td>\n",
       "      <td>Inventory and sales</td>\n",
       "    </tr>\n",
       "  </tbody>\n",
       "</table>\n",
       "</div>"
      ],
      "text/plain": [
       "     indicator_id  \\\n",
       "None                \n",
       "0            ZSFH   \n",
       "1            ZCON   \n",
       "2            ZATT   \n",
       "3            ZALL   \n",
       "4            ZABT   \n",
       "5            Z5BR   \n",
       "6            Z4BR   \n",
       "7            Z3BR   \n",
       "8            Z2BR   \n",
       "9            Z1BR   \n",
       "10           SSSW   \n",
       "11           SSSM   \n",
       "12           SSAW   \n",
       "13           SSAM   \n",
       "14           SRSW   \n",
       "15           SRSM   \n",
       "16           SRAW   \n",
       "17           SRAM   \n",
       "18           SASW   \n",
       "19           SASM   \n",
       "20           SAAW   \n",
       "21           SAAM   \n",
       "22           RSSA   \n",
       "23           RSNA   \n",
       "24           NSAW   \n",
       "25           NSAM   \n",
       "26           NRAW   \n",
       "27           NRAM   \n",
       "28           MSAW   \n",
       "29           MSAM   \n",
       "30           MRAW   \n",
       "31           MRAM   \n",
       "32           LSSW   \n",
       "33           LSSM   \n",
       "34           LSAW   \n",
       "35           LSAM   \n",
       "36           LRSW   \n",
       "37           LRSM   \n",
       "38           LRAW   \n",
       "39           LRAM   \n",
       "40           ISSW   \n",
       "41           ISSM   \n",
       "42           ISAW   \n",
       "43           ISAM   \n",
       "44           IRSW   \n",
       "45           IRSM   \n",
       "46           IRAW   \n",
       "47           IRAM   \n",
       "48           CSSW   \n",
       "49           CSSM   \n",
       "50           CSAW   \n",
       "51           CSAM   \n",
       "52           CRSW   \n",
       "53           CRSM   \n",
       "54           CRAW   \n",
       "55           CRAM   \n",
       "\n",
       "                                                                             indicator  \\\n",
       "None                                                                                     \n",
       "0                                             ZHVI Single-Family Homes Time Series ($)   \n",
       "1                                                     ZHVI Condo/Co-op Time Series ($)   \n",
       "2                                             ZHVI All Homes- Top Tier Time Series ($)   \n",
       "3                                    ZHVI All Homes (SFR, Condo/Co-op) Time Series ($)   \n",
       "4                                          ZHVI All Homes- Bottom Tier Time Series ($)   \n",
       "5                                                      ZHVI 5+ Bedroom Time Series ($)   \n",
       "6                                                       ZHVI 4-Bedroom Time Series ($)   \n",
       "7                                                       ZHVI 3-Bedroom Time Series ($)   \n",
       "8                                                       ZHVI 2-Bedroom Time Series ($)   \n",
       "9                                                       ZHVI 1-Bedroom Time Series ($)   \n",
       "10                                   Median Sale Price (Smooth, SFR only, Weekly View)   \n",
       "11                                       Median Sale Price (Smooth, SFR only, Monthly)   \n",
       "12                                  Median Sale Price (Smooth, All Homes, Weekly View)   \n",
       "13                                      Median Sale Price (Smooth, All Homes, Monthly)   \n",
       "14                                      Median Sale Price (Raw, SFR only, Weekly View)   \n",
       "15                                          Median Sale Price (Raw, SFR only, Monthly)   \n",
       "16                                     Median Sale Price (Raw, All Homes, Weekly View)   \n",
       "17                                         Median Sale Price (Raw, All Homes, Monthly)   \n",
       "18             Median Sale Price (Smooth & Seasonally Adjusted, SFR only, Weekly View)   \n",
       "19                 Median Sale Price (Smooth & Seasonally Adjusted, SFR only, Monthly)   \n",
       "20            Median Sale Price (Smooth & Seasonally Adjusted, All Homes, Weekly View)   \n",
       "21                Median Sale Price (Smooth & Seasonally Adjusted, All Homes, Monthly)   \n",
       "22    ZORI (Smoothed, Seasonally Adjusted): All Homes Plus Multifamily Time Series ($)   \n",
       "23                         ZORI (Smoothed): All Homes Plus Multifamily Time Series ($)   \n",
       "24                             Median Days to Pending (Smooth, All Homes, Weekly View)   \n",
       "25                                 Median Days to Pending (Smooth, All Homes, Monthly)   \n",
       "26                                Median Days to Pending (Raw, All Homes, Weekly View)   \n",
       "27                                    Median Days to Pending (Raw, All Homes, Monthly)   \n",
       "28                               Mean Days to Pending (Smooth, All Homes, Weekly View)   \n",
       "29                                   Mean Days to Pending (Smooth, All Homes, Monthly)   \n",
       "30                                 Mean Days to Pending (Raw, All Homes, Weekly View)    \n",
       "31                                      Mean Days to Pending (Raw, All Homes, Monthly)   \n",
       "32                                   Median List Price (Smooth, SFR Only, Weekly View)   \n",
       "33                                       Median List Price (Smooth, SFR Only, Monthly)   \n",
       "34                                  Median List Price (Smooth, All Homes, Weekly View)   \n",
       "35                                      Median List Price (Smooth, All Homes, Monthly)   \n",
       "36                                      Median List Price (Raw, SFR Only, Weekly View)   \n",
       "37                                          Median List Price (Raw, SFR Only, Monthly)   \n",
       "38                                     Median List Price (Raw, All Homes, Weekly View)   \n",
       "39                                         Median List Price (Raw, All Homes, Monthly)   \n",
       "40                                  For-Sale Inventory (Smooth, SFR only, Weekly View)   \n",
       "41                                      For-Sale Inventory (Smooth, SFR only, Monthly)   \n",
       "42                                 For-Sale Inventory (Smooth, All Homes, Weekly View)   \n",
       "43                                     For-Sale Inventory (Smooth, All Homes, Monthly)   \n",
       "44                                     For-sale Inventory (Raw, SFR only, Weekly View)   \n",
       "45                                         For-sale Inventory (Raw, SFR only, Monthly)   \n",
       "46                                    For-Sale Inventory (Raw, All Homes, Weekly View)   \n",
       "47                                        For-Sale Inventory (Raw, All Homes, Monthly)   \n",
       "48                  Share of Listings With a Price Cut (Smooth, SFR Only, Weekly View)   \n",
       "49                      Share of Listings With a Price Cut (Smooth, SFR Only, Monthly)   \n",
       "50                 Share of Listings With a Price Cut (Smooth, All Homes, Weekly View)   \n",
       "51                     Share of Listings With a Price Cut (Smooth, All Homes, Monthly)   \n",
       "52                     Share of Listings With a Price Cut (Raw, SFR Only, Weekly View)   \n",
       "53                         Share of Listings With a Price Cut (Raw, SFR Only, Monthly)   \n",
       "54                    Share of Listings With a Price Cut (Raw, All Homes, Weekly View)   \n",
       "55                        Share of Listings With a Price Cut (Raw, All Homes, Monthly)   \n",
       "\n",
       "                 category  \n",
       "None                       \n",
       "0             Home values  \n",
       "1             Home values  \n",
       "2             Home values  \n",
       "3             Home values  \n",
       "4             Home values  \n",
       "5             Home values  \n",
       "6             Home values  \n",
       "7             Home values  \n",
       "8             Home values  \n",
       "9             Home values  \n",
       "10    Inventory and sales  \n",
       "11    Inventory and sales  \n",
       "12    Inventory and sales  \n",
       "13    Inventory and sales  \n",
       "14    Inventory and sales  \n",
       "15    Inventory and sales  \n",
       "16    Inventory and sales  \n",
       "17    Inventory and sales  \n",
       "18    Inventory and sales  \n",
       "19    Inventory and sales  \n",
       "20    Inventory and sales  \n",
       "21    Inventory and sales  \n",
       "22                Rentals  \n",
       "23                Rentals  \n",
       "24    Inventory and sales  \n",
       "25    Inventory and sales  \n",
       "26    Inventory and sales  \n",
       "27    Inventory and sales  \n",
       "28    Inventory and sales  \n",
       "29    Inventory and sales  \n",
       "30    Inventory and sales  \n",
       "31    Inventory and sales  \n",
       "32    Inventory and sales  \n",
       "33    Inventory and sales  \n",
       "34    Inventory and sales  \n",
       "35    Inventory and sales  \n",
       "36    Inventory and sales  \n",
       "37    Inventory and sales  \n",
       "38    Inventory and sales  \n",
       "39    Inventory and sales  \n",
       "40    Inventory and sales  \n",
       "41    Inventory and sales  \n",
       "42    Inventory and sales  \n",
       "43    Inventory and sales  \n",
       "44    Inventory and sales  \n",
       "45    Inventory and sales  \n",
       "46    Inventory and sales  \n",
       "47    Inventory and sales  \n",
       "48    Inventory and sales  \n",
       "49    Inventory and sales  \n",
       "50    Inventory and sales  \n",
       "51    Inventory and sales  \n",
       "52    Inventory and sales  \n",
       "53    Inventory and sales  \n",
       "54    Inventory and sales  \n",
       "55    Inventory and sales  "
      ]
     },
     "execution_count": 59,
     "metadata": {},
     "output_type": "execute_result"
    }
   ],
   "source": [
    "df_zillow_indicators"
   ]
  },
  {
   "cell_type": "markdown",
   "id": "e8ffe3d5-cc93-405a-9249-57a355a2fd0b",
   "metadata": {},
   "source": [
    "## Let's analyze the data for the first indicator, \"ZHVI Single-Family Homes Time Series ($),\" for the counties in Texas."
   ]
  },
  {
   "cell_type": "code",
   "execution_count": 60,
   "id": "b43c1121-dec0-4a68-aa4a-e8aecdfb3048",
   "metadata": {
    "execution": {
     "iopub.execute_input": "2023-06-26T20:45:10.256775Z",
     "iopub.status.busy": "2023-06-26T20:45:10.256531Z",
     "iopub.status.idle": "2023-06-26T20:45:10.269910Z",
     "shell.execute_reply": "2023-06-26T20:45:10.268913Z",
     "shell.execute_reply.started": "2023-06-26T20:45:10.256751Z"
    },
    "tags": []
   },
   "outputs": [],
   "source": [
    "df_zillow_texas = df_zillow_regions.loc[(df_zillow_regions['region'].str.contains(', TX')) & (df_zillow_regions['region_type'] == 'county')]"
   ]
  },
  {
   "cell_type": "code",
   "execution_count": 63,
   "id": "34227ebf-1805-413b-b3ac-44a6b3ddf460",
   "metadata": {
    "execution": {
     "iopub.execute_input": "2023-06-26T20:46:18.646575Z",
     "iopub.status.busy": "2023-06-26T20:46:18.646004Z",
     "iopub.status.idle": "2023-06-26T20:46:18.656768Z",
     "shell.execute_reply": "2023-06-26T20:46:18.655898Z",
     "shell.execute_reply.started": "2023-06-26T20:46:18.646548Z"
    },
    "tags": []
   },
   "outputs": [
    {
     "data": {
      "text/html": [
       "<div>\n",
       "<style scoped>\n",
       "    .dataframe tbody tr th:only-of-type {\n",
       "        vertical-align: middle;\n",
       "    }\n",
       "\n",
       "    .dataframe tbody tr th {\n",
       "        vertical-align: top;\n",
       "    }\n",
       "\n",
       "    .dataframe thead th {\n",
       "        text-align: right;\n",
       "    }\n",
       "</style>\n",
       "<table border=\"1\" class=\"dataframe\">\n",
       "  <thead>\n",
       "    <tr style=\"text-align: right;\">\n",
       "      <th></th>\n",
       "      <th>region_id</th>\n",
       "      <th>region_type</th>\n",
       "      <th>region</th>\n",
       "    </tr>\n",
       "    <tr>\n",
       "      <th>None</th>\n",
       "      <th></th>\n",
       "      <th></th>\n",
       "      <th></th>\n",
       "    </tr>\n",
       "  </thead>\n",
       "  <tbody>\n",
       "    <tr>\n",
       "      <th>933</th>\n",
       "      <td>988</td>\n",
       "      <td>county</td>\n",
       "      <td>Denton County; TX; Dallas-Fort Worth-Arlington, TX</td>\n",
       "    </tr>\n",
       "    <tr>\n",
       "      <th>1381</th>\n",
       "      <td>982</td>\n",
       "      <td>county</td>\n",
       "      <td>Dawson County; TX; Lamesa, TX</td>\n",
       "    </tr>\n",
       "    <tr>\n",
       "      <th>1543</th>\n",
       "      <td>98</td>\n",
       "      <td>county</td>\n",
       "      <td>Bell County; TX; Killeen-Temple, TX</td>\n",
       "    </tr>\n",
       "    <tr>\n",
       "      <th>1677</th>\n",
       "      <td>978</td>\n",
       "      <td>county</td>\n",
       "      <td>Dallas County; TX; Dallas-Fort Worth-Arlington, TX</td>\n",
       "    </tr>\n",
       "    <tr>\n",
       "      <th>2625</th>\n",
       "      <td>963</td>\n",
       "      <td>county</td>\n",
       "      <td>Crosby County; TX; Lubbock, TX</td>\n",
       "    </tr>\n",
       "    <tr>\n",
       "      <th>3370</th>\n",
       "      <td>951</td>\n",
       "      <td>county</td>\n",
       "      <td>Collin County; TX; Dallas-Fort Worth-Arlington, TX</td>\n",
       "    </tr>\n",
       "    <tr>\n",
       "      <th>5911</th>\n",
       "      <td>918</td>\n",
       "      <td>county</td>\n",
       "      <td>Carson County; TX; Amarillo, TX</td>\n",
       "    </tr>\n",
       "    <tr>\n",
       "      <th>8264</th>\n",
       "      <td>890</td>\n",
       "      <td>county</td>\n",
       "      <td>Brazos County; TX; College Station-Bryan, TX</td>\n",
       "    </tr>\n",
       "  </tbody>\n",
       "</table>\n",
       "</div>"
      ],
      "text/plain": [
       "     region_id region_type                                              region\n",
       "None                                                                          \n",
       "933        988      county  Denton County; TX; Dallas-Fort Worth-Arlington, TX\n",
       "1381       982      county                       Dawson County; TX; Lamesa, TX\n",
       "1543        98      county                 Bell County; TX; Killeen-Temple, TX\n",
       "1677       978      county  Dallas County; TX; Dallas-Fort Worth-Arlington, TX\n",
       "2625       963      county                      Crosby County; TX; Lubbock, TX\n",
       "3370       951      county  Collin County; TX; Dallas-Fort Worth-Arlington, TX\n",
       "5911       918      county                     Carson County; TX; Amarillo, TX\n",
       "8264       890      county        Brazos County; TX; College Station-Bryan, TX"
      ]
     },
     "execution_count": 63,
     "metadata": {},
     "output_type": "execute_result"
    }
   ],
   "source": [
    "# I don't know why Zillow has county entries for so few Texas counties, but let's see what we can do.\n",
    "df_zillow_texas"
   ]
  },
  {
   "cell_type": "code",
   "execution_count": 64,
   "id": "b39b8181-5dcc-4c02-a9d4-ddf038bd8483",
   "metadata": {
    "execution": {
     "iopub.execute_input": "2023-06-26T20:46:41.855294Z",
     "iopub.status.busy": "2023-06-26T20:46:41.854621Z",
     "iopub.status.idle": "2023-06-26T20:46:41.861109Z",
     "shell.execute_reply": "2023-06-26T20:46:41.860557Z",
     "shell.execute_reply.started": "2023-06-26T20:46:41.855256Z"
    },
    "tags": []
   },
   "outputs": [
    {
     "data": {
      "text/plain": [
       "['988', '982', '98', '978', '963', '951', '918', '890']"
      ]
     },
     "execution_count": 64,
     "metadata": {},
     "output_type": "execute_result"
    }
   ],
   "source": [
    "df_zillow_texas['region_id'].tolist()"
   ]
  },
  {
   "cell_type": "code",
   "execution_count": 65,
   "id": "f621ce3c-90c2-4135-8f1d-c541cb929b20",
   "metadata": {
    "execution": {
     "iopub.execute_input": "2023-06-26T20:48:33.504443Z",
     "iopub.status.busy": "2023-06-26T20:48:33.504172Z",
     "iopub.status.idle": "2023-06-26T20:48:34.147641Z",
     "shell.execute_reply": "2023-06-26T20:48:34.146928Z",
     "shell.execute_reply.started": "2023-06-26T20:48:33.504418Z"
    },
    "tags": []
   },
   "outputs": [],
   "source": [
    "df_zillow_data_texas = quandl.get_table('ZILLOW/DATA', indicator_id='ZSFH', region_id=df_zillow_texas['region_id'].tolist())"
   ]
  },
  {
   "cell_type": "code",
   "execution_count": 66,
   "id": "5d3cb94c-dae5-4e6e-8348-90698c84fdde",
   "metadata": {
    "execution": {
     "iopub.execute_input": "2023-06-26T20:48:46.191687Z",
     "iopub.status.busy": "2023-06-26T20:48:46.191441Z",
     "iopub.status.idle": "2023-06-26T20:48:46.197282Z",
     "shell.execute_reply": "2023-06-26T20:48:46.196688Z",
     "shell.execute_reply.started": "2023-06-26T20:48:46.191663Z"
    },
    "tags": []
   },
   "outputs": [
    {
     "data": {
      "text/plain": [
       "(2039, 4)"
      ]
     },
     "execution_count": 66,
     "metadata": {},
     "output_type": "execute_result"
    }
   ],
   "source": [
    "df_zillow_data_texas.shape"
   ]
  },
  {
   "cell_type": "code",
   "execution_count": 67,
   "id": "aae47db4-482e-45bc-9883-734b859f8a37",
   "metadata": {
    "execution": {
     "iopub.execute_input": "2023-06-26T20:48:53.086125Z",
     "iopub.status.busy": "2023-06-26T20:48:53.085904Z",
     "iopub.status.idle": "2023-06-26T20:48:53.095552Z",
     "shell.execute_reply": "2023-06-26T20:48:53.094489Z",
     "shell.execute_reply.started": "2023-06-26T20:48:53.086102Z"
    },
    "tags": []
   },
   "outputs": [
    {
     "data": {
      "text/plain": [
       "<bound method NDFrame.head of      indicator_id region_id       date          value\n",
       "None                                                 \n",
       "0            ZSFH       988 2023-05-31  465447.626961\n",
       "1            ZSFH       988 2023-04-30  464079.442752\n",
       "2            ZSFH       988 2023-03-31  463835.541361\n",
       "3            ZSFH       988 2023-02-28  462432.745962\n",
       "4            ZSFH       988 2023-01-31  460147.935932\n",
       "...           ...       ...        ...            ...\n",
       "2034         ZSFH       890 2005-05-31  135584.000000\n",
       "2035         ZSFH       890 2005-04-30  134068.000000\n",
       "2036         ZSFH       890 2005-03-31  132825.000000\n",
       "2037         ZSFH       890 2005-02-28  132199.000000\n",
       "2038         ZSFH       890 2005-01-31  131823.000000\n",
       "\n",
       "[2039 rows x 4 columns]>"
      ]
     },
     "execution_count": 67,
     "metadata": {},
     "output_type": "execute_result"
    }
   ],
   "source": [
    "df_zillow_data_texas.head"
   ]
  },
  {
   "cell_type": "code",
   "execution_count": 69,
   "id": "515d6d6b-b51a-4cdb-a2bd-3ce1e539959a",
   "metadata": {
    "execution": {
     "iopub.execute_input": "2023-06-26T20:52:36.211977Z",
     "iopub.status.busy": "2023-06-26T20:52:36.211747Z",
     "iopub.status.idle": "2023-06-26T20:52:36.218008Z",
     "shell.execute_reply": "2023-06-26T20:52:36.217475Z",
     "shell.execute_reply.started": "2023-06-26T20:52:36.211952Z"
    },
    "tags": []
   },
   "outputs": [
    {
     "data": {
      "text/plain": [
       "indicator_id            object\n",
       "region_id               object\n",
       "date            datetime64[ns]\n",
       "value                  float64\n",
       "dtype: object"
      ]
     },
     "execution_count": 69,
     "metadata": {},
     "output_type": "execute_result"
    }
   ],
   "source": [
    "df_zillow_data_texas.dtypes"
   ]
  },
  {
   "cell_type": "code",
   "execution_count": 72,
   "id": "1f906358-481e-475e-a295-d48358075061",
   "metadata": {
    "execution": {
     "iopub.execute_input": "2023-06-26T20:58:28.205072Z",
     "iopub.status.busy": "2023-06-26T20:58:28.204769Z",
     "iopub.status.idle": "2023-06-26T20:58:28.226892Z",
     "shell.execute_reply": "2023-06-26T20:58:28.226065Z",
     "shell.execute_reply.started": "2023-06-26T20:58:28.205038Z"
    },
    "tags": []
   },
   "outputs": [
    {
     "data": {
      "text/html": [
       "<div>\n",
       "<style scoped>\n",
       "    .dataframe tbody tr th:only-of-type {\n",
       "        vertical-align: middle;\n",
       "    }\n",
       "\n",
       "    .dataframe tbody tr th {\n",
       "        vertical-align: top;\n",
       "    }\n",
       "\n",
       "    .dataframe thead th {\n",
       "        text-align: right;\n",
       "    }\n",
       "</style>\n",
       "<table border=\"1\" class=\"dataframe\">\n",
       "  <thead>\n",
       "    <tr style=\"text-align: right;\">\n",
       "      <th></th>\n",
       "      <th>value</th>\n",
       "    </tr>\n",
       "    <tr>\n",
       "      <th>datetime</th>\n",
       "      <th></th>\n",
       "    </tr>\n",
       "  </thead>\n",
       "  <tbody>\n",
       "    <tr>\n",
       "      <th>2023-05-31</th>\n",
       "      <td>465447.626961</td>\n",
       "    </tr>\n",
       "    <tr>\n",
       "      <th>2023-04-30</th>\n",
       "      <td>464079.442752</td>\n",
       "    </tr>\n",
       "    <tr>\n",
       "      <th>2023-03-31</th>\n",
       "      <td>463835.541361</td>\n",
       "    </tr>\n",
       "    <tr>\n",
       "      <th>2023-02-28</th>\n",
       "      <td>462432.745962</td>\n",
       "    </tr>\n",
       "    <tr>\n",
       "      <th>2023-01-31</th>\n",
       "      <td>460147.935932</td>\n",
       "    </tr>\n",
       "  </tbody>\n",
       "</table>\n",
       "</div>"
      ],
      "text/plain": [
       "                    value\n",
       "datetime                 \n",
       "2023-05-31  465447.626961\n",
       "2023-04-30  464079.442752\n",
       "2023-03-31  463835.541361\n",
       "2023-02-28  462432.745962\n",
       "2023-01-31  460147.935932"
      ]
     },
     "execution_count": 72,
     "metadata": {},
     "output_type": "execute_result"
    }
   ],
   "source": [
    "# We need to convert this to a proper time series.\n",
    "ts_zillow_data_texas = df_zillow_data_texas\n",
    "ts_zillow_data_texas['datetime'] = pd.to_datetime(ts_zillow_data_texas['date']) # Create a datetime column from \"Date.\"\"\n",
    "ts_zillow_data_texas = ts_zillow_data_texas.set_index('datetime') # Set the datetime as the index of the dataframe.\n",
    "ts_zillow_data_texas.drop(['date', 'indicator_id', 'region_id'], axis=1, inplace=True) # Drop the \"Date\" column.\n",
    "ts_zillow_data_texas.head()"
   ]
  },
  {
   "cell_type": "code",
   "execution_count": 73,
   "id": "2853d000-818b-4d57-8080-c0483102cb82",
   "metadata": {
    "execution": {
     "iopub.execute_input": "2023-06-26T20:58:34.030302Z",
     "iopub.status.busy": "2023-06-26T20:58:34.029793Z",
     "iopub.status.idle": "2023-06-26T20:58:34.034987Z",
     "shell.execute_reply": "2023-06-26T20:58:34.034353Z",
     "shell.execute_reply.started": "2023-06-26T20:58:34.030276Z"
    },
    "tags": []
   },
   "outputs": [
    {
     "data": {
      "text/plain": [
       "(2039, 1)"
      ]
     },
     "execution_count": 73,
     "metadata": {},
     "output_type": "execute_result"
    }
   ],
   "source": [
    "ts_zillow_data_texas.shape"
   ]
  },
  {
   "cell_type": "code",
   "execution_count": 74,
   "id": "230313e9-8021-4a5d-96f9-60663337eaea",
   "metadata": {
    "execution": {
     "iopub.execute_input": "2023-06-26T20:58:51.269022Z",
     "iopub.status.busy": "2023-06-26T20:58:51.268780Z",
     "iopub.status.idle": "2023-06-26T20:58:51.280653Z",
     "shell.execute_reply": "2023-06-26T20:58:51.278614Z",
     "shell.execute_reply.started": "2023-06-26T20:58:51.268997Z"
    },
    "tags": []
   },
   "outputs": [
    {
     "data": {
      "text/html": [
       "<div>\n",
       "<style scoped>\n",
       "    .dataframe tbody tr th:only-of-type {\n",
       "        vertical-align: middle;\n",
       "    }\n",
       "\n",
       "    .dataframe tbody tr th {\n",
       "        vertical-align: top;\n",
       "    }\n",
       "\n",
       "    .dataframe thead th {\n",
       "        text-align: right;\n",
       "    }\n",
       "</style>\n",
       "<table border=\"1\" class=\"dataframe\">\n",
       "  <thead>\n",
       "    <tr style=\"text-align: right;\">\n",
       "      <th></th>\n",
       "      <th>value</th>\n",
       "    </tr>\n",
       "    <tr>\n",
       "      <th>datetime</th>\n",
       "      <th></th>\n",
       "    </tr>\n",
       "  </thead>\n",
       "  <tbody>\n",
       "    <tr>\n",
       "      <th>2005-05-31</th>\n",
       "      <td>135584.0</td>\n",
       "    </tr>\n",
       "    <tr>\n",
       "      <th>2005-04-30</th>\n",
       "      <td>134068.0</td>\n",
       "    </tr>\n",
       "    <tr>\n",
       "      <th>2005-03-31</th>\n",
       "      <td>132825.0</td>\n",
       "    </tr>\n",
       "    <tr>\n",
       "      <th>2005-02-28</th>\n",
       "      <td>132199.0</td>\n",
       "    </tr>\n",
       "    <tr>\n",
       "      <th>2005-01-31</th>\n",
       "      <td>131823.0</td>\n",
       "    </tr>\n",
       "  </tbody>\n",
       "</table>\n",
       "</div>"
      ],
      "text/plain": [
       "               value\n",
       "datetime            \n",
       "2005-05-31  135584.0\n",
       "2005-04-30  134068.0\n",
       "2005-03-31  132825.0\n",
       "2005-02-28  132199.0\n",
       "2005-01-31  131823.0"
      ]
     },
     "execution_count": 74,
     "metadata": {},
     "output_type": "execute_result"
    }
   ],
   "source": [
    "ts_zillow_data_texas.tail()"
   ]
  },
  {
   "cell_type": "code",
   "execution_count": 75,
   "id": "27afa0b6-3fa8-4ad6-a050-762d2b055f84",
   "metadata": {
    "execution": {
     "iopub.execute_input": "2023-06-26T20:59:14.376170Z",
     "iopub.status.busy": "2023-06-26T20:59:14.375366Z",
     "iopub.status.idle": "2023-06-26T20:59:14.382366Z",
     "shell.execute_reply": "2023-06-26T20:59:14.381460Z",
     "shell.execute_reply.started": "2023-06-26T20:59:14.376134Z"
    },
    "tags": []
   },
   "outputs": [
    {
     "data": {
      "text/plain": [
       "pandas.core.frame.DataFrame"
      ]
     },
     "execution_count": 75,
     "metadata": {},
     "output_type": "execute_result"
    }
   ],
   "source": [
    "type(ts_zillow_data_texas)"
   ]
  },
  {
   "cell_type": "code",
   "execution_count": 76,
   "id": "ca3f5189-fcc7-4261-a860-ce8fc11e14fe",
   "metadata": {
    "execution": {
     "iopub.execute_input": "2023-06-26T21:00:07.040585Z",
     "iopub.status.busy": "2023-06-26T21:00:07.039874Z",
     "iopub.status.idle": "2023-06-26T21:00:07.352511Z",
     "shell.execute_reply": "2023-06-26T21:00:07.351929Z",
     "shell.execute_reply.started": "2023-06-26T21:00:07.040542Z"
    },
    "tags": []
   },
   "outputs": [
    {
     "data": {
      "text/plain": [
       "[<matplotlib.lines.Line2D at 0x7fab14040640>]"
      ]
     },
     "execution_count": 76,
     "metadata": {},
     "output_type": "execute_result"
    },
    {
     "data": {
      "image/png": "[encoded data removed]",
      "text/plain": [
       "<Figure size 1500x500 with 1 Axes>"
      ]
     },
     "metadata": {
      "needs_background": "light"
     },
     "output_type": "display_data"
    }
   ],
   "source": [
    "# Plot the new data set\n",
    "\n",
    "plt.figure(figsize=(15,5), dpi=100)\n",
    "plt.plot(ts_zillow_data_texas)"
   ]
  },
  {
   "cell_type": "markdown",
   "id": "98e7d6dd-4201-4a39-8b0c-3ad70e38d880",
   "metadata": {
    "tags": []
   },
   "source": [
    "## I feared we might get something wacky, since we were mixing data from several counties, but it was worth seeing"
   ]
  },
  {
   "cell_type": "markdown",
   "id": "8823b675-1fcd-4556-82f8-6c01384bbfb3",
   "metadata": {},
   "source": [
    "# Step 3:  Make a subset of your data set if necessary. Think about the historical domain of the series to decide if you need to (if there are irrelevant historical events in your data that would bias your analysis, for example). Also, make sure your set doesn’t include any forecasted data."
   ]
  },
  {
   "cell_type": "markdown",
   "id": "0393b099-2071-4f89-bb74-2a49ed507c99",
   "metadata": {},
   "source": [
    "## Let's focus on one county - hopefully one that is also in our weather dataset!"
   ]
  },
  {
   "cell_type": "markdown",
   "id": "910364f7-5ef9-415d-892f-1eca86e07a95",
   "metadata": {},
   "source": [
    "## Load and check our updated dataframe for Texas weather from Task 6.3."
   ]
  },
  {
   "cell_type": "markdown",
   "id": "d27483c0-a606-4578-8536-c87a504e3ff0",
   "metadata": {
    "tags": []
   },
   "source": [
    "### (There were no changes to our dataframe in Tasks 6.4 or 6.5.)"
   ]
  },
  {
   "cell_type": "code",
   "execution_count": 77,
   "id": "6d196e07-cc18-4874-984b-a6614ddde35c",
   "metadata": {
    "execution": {
     "iopub.execute_input": "2023-06-26T21:11:32.402357Z",
     "iopub.status.busy": "2023-06-26T21:11:32.402091Z",
     "iopub.status.idle": "2023-06-26T21:11:33.335227Z",
     "shell.execute_reply": "2023-06-26T21:11:33.334300Z",
     "shell.execute_reply.started": "2023-06-26T21:11:32.402331Z"
    },
    "tags": []
   },
   "outputs": [],
   "source": [
    "df_weather = pd.read_pickle(os.path.join(path, '02-Data','Prepared-Data', 'df_texas.Task-6.3.pkl'))"
   ]
  },
  {
   "cell_type": "code",
   "execution_count": 78,
   "id": "46c91f54-3c70-499e-92db-7fca067005ec",
   "metadata": {
    "execution": {
     "iopub.execute_input": "2023-06-26T21:11:33.337124Z",
     "iopub.status.busy": "2023-06-26T21:11:33.336554Z",
     "iopub.status.idle": "2023-06-26T21:11:33.342439Z",
     "shell.execute_reply": "2023-06-26T21:11:33.341409Z",
     "shell.execute_reply.started": "2023-06-26T21:11:33.337098Z"
    },
    "tags": []
   },
   "outputs": [
    {
     "data": {
      "text/plain": [
       "(515813, 34)"
      ]
     },
     "execution_count": 78,
     "metadata": {},
     "output_type": "execute_result"
    }
   ],
   "source": [
    "df_weather.shape"
   ]
  },
  {
   "cell_type": "code",
   "execution_count": 79,
   "id": "d9072764-e360-4cfc-90a8-f3b05706a1ec",
   "metadata": {
    "execution": {
     "iopub.execute_input": "2023-06-26T21:11:33.344491Z",
     "iopub.status.busy": "2023-06-26T21:11:33.343783Z",
     "iopub.status.idle": "2023-06-26T21:11:33.352172Z",
     "shell.execute_reply": "2023-06-26T21:11:33.351375Z",
     "shell.execute_reply.started": "2023-06-26T21:11:33.344446Z"
    },
    "tags": []
   },
   "outputs": [
    {
     "data": {
      "text/plain": [
       "Index(['EventId', 'Type', 'Severity', 'StartTime(UTC)', 'EndTime(UTC)',\n",
       "       'Precipitation(in)', 'TimeZone', 'AirportCode', 'LocationLat',\n",
       "       'LocationLng', 'County', 'State', 'StartTime(Epoch)', 'EndTime(Epoch)',\n",
       "       'Duration(seconds)', 'Duration(hours)',\n",
       "       'PrecipitationRate(inches/hour)', 'Disbelievable', 'Region',\n",
       "       'StartYear', 'StartYear-Month', 'Snow(in)', 'Rain(in)', 'StartMonth',\n",
       "       'Rain-sum-AC-SY-M', 'Rain-sum-AC-SY', 'Snow-sum-AC-SY-M',\n",
       "       'Snow-sum-AC-SY', 'CO-Num-AC', 'Rain-sumavg-CO-SY-M',\n",
       "       'Rain-sumavg-CO-SY', 'Snow-sumavg-CO-SY-M', 'Snow-sumavg-CO-SY',\n",
       "       'GeoJSONCounty'],\n",
       "      dtype='object')"
      ]
     },
     "execution_count": 79,
     "metadata": {},
     "output_type": "execute_result"
    }
   ],
   "source": [
    "df_weather.columns"
   ]
  },
  {
   "cell_type": "code",
   "execution_count": 80,
   "id": "2d05053b-6905-493a-af70-2324fb6fbf59",
   "metadata": {
    "execution": {
     "iopub.execute_input": "2023-06-26T21:13:43.897453Z",
     "iopub.status.busy": "2023-06-26T21:13:43.896831Z",
     "iopub.status.idle": "2023-06-26T21:13:43.903921Z",
     "shell.execute_reply": "2023-06-26T21:13:43.902881Z",
     "shell.execute_reply.started": "2023-06-26T21:13:43.897427Z"
    },
    "tags": []
   },
   "outputs": [
    {
     "data": {
      "text/plain": [
       "None\n",
       "933     Denton County; TX; Dallas-Fort Worth-Arlington, TX\n",
       "1381                         Dawson County; TX; Lamesa, TX\n",
       "1543                   Bell County; TX; Killeen-Temple, TX\n",
       "1677    Dallas County; TX; Dallas-Fort Worth-Arlington, TX\n",
       "2625                        Crosby County; TX; Lubbock, TX\n",
       "3370    Collin County; TX; Dallas-Fort Worth-Arlington, TX\n",
       "5911                       Carson County; TX; Amarillo, TX\n",
       "8264          Brazos County; TX; College Station-Bryan, TX\n",
       "Name: region, dtype: object"
      ]
     },
     "execution_count": 80,
     "metadata": {},
     "output_type": "execute_result"
    }
   ],
   "source": [
    "df_zillow_texas['region']"
   ]
  },
  {
   "cell_type": "code",
   "execution_count": 81,
   "id": "4e0fd436-e35a-4dd8-bb73-fba2289fef46",
   "metadata": {
    "execution": {
     "iopub.execute_input": "2023-06-26T21:25:36.659873Z",
     "iopub.status.busy": "2023-06-26T21:25:36.659109Z",
     "iopub.status.idle": "2023-06-26T21:25:37.294553Z",
     "shell.execute_reply": "2023-06-26T21:25:37.294043Z",
     "shell.execute_reply.started": "2023-06-26T21:25:36.659832Z"
    },
    "tags": []
   },
   "outputs": [
    {
     "data": {
      "text/plain": [
       "Dallas County    14954\n",
       "Bell County      14113\n",
       "Brazos County     6899\n",
       "Collin County     2934\n",
       "Denton County     2843\n",
       "Name: GeoJSONCounty, dtype: int64"
      ]
     },
     "execution_count": 81,
     "metadata": {},
     "output_type": "execute_result"
    }
   ],
   "source": [
    "# Match counties from df_zillow_texas against those in df_weather.\n",
    "pattern = r'(Denton|Dawson|Bell|Dallas|Crosby|Collin|Carson|Brazos) County'\n",
    "\n",
    "filtered_df = df_weather.loc[df_weather['GeoJSONCounty'].str.contains(pattern)]\n",
    "\n",
    "filtered_df['GeoJSONCounty'].value_counts()"
   ]
  },
  {
   "cell_type": "markdown",
   "id": "1d15de49-dd02-4841-8110-832a1ba40ce4",
   "metadata": {
    "tags": []
   },
   "source": [
    "## I might as well choose Dallas County, which has the greatest number of measurements in the df_weather dataset.  It gets at least some rain, and likely has a robust real estate market with lots of data points."
   ]
  },
  {
   "cell_type": "code",
   "execution_count": 87,
   "id": "b8d79f6f-41b0-4f16-9c41-792831e3c7fe",
   "metadata": {
    "execution": {
     "iopub.execute_input": "2023-06-26T21:52:30.801195Z",
     "iopub.status.busy": "2023-06-26T21:52:30.800944Z",
     "iopub.status.idle": "2023-06-26T21:52:30.806908Z",
     "shell.execute_reply": "2023-06-26T21:52:30.805936Z",
     "shell.execute_reply.started": "2023-06-26T21:52:30.801170Z"
    },
    "tags": []
   },
   "outputs": [],
   "source": [
    "df_zillow_data_dallas_county = df_zillow_data_texas.loc[df_zillow_data_texas['region_id'] == '978'] "
   ]
  },
  {
   "cell_type": "code",
   "execution_count": 88,
   "id": "321a75ab-94f0-407c-998e-f9c196a1b66f",
   "metadata": {
    "execution": {
     "iopub.execute_input": "2023-06-26T21:52:32.239972Z",
     "iopub.status.busy": "2023-06-26T21:52:32.239717Z",
     "iopub.status.idle": "2023-06-26T21:52:32.260710Z",
     "shell.execute_reply": "2023-06-26T21:52:32.259725Z",
     "shell.execute_reply.started": "2023-06-26T21:52:32.239947Z"
    },
    "tags": []
   },
   "outputs": [
    {
     "data": {
      "text/html": [
       "<div>\n",
       "<style scoped>\n",
       "    .dataframe tbody tr th:only-of-type {\n",
       "        vertical-align: middle;\n",
       "    }\n",
       "\n",
       "    .dataframe tbody tr th {\n",
       "        vertical-align: top;\n",
       "    }\n",
       "\n",
       "    .dataframe thead th {\n",
       "        text-align: right;\n",
       "    }\n",
       "</style>\n",
       "<table border=\"1\" class=\"dataframe\">\n",
       "  <thead>\n",
       "    <tr style=\"text-align: right;\">\n",
       "      <th></th>\n",
       "      <th>indicator_id</th>\n",
       "      <th>region_id</th>\n",
       "      <th>date</th>\n",
       "      <th>value</th>\n",
       "      <th>datetime</th>\n",
       "    </tr>\n",
       "    <tr>\n",
       "      <th>None</th>\n",
       "      <th></th>\n",
       "      <th></th>\n",
       "      <th></th>\n",
       "      <th></th>\n",
       "      <th></th>\n",
       "    </tr>\n",
       "  </thead>\n",
       "  <tbody>\n",
       "    <tr>\n",
       "      <th>747</th>\n",
       "      <td>ZSFH</td>\n",
       "      <td>978</td>\n",
       "      <td>2023-05-31</td>\n",
       "      <td>324978.027979</td>\n",
       "      <td>2023-05-31</td>\n",
       "    </tr>\n",
       "    <tr>\n",
       "      <th>748</th>\n",
       "      <td>ZSFH</td>\n",
       "      <td>978</td>\n",
       "      <td>2023-04-30</td>\n",
       "      <td>324002.440681</td>\n",
       "      <td>2023-04-30</td>\n",
       "    </tr>\n",
       "    <tr>\n",
       "      <th>749</th>\n",
       "      <td>ZSFH</td>\n",
       "      <td>978</td>\n",
       "      <td>2023-03-31</td>\n",
       "      <td>323775.027494</td>\n",
       "      <td>2023-03-31</td>\n",
       "    </tr>\n",
       "    <tr>\n",
       "      <th>750</th>\n",
       "      <td>ZSFH</td>\n",
       "      <td>978</td>\n",
       "      <td>2023-02-28</td>\n",
       "      <td>319388.827100</td>\n",
       "      <td>2023-02-28</td>\n",
       "    </tr>\n",
       "    <tr>\n",
       "      <th>751</th>\n",
       "      <td>ZSFH</td>\n",
       "      <td>978</td>\n",
       "      <td>2023-01-31</td>\n",
       "      <td>318855.598152</td>\n",
       "      <td>2023-01-31</td>\n",
       "    </tr>\n",
       "    <tr>\n",
       "      <th>...</th>\n",
       "      <td>...</td>\n",
       "      <td>...</td>\n",
       "      <td>...</td>\n",
       "      <td>...</td>\n",
       "      <td>...</td>\n",
       "    </tr>\n",
       "    <tr>\n",
       "      <th>1071</th>\n",
       "      <td>ZSFH</td>\n",
       "      <td>978</td>\n",
       "      <td>1996-05-31</td>\n",
       "      <td>98381.000000</td>\n",
       "      <td>1996-05-31</td>\n",
       "    </tr>\n",
       "    <tr>\n",
       "      <th>1072</th>\n",
       "      <td>ZSFH</td>\n",
       "      <td>978</td>\n",
       "      <td>1996-04-30</td>\n",
       "      <td>98032.000000</td>\n",
       "      <td>1996-04-30</td>\n",
       "    </tr>\n",
       "    <tr>\n",
       "      <th>1073</th>\n",
       "      <td>ZSFH</td>\n",
       "      <td>978</td>\n",
       "      <td>1996-03-31</td>\n",
       "      <td>97707.000000</td>\n",
       "      <td>1996-03-31</td>\n",
       "    </tr>\n",
       "    <tr>\n",
       "      <th>1074</th>\n",
       "      <td>ZSFH</td>\n",
       "      <td>978</td>\n",
       "      <td>1996-02-29</td>\n",
       "      <td>97503.000000</td>\n",
       "      <td>1996-02-29</td>\n",
       "    </tr>\n",
       "    <tr>\n",
       "      <th>1075</th>\n",
       "      <td>ZSFH</td>\n",
       "      <td>978</td>\n",
       "      <td>1996-01-31</td>\n",
       "      <td>97443.000000</td>\n",
       "      <td>1996-01-31</td>\n",
       "    </tr>\n",
       "  </tbody>\n",
       "</table>\n",
       "<p>329 rows × 5 columns</p>\n",
       "</div>"
      ],
      "text/plain": [
       "     indicator_id region_id       date          value   datetime\n",
       "None                                                            \n",
       "747          ZSFH       978 2023-05-31  324978.027979 2023-05-31\n",
       "748          ZSFH       978 2023-04-30  324002.440681 2023-04-30\n",
       "749          ZSFH       978 2023-03-31  323775.027494 2023-03-31\n",
       "750          ZSFH       978 2023-02-28  319388.827100 2023-02-28\n",
       "751          ZSFH       978 2023-01-31  318855.598152 2023-01-31\n",
       "...           ...       ...        ...            ...        ...\n",
       "1071         ZSFH       978 1996-05-31   98381.000000 1996-05-31\n",
       "1072         ZSFH       978 1996-04-30   98032.000000 1996-04-30\n",
       "1073         ZSFH       978 1996-03-31   97707.000000 1996-03-31\n",
       "1074         ZSFH       978 1996-02-29   97503.000000 1996-02-29\n",
       "1075         ZSFH       978 1996-01-31   97443.000000 1996-01-31\n",
       "\n",
       "[329 rows x 5 columns]"
      ]
     },
     "execution_count": 88,
     "metadata": {},
     "output_type": "execute_result"
    }
   ],
   "source": [
    "df_zillow_data_dallas_county"
   ]
  },
  {
   "cell_type": "code",
   "execution_count": 91,
   "id": "d65ffd22-cc2e-4288-a141-b5d00f96fa00",
   "metadata": {
    "execution": {
     "iopub.execute_input": "2023-06-26T21:54:04.046202Z",
     "iopub.status.busy": "2023-06-26T21:54:04.045483Z",
     "iopub.status.idle": "2023-06-26T21:54:04.075636Z",
     "shell.execute_reply": "2023-06-26T21:54:04.075042Z",
     "shell.execute_reply.started": "2023-06-26T21:54:04.046174Z"
    },
    "tags": []
   },
   "outputs": [
    {
     "data": {
      "text/html": [
       "<div>\n",
       "<style scoped>\n",
       "    .dataframe tbody tr th:only-of-type {\n",
       "        vertical-align: middle;\n",
       "    }\n",
       "\n",
       "    .dataframe tbody tr th {\n",
       "        vertical-align: top;\n",
       "    }\n",
       "\n",
       "    .dataframe thead th {\n",
       "        text-align: right;\n",
       "    }\n",
       "</style>\n",
       "<table border=\"1\" class=\"dataframe\">\n",
       "  <thead>\n",
       "    <tr style=\"text-align: right;\">\n",
       "      <th></th>\n",
       "      <th>value</th>\n",
       "    </tr>\n",
       "    <tr>\n",
       "      <th>datetime</th>\n",
       "      <th></th>\n",
       "    </tr>\n",
       "  </thead>\n",
       "  <tbody>\n",
       "    <tr>\n",
       "      <th>2023-05-31</th>\n",
       "      <td>324978.027979</td>\n",
       "    </tr>\n",
       "    <tr>\n",
       "      <th>2023-04-30</th>\n",
       "      <td>324002.440681</td>\n",
       "    </tr>\n",
       "    <tr>\n",
       "      <th>2023-03-31</th>\n",
       "      <td>323775.027494</td>\n",
       "    </tr>\n",
       "    <tr>\n",
       "      <th>2023-02-28</th>\n",
       "      <td>319388.827100</td>\n",
       "    </tr>\n",
       "    <tr>\n",
       "      <th>2023-01-31</th>\n",
       "      <td>318855.598152</td>\n",
       "    </tr>\n",
       "  </tbody>\n",
       "</table>\n",
       "</div>"
      ],
      "text/plain": [
       "                    value\n",
       "datetime                 \n",
       "2023-05-31  324978.027979\n",
       "2023-04-30  324002.440681\n",
       "2023-03-31  323775.027494\n",
       "2023-02-28  319388.827100\n",
       "2023-01-31  318855.598152"
      ]
     },
     "execution_count": 91,
     "metadata": {},
     "output_type": "execute_result"
    }
   ],
   "source": [
    "# We need to convert this to a proper time series.\n",
    "ts_zillow_data_dallas_county = df_zillow_data_dallas_county\n",
    "ts_zillow_data_dallas_county['datetime'] = pd.to_datetime(ts_zillow_data_dallas_county['date']) # Create a datetime column from \"Date.\"\"\n",
    "ts_zillow_data_dallas_county = ts_zillow_data_dallas_county.set_index('datetime') # Set the datetime as the index of the dataframe.\n",
    "ts_zillow_data_dallas_county.drop(['date', 'indicator_id', 'region_id'], axis=1, inplace=True) # Drop the \"Date\" column.\n",
    "ts_zillow_data_dallas_county.head()"
   ]
  },
  {
   "cell_type": "code",
   "execution_count": 92,
   "id": "06d210fd-1c9e-40d4-817e-f6aba5df55de",
   "metadata": {
    "execution": {
     "iopub.execute_input": "2023-06-26T21:54:08.772417Z",
     "iopub.status.busy": "2023-06-26T21:54:08.772172Z",
     "iopub.status.idle": "2023-06-26T21:54:08.781983Z",
     "shell.execute_reply": "2023-06-26T21:54:08.781387Z",
     "shell.execute_reply.started": "2023-06-26T21:54:08.772392Z"
    },
    "tags": []
   },
   "outputs": [
    {
     "data": {
      "text/html": [
       "<div>\n",
       "<style scoped>\n",
       "    .dataframe tbody tr th:only-of-type {\n",
       "        vertical-align: middle;\n",
       "    }\n",
       "\n",
       "    .dataframe tbody tr th {\n",
       "        vertical-align: top;\n",
       "    }\n",
       "\n",
       "    .dataframe thead th {\n",
       "        text-align: right;\n",
       "    }\n",
       "</style>\n",
       "<table border=\"1\" class=\"dataframe\">\n",
       "  <thead>\n",
       "    <tr style=\"text-align: right;\">\n",
       "      <th></th>\n",
       "      <th>value</th>\n",
       "    </tr>\n",
       "    <tr>\n",
       "      <th>datetime</th>\n",
       "      <th></th>\n",
       "    </tr>\n",
       "  </thead>\n",
       "  <tbody>\n",
       "    <tr>\n",
       "      <th>1996-05-31</th>\n",
       "      <td>98381.0</td>\n",
       "    </tr>\n",
       "    <tr>\n",
       "      <th>1996-04-30</th>\n",
       "      <td>98032.0</td>\n",
       "    </tr>\n",
       "    <tr>\n",
       "      <th>1996-03-31</th>\n",
       "      <td>97707.0</td>\n",
       "    </tr>\n",
       "    <tr>\n",
       "      <th>1996-02-29</th>\n",
       "      <td>97503.0</td>\n",
       "    </tr>\n",
       "    <tr>\n",
       "      <th>1996-01-31</th>\n",
       "      <td>97443.0</td>\n",
       "    </tr>\n",
       "  </tbody>\n",
       "</table>\n",
       "</div>"
      ],
      "text/plain": [
       "              value\n",
       "datetime           \n",
       "1996-05-31  98381.0\n",
       "1996-04-30  98032.0\n",
       "1996-03-31  97707.0\n",
       "1996-02-29  97503.0\n",
       "1996-01-31  97443.0"
      ]
     },
     "execution_count": 92,
     "metadata": {},
     "output_type": "execute_result"
    }
   ],
   "source": [
    "ts_zillow_data_dallas_county.tail()"
   ]
  },
  {
   "cell_type": "code",
   "execution_count": 94,
   "id": "05032392-50d3-4d32-81f6-f436fc4b9ae7",
   "metadata": {
    "execution": {
     "iopub.execute_input": "2023-06-26T21:54:31.768641Z",
     "iopub.status.busy": "2023-06-26T21:54:31.768397Z",
     "iopub.status.idle": "2023-06-26T21:54:31.775074Z",
     "shell.execute_reply": "2023-06-26T21:54:31.773728Z",
     "shell.execute_reply.started": "2023-06-26T21:54:31.768616Z"
    },
    "tags": []
   },
   "outputs": [
    {
     "data": {
      "text/plain": [
       "pandas.core.frame.DataFrame"
      ]
     },
     "execution_count": 94,
     "metadata": {},
     "output_type": "execute_result"
    }
   ],
   "source": [
    "type(ts_zillow_data_dallas_county)"
   ]
  },
  {
   "cell_type": "code",
   "execution_count": 95,
   "id": "6d5f5a61-808e-46bd-83f0-a6361dee6fe3",
   "metadata": {
    "execution": {
     "iopub.execute_input": "2023-06-26T21:55:12.451201Z",
     "iopub.status.busy": "2023-06-26T21:55:12.450949Z",
     "iopub.status.idle": "2023-06-26T21:55:12.674630Z",
     "shell.execute_reply": "2023-06-26T21:55:12.674141Z",
     "shell.execute_reply.started": "2023-06-26T21:55:12.451175Z"
    },
    "tags": []
   },
   "outputs": [
    {
     "data": {
      "text/plain": [
       "[<matplotlib.lines.Line2D at 0x7faaff046a30>]"
      ]
     },
     "execution_count": 95,
     "metadata": {},
     "output_type": "execute_result"
    },
    {
     "data": {
      "image/png": "[encoded data removed]",
      "text/plain": [
       "<Figure size 1500x500 with 1 Axes>"
      ]
     },
     "metadata": {
      "needs_background": "light"
     },
     "output_type": "display_data"
    }
   ],
   "source": [
    "# Plot the new data set\n",
    "\n",
    "plt.figure(figsize=(15,5), dpi=100)\n",
    "plt.plot(ts_zillow_data_dallas_county)"
   ]
  },
  {
   "cell_type": "markdown",
   "id": "1a39317c-3851-4c2c-a89a-a56aec4f83dd",
   "metadata": {},
   "source": [
    "## Much better!"
   ]
  },
  {
   "cell_type": "code",
   "execution_count": 96,
   "id": "4ebc0374-4717-400c-8298-d03e4d4a824c",
   "metadata": {
    "execution": {
     "iopub.execute_input": "2023-06-26T21:58:31.035400Z",
     "iopub.status.busy": "2023-06-26T21:58:31.035022Z",
     "iopub.status.idle": "2023-06-26T21:58:31.043803Z",
     "shell.execute_reply": "2023-06-26T21:58:31.042847Z",
     "shell.execute_reply.started": "2023-06-26T21:58:31.035360Z"
    },
    "tags": []
   },
   "outputs": [
    {
     "data": {
      "text/plain": [
       "value    0\n",
       "dtype: int64"
      ]
     },
     "execution_count": 96,
     "metadata": {},
     "output_type": "execute_result"
    }
   ],
   "source": [
    "# Check for missing values.\n",
    "\n",
    "ts_zillow_data_dallas_county.isnull().sum() "
   ]
  },
  {
   "cell_type": "code",
   "execution_count": 97,
   "id": "013edab3-5d3b-4de7-87db-d0f491ff3311",
   "metadata": {
    "execution": {
     "iopub.execute_input": "2023-06-26T21:58:52.509457Z",
     "iopub.status.busy": "2023-06-26T21:58:52.509204Z",
     "iopub.status.idle": "2023-06-26T21:58:52.518452Z",
     "shell.execute_reply": "2023-06-26T21:58:52.517675Z",
     "shell.execute_reply.started": "2023-06-26T21:58:52.509433Z"
    },
    "tags": []
   },
   "outputs": [
    {
     "data": {
      "text/plain": [
       "1"
      ]
     },
     "execution_count": 97,
     "metadata": {},
     "output_type": "execute_result"
    }
   ],
   "source": [
    "# Check for duplicates.\n",
    "\n",
    "dups = ts_zillow_data_dallas_county.duplicated()\n",
    "dups.sum()"
   ]
  },
  {
   "cell_type": "code",
   "execution_count": null,
   "id": "6ec4e997-301d-413c-b7e5-7e0dcc58dc9f",
   "metadata": {},
   "outputs": [],
   "source": [
    "# Aw, we have a duplicate to investigate."
   ]
  },
  {
   "cell_type": "code",
   "execution_count": 114,
   "id": "4498f1bc-55f5-482c-8907-ffbea9fbe62e",
   "metadata": {
    "execution": {
     "iopub.execute_input": "2023-06-26T22:15:33.982760Z",
     "iopub.status.busy": "2023-06-26T22:15:33.982524Z",
     "iopub.status.idle": "2023-06-26T22:15:33.987242Z",
     "shell.execute_reply": "2023-06-26T22:15:33.986450Z",
     "shell.execute_reply.started": "2023-06-26T22:15:33.982736Z"
    },
    "tags": []
   },
   "outputs": [],
   "source": [
    "#pd.set_option('display.max_rows', None)   # Show all rows\n",
    "# The following is the code to reset these, if needed:\n",
    "#pd.reset_option('display.max_rows')"
   ]
  },
  {
   "cell_type": "code",
   "execution_count": 113,
   "id": "b44af105-943a-4c4b-85d1-2635bfefcae0",
   "metadata": {
    "execution": {
     "iopub.execute_input": "2023-06-26T22:14:57.511660Z",
     "iopub.status.busy": "2023-06-26T22:14:57.510965Z",
     "iopub.status.idle": "2023-06-26T22:14:57.521029Z",
     "shell.execute_reply": "2023-06-26T22:14:57.519823Z",
     "shell.execute_reply.started": "2023-06-26T22:14:57.511621Z"
    },
    "tags": []
   },
   "outputs": [
    {
     "data": {
      "text/plain": [
       "datetime\n",
       "2023-05-31    False\n",
       "2023-04-30    False\n",
       "2023-03-31    False\n",
       "2023-02-28    False\n",
       "2023-01-31    False\n",
       "              ...  \n",
       "1996-05-31    False\n",
       "1996-04-30    False\n",
       "1996-03-31    False\n",
       "1996-02-29    False\n",
       "1996-01-31    False\n",
       "Length: 329, dtype: bool"
      ]
     },
     "execution_count": 113,
     "metadata": {},
     "output_type": "execute_result"
    }
   ],
   "source": [
    "dups"
   ]
  },
  {
   "cell_type": "code",
   "execution_count": 104,
   "id": "ccaf252a-38bf-4d07-b731-6c504c19ee30",
   "metadata": {
    "execution": {
     "iopub.execute_input": "2023-06-26T22:06:18.881712Z",
     "iopub.status.busy": "2023-06-26T22:06:18.881471Z",
     "iopub.status.idle": "2023-06-26T22:06:18.887881Z",
     "shell.execute_reply": "2023-06-26T22:06:18.887203Z",
     "shell.execute_reply.started": "2023-06-26T22:06:18.881688Z"
    },
    "tags": []
   },
   "outputs": [
    {
     "data": {
      "text/plain": [
       "False    328\n",
       "True       1\n",
       "dtype: int64"
      ]
     },
     "execution_count": 104,
     "metadata": {},
     "output_type": "execute_result"
    }
   ],
   "source": [
    "dups.value_counts()"
   ]
  },
  {
   "cell_type": "code",
   "execution_count": 115,
   "id": "9ec46bc3-9b64-484e-b57f-411ece86126f",
   "metadata": {
    "execution": {
     "iopub.execute_input": "2023-06-26T22:16:06.722577Z",
     "iopub.status.busy": "2023-06-26T22:16:06.721916Z",
     "iopub.status.idle": "2023-06-26T22:16:06.726257Z",
     "shell.execute_reply": "2023-06-26T22:16:06.725531Z",
     "shell.execute_reply.started": "2023-06-26T22:16:06.722540Z"
    },
    "tags": []
   },
   "outputs": [],
   "source": [
    "# OK, duplicate confirmed, but let's see what it is!"
   ]
  },
  {
   "cell_type": "code",
   "execution_count": 107,
   "id": "5eb0214c-a033-4bf9-8d0a-ed6464d750b2",
   "metadata": {
    "execution": {
     "iopub.execute_input": "2023-06-26T22:13:20.134979Z",
     "iopub.status.busy": "2023-06-26T22:13:20.134664Z",
     "iopub.status.idle": "2023-06-26T22:13:20.140157Z",
     "shell.execute_reply": "2023-06-26T22:13:20.139260Z",
     "shell.execute_reply.started": "2023-06-26T22:13:20.134946Z"
    },
    "tags": []
   },
   "outputs": [],
   "source": [
    "dups_mask = ts_zillow_data_dallas_county.duplicated(keep=False)  # Create a mask for duplicate rows"
   ]
  },
  {
   "cell_type": "code",
   "execution_count": 108,
   "id": "7bffbce0-3f90-460a-b375-7480e7c33d41",
   "metadata": {
    "execution": {
     "iopub.execute_input": "2023-06-26T22:13:24.271141Z",
     "iopub.status.busy": "2023-06-26T22:13:24.270877Z",
     "iopub.status.idle": "2023-06-26T22:13:24.275825Z",
     "shell.execute_reply": "2023-06-26T22:13:24.274940Z",
     "shell.execute_reply.started": "2023-06-26T22:13:24.271113Z"
    },
    "tags": []
   },
   "outputs": [],
   "source": [
    "duplicate_entry = ts_zillow_data_dallas_county[dups_mask]  # Filter the time series using the mask"
   ]
  },
  {
   "cell_type": "code",
   "execution_count": 109,
   "id": "05167f5e-6abb-40e0-add9-da287ac2acf5",
   "metadata": {
    "execution": {
     "iopub.execute_input": "2023-06-26T22:13:33.549179Z",
     "iopub.status.busy": "2023-06-26T22:13:33.548928Z",
     "iopub.status.idle": "2023-06-26T22:13:33.555101Z",
     "shell.execute_reply": "2023-06-26T22:13:33.554497Z",
     "shell.execute_reply.started": "2023-06-26T22:13:33.549154Z"
    },
    "tags": []
   },
   "outputs": [
    {
     "name": "stdout",
     "output_type": "stream",
     "text": [
      "               value\n",
      "datetime            \n",
      "2010-12-31  127715.0\n",
      "2010-11-30  127715.0\n"
     ]
    }
   ],
   "source": [
    "print(duplicate_entry)"
   ]
  },
  {
   "cell_type": "markdown",
   "id": "6af56333-4ae8-4128-8e26-83fe5a0703be",
   "metadata": {
    "tags": []
   },
   "source": [
    "## Hmmm, might the price for single-family homes have stayed the same for two months in a row?\n",
    "## I am not an expert in real estate, but I would expect at least a slight change.\n",
    "## That said, maybe this duplicate is the result of someone imputing missing data.\n",
    "## What do we have for the months immediately preceding and following these two?"
   ]
  },
  {
   "cell_type": "code",
   "execution_count": 116,
   "id": "deb832f2-af8c-4db5-873b-78fd07f86e74",
   "metadata": {
    "execution": {
     "iopub.execute_input": "2023-06-26T22:20:44.507391Z",
     "iopub.status.busy": "2023-06-26T22:20:44.507146Z",
     "iopub.status.idle": "2023-06-26T22:20:44.512683Z",
     "shell.execute_reply": "2023-06-26T22:20:44.511840Z",
     "shell.execute_reply.started": "2023-06-26T22:20:44.507367Z"
    },
    "tags": []
   },
   "outputs": [
    {
     "data": {
      "text/plain": [
       "Index(['indicator_id', 'region_id', 'date', 'value', 'datetime'], dtype='object')"
      ]
     },
     "execution_count": 116,
     "metadata": {},
     "output_type": "execute_result"
    }
   ],
   "source": [
    "df_zillow_data_dallas_county.columns"
   ]
  },
  {
   "cell_type": "code",
   "execution_count": 130,
   "id": "86a5fd9a-605a-40ac-a883-26cf3baed0bf",
   "metadata": {
    "execution": {
     "iopub.execute_input": "2023-06-26T22:45:15.195591Z",
     "iopub.status.busy": "2023-06-26T22:45:15.195013Z",
     "iopub.status.idle": "2023-06-26T22:45:15.201304Z",
     "shell.execute_reply": "2023-06-26T22:45:15.200369Z",
     "shell.execute_reply.started": "2023-06-26T22:45:15.195565Z"
    },
    "tags": []
   },
   "outputs": [
    {
     "data": {
      "text/plain": [
       "(329, 5)"
      ]
     },
     "execution_count": 130,
     "metadata": {},
     "output_type": "execute_result"
    }
   ],
   "source": [
    "df_zillow_data_dallas_county.shape"
   ]
  },
  {
   "cell_type": "code",
   "execution_count": 119,
   "id": "0f3b5a52-a513-49b5-b3ef-1c31204b26ab",
   "metadata": {
    "execution": {
     "iopub.execute_input": "2023-06-26T22:21:42.410082Z",
     "iopub.status.busy": "2023-06-26T22:21:42.409838Z",
     "iopub.status.idle": "2023-06-26T22:21:42.423354Z",
     "shell.execute_reply": "2023-06-26T22:21:42.422574Z",
     "shell.execute_reply.started": "2023-06-26T22:21:42.410058Z"
    },
    "tags": []
   },
   "outputs": [
    {
     "data": {
      "text/html": [
       "<div>\n",
       "<style scoped>\n",
       "    .dataframe tbody tr th:only-of-type {\n",
       "        vertical-align: middle;\n",
       "    }\n",
       "\n",
       "    .dataframe tbody tr th {\n",
       "        vertical-align: top;\n",
       "    }\n",
       "\n",
       "    .dataframe thead th {\n",
       "        text-align: right;\n",
       "    }\n",
       "</style>\n",
       "<table border=\"1\" class=\"dataframe\">\n",
       "  <thead>\n",
       "    <tr style=\"text-align: right;\">\n",
       "      <th></th>\n",
       "      <th>indicator_id</th>\n",
       "      <th>region_id</th>\n",
       "      <th>date</th>\n",
       "      <th>value</th>\n",
       "      <th>datetime</th>\n",
       "    </tr>\n",
       "    <tr>\n",
       "      <th>None</th>\n",
       "      <th></th>\n",
       "      <th></th>\n",
       "      <th></th>\n",
       "      <th></th>\n",
       "      <th></th>\n",
       "    </tr>\n",
       "  </thead>\n",
       "  <tbody>\n",
       "    <tr>\n",
       "      <th>898</th>\n",
       "      <td>ZSFH</td>\n",
       "      <td>978</td>\n",
       "      <td>2010-10-31</td>\n",
       "      <td>128768.0</td>\n",
       "      <td>2010-10-31</td>\n",
       "    </tr>\n",
       "  </tbody>\n",
       "</table>\n",
       "</div>"
      ],
      "text/plain": [
       "     indicator_id region_id       date     value   datetime\n",
       "None                                                       \n",
       "898          ZSFH       978 2010-10-31  128768.0 2010-10-31"
      ]
     },
     "execution_count": 119,
     "metadata": {},
     "output_type": "execute_result"
    }
   ],
   "source": [
    "df_zillow_data_dallas_county.loc[(df_zillow_data_dallas_county['datetime'] == '2010-10-31')]"
   ]
  },
  {
   "cell_type": "code",
   "execution_count": 120,
   "id": "f2949ef5-b818-4635-862c-6d4717d92bd7",
   "metadata": {
    "execution": {
     "iopub.execute_input": "2023-06-26T22:21:54.220634Z",
     "iopub.status.busy": "2023-06-26T22:21:54.220014Z",
     "iopub.status.idle": "2023-06-26T22:21:54.232747Z",
     "shell.execute_reply": "2023-06-26T22:21:54.231757Z",
     "shell.execute_reply.started": "2023-06-26T22:21:54.220607Z"
    },
    "tags": []
   },
   "outputs": [
    {
     "data": {
      "text/html": [
       "<div>\n",
       "<style scoped>\n",
       "    .dataframe tbody tr th:only-of-type {\n",
       "        vertical-align: middle;\n",
       "    }\n",
       "\n",
       "    .dataframe tbody tr th {\n",
       "        vertical-align: top;\n",
       "    }\n",
       "\n",
       "    .dataframe thead th {\n",
       "        text-align: right;\n",
       "    }\n",
       "</style>\n",
       "<table border=\"1\" class=\"dataframe\">\n",
       "  <thead>\n",
       "    <tr style=\"text-align: right;\">\n",
       "      <th></th>\n",
       "      <th>indicator_id</th>\n",
       "      <th>region_id</th>\n",
       "      <th>date</th>\n",
       "      <th>value</th>\n",
       "      <th>datetime</th>\n",
       "    </tr>\n",
       "    <tr>\n",
       "      <th>None</th>\n",
       "      <th></th>\n",
       "      <th></th>\n",
       "      <th></th>\n",
       "      <th></th>\n",
       "      <th></th>\n",
       "    </tr>\n",
       "  </thead>\n",
       "  <tbody>\n",
       "    <tr>\n",
       "      <th>895</th>\n",
       "      <td>ZSFH</td>\n",
       "      <td>978</td>\n",
       "      <td>2011-01-31</td>\n",
       "      <td>127687.0</td>\n",
       "      <td>2011-01-31</td>\n",
       "    </tr>\n",
       "  </tbody>\n",
       "</table>\n",
       "</div>"
      ],
      "text/plain": [
       "     indicator_id region_id       date     value   datetime\n",
       "None                                                       \n",
       "895          ZSFH       978 2011-01-31  127687.0 2011-01-31"
      ]
     },
     "execution_count": 120,
     "metadata": {},
     "output_type": "execute_result"
    }
   ],
   "source": [
    "df_zillow_data_dallas_county.loc[(df_zillow_data_dallas_county['datetime'] == '2011-01-31')]"
   ]
  },
  {
   "cell_type": "markdown",
   "id": "b0514a72-12b5-4934-ac82-3b5c9acb3ca6",
   "metadata": {},
   "source": [
    "## The duplicate values lie between the values for both the previous month and the following month, so I am going to make a judgement call and accept them as legitimate, for now.  I would rather have an unbroken time series than worry about this duplication."
   ]
  },
  {
   "cell_type": "markdown",
   "id": "aa22ca88-820c-4602-b156-ddaf50a35f4a",
   "metadata": {},
   "source": [
    "# Step 4:  Create a line chart of your data."
   ]
  },
  {
   "cell_type": "markdown",
   "id": "e6b54121-dab5-4abb-bd73-0d303836ca6a",
   "metadata": {},
   "source": [
    "## Done above."
   ]
  },
  {
   "cell_type": "markdown",
   "id": "d2239ae8-dc7e-4eaa-9a67-cdea4df1ae63",
   "metadata": {},
   "source": [
    "# Step 5:  Decompose the data’s components.\n",
    "## Analyze the results from the plot in a markdown cell."
   ]
  },
  {
   "cell_type": "code",
   "execution_count": 121,
   "id": "ab317942-6f8b-4288-8ac2-73ccd3a46261",
   "metadata": {
    "execution": {
     "iopub.execute_input": "2023-06-26T22:36:35.385830Z",
     "iopub.status.busy": "2023-06-26T22:36:35.385568Z",
     "iopub.status.idle": "2023-06-26T22:36:35.399067Z",
     "shell.execute_reply": "2023-06-26T22:36:35.398161Z",
     "shell.execute_reply.started": "2023-06-26T22:36:35.385801Z"
    },
    "tags": []
   },
   "outputs": [],
   "source": [
    "# Decompose the time series using an additive model\n",
    "\n",
    "decomposition = sm.tsa.seasonal_decompose(ts_zillow_data_dallas_county, model='additive')"
   ]
  },
  {
   "cell_type": "code",
   "execution_count": 122,
   "id": "25119c06-5fff-496c-b14c-21f6915f1931",
   "metadata": {
    "execution": {
     "iopub.execute_input": "2023-06-26T22:36:48.322546Z",
     "iopub.status.busy": "2023-06-26T22:36:48.321826Z",
     "iopub.status.idle": "2023-06-26T22:36:48.326428Z",
     "shell.execute_reply": "2023-06-26T22:36:48.325615Z",
     "shell.execute_reply.started": "2023-06-26T22:36:48.322519Z"
    },
    "tags": []
   },
   "outputs": [],
   "source": [
    "from pylab import rcParams # This will define a fixed size for all special charts.\n",
    "\n",
    "rcParams['figure.figsize'] = 18, 7"
   ]
  },
  {
   "cell_type": "code",
   "execution_count": 123,
   "id": "9d401e08-598e-4ead-b575-6404af6e9f1c",
   "metadata": {
    "execution": {
     "iopub.execute_input": "2023-06-26T22:36:56.143766Z",
     "iopub.status.busy": "2023-06-26T22:36:56.143026Z",
     "iopub.status.idle": "2023-06-26T22:36:56.789593Z",
     "shell.execute_reply": "2023-06-26T22:36:56.788705Z",
     "shell.execute_reply.started": "2023-06-26T22:36:56.143727Z"
    },
    "tags": []
   },
   "outputs": [
    {
     "data": {
      "image/png": "[encoded data removed]",
      "text/plain": [
       "<Figure size 1296x504 with 4 Axes>"
      ]
     },
     "metadata": {
      "needs_background": "light"
     },
     "output_type": "display_data"
    }
   ],
   "source": [
    "# Plot the separate components\n",
    "\n",
    "decomposition.plot()\n",
    "plt.show()"
   ]
  },
  {
   "cell_type": "markdown",
   "id": "64613e08-fa3a-4f1f-a0c3-c8db159ca3bf",
   "metadata": {},
   "source": [
    "## Bummer!  The timelines for my decompoisition graphs are reversed!  I had noticed that my time series had the most recent timestamps at the beginning, but it did not cause a problem for my line graphs, earlier."
   ]
  },
  {
   "cell_type": "code",
   "execution_count": 126,
   "id": "33f5c1b0-fdd8-452c-90bc-56ee0c23625e",
   "metadata": {
    "execution": {
     "iopub.execute_input": "2023-06-26T22:43:46.299448Z",
     "iopub.status.busy": "2023-06-26T22:43:46.299196Z",
     "iopub.status.idle": "2023-06-26T22:43:46.303552Z",
     "shell.execute_reply": "2023-06-26T22:43:46.302759Z",
     "shell.execute_reply.started": "2023-06-26T22:43:46.299423Z"
    },
    "tags": []
   },
   "outputs": [],
   "source": [
    "# Let's reverse the order of the dataframe!\n",
    "reversed_df = ts_zillow_data_dallas_county[::-1]"
   ]
  },
  {
   "cell_type": "code",
   "execution_count": 127,
   "id": "c4be9b4d-1022-45d8-b3d2-cdfecfa5777c",
   "metadata": {
    "execution": {
     "iopub.execute_input": "2023-06-26T22:44:05.321412Z",
     "iopub.status.busy": "2023-06-26T22:44:05.321166Z",
     "iopub.status.idle": "2023-06-26T22:44:05.330707Z",
     "shell.execute_reply": "2023-06-26T22:44:05.329836Z",
     "shell.execute_reply.started": "2023-06-26T22:44:05.321388Z"
    },
    "tags": []
   },
   "outputs": [
    {
     "data": {
      "text/html": [
       "<div>\n",
       "<style scoped>\n",
       "    .dataframe tbody tr th:only-of-type {\n",
       "        vertical-align: middle;\n",
       "    }\n",
       "\n",
       "    .dataframe tbody tr th {\n",
       "        vertical-align: top;\n",
       "    }\n",
       "\n",
       "    .dataframe thead th {\n",
       "        text-align: right;\n",
       "    }\n",
       "</style>\n",
       "<table border=\"1\" class=\"dataframe\">\n",
       "  <thead>\n",
       "    <tr style=\"text-align: right;\">\n",
       "      <th></th>\n",
       "      <th>value</th>\n",
       "    </tr>\n",
       "    <tr>\n",
       "      <th>datetime</th>\n",
       "      <th></th>\n",
       "    </tr>\n",
       "  </thead>\n",
       "  <tbody>\n",
       "    <tr>\n",
       "      <th>1996-01-31</th>\n",
       "      <td>97443.0</td>\n",
       "    </tr>\n",
       "    <tr>\n",
       "      <th>1996-02-29</th>\n",
       "      <td>97503.0</td>\n",
       "    </tr>\n",
       "    <tr>\n",
       "      <th>1996-03-31</th>\n",
       "      <td>97707.0</td>\n",
       "    </tr>\n",
       "    <tr>\n",
       "      <th>1996-04-30</th>\n",
       "      <td>98032.0</td>\n",
       "    </tr>\n",
       "    <tr>\n",
       "      <th>1996-05-31</th>\n",
       "      <td>98381.0</td>\n",
       "    </tr>\n",
       "  </tbody>\n",
       "</table>\n",
       "</div>"
      ],
      "text/plain": [
       "              value\n",
       "datetime           \n",
       "1996-01-31  97443.0\n",
       "1996-02-29  97503.0\n",
       "1996-03-31  97707.0\n",
       "1996-04-30  98032.0\n",
       "1996-05-31  98381.0"
      ]
     },
     "execution_count": 127,
     "metadata": {},
     "output_type": "execute_result"
    }
   ],
   "source": [
    "reversed_df.head()"
   ]
  },
  {
   "cell_type": "code",
   "execution_count": 128,
   "id": "c6c9fabf-33a8-48f3-8d38-f1d68d47dcda",
   "metadata": {
    "execution": {
     "iopub.execute_input": "2023-06-26T22:44:13.069724Z",
     "iopub.status.busy": "2023-06-26T22:44:13.069472Z",
     "iopub.status.idle": "2023-06-26T22:44:13.079734Z",
     "shell.execute_reply": "2023-06-26T22:44:13.078496Z",
     "shell.execute_reply.started": "2023-06-26T22:44:13.069700Z"
    },
    "tags": []
   },
   "outputs": [
    {
     "data": {
      "text/html": [
       "<div>\n",
       "<style scoped>\n",
       "    .dataframe tbody tr th:only-of-type {\n",
       "        vertical-align: middle;\n",
       "    }\n",
       "\n",
       "    .dataframe tbody tr th {\n",
       "        vertical-align: top;\n",
       "    }\n",
       "\n",
       "    .dataframe thead th {\n",
       "        text-align: right;\n",
       "    }\n",
       "</style>\n",
       "<table border=\"1\" class=\"dataframe\">\n",
       "  <thead>\n",
       "    <tr style=\"text-align: right;\">\n",
       "      <th></th>\n",
       "      <th>value</th>\n",
       "    </tr>\n",
       "    <tr>\n",
       "      <th>datetime</th>\n",
       "      <th></th>\n",
       "    </tr>\n",
       "  </thead>\n",
       "  <tbody>\n",
       "    <tr>\n",
       "      <th>2023-01-31</th>\n",
       "      <td>318855.598152</td>\n",
       "    </tr>\n",
       "    <tr>\n",
       "      <th>2023-02-28</th>\n",
       "      <td>319388.827100</td>\n",
       "    </tr>\n",
       "    <tr>\n",
       "      <th>2023-03-31</th>\n",
       "      <td>323775.027494</td>\n",
       "    </tr>\n",
       "    <tr>\n",
       "      <th>2023-04-30</th>\n",
       "      <td>324002.440681</td>\n",
       "    </tr>\n",
       "    <tr>\n",
       "      <th>2023-05-31</th>\n",
       "      <td>324978.027979</td>\n",
       "    </tr>\n",
       "  </tbody>\n",
       "</table>\n",
       "</div>"
      ],
      "text/plain": [
       "                    value\n",
       "datetime                 \n",
       "2023-01-31  318855.598152\n",
       "2023-02-28  319388.827100\n",
       "2023-03-31  323775.027494\n",
       "2023-04-30  324002.440681\n",
       "2023-05-31  324978.027979"
      ]
     },
     "execution_count": 128,
     "metadata": {},
     "output_type": "execute_result"
    }
   ],
   "source": [
    "reversed_df.tail()"
   ]
  },
  {
   "cell_type": "code",
   "execution_count": 129,
   "id": "06f2197e-6912-4106-b3c9-07c71785d404",
   "metadata": {
    "execution": {
     "iopub.execute_input": "2023-06-26T22:44:22.092846Z",
     "iopub.status.busy": "2023-06-26T22:44:22.092415Z",
     "iopub.status.idle": "2023-06-26T22:44:22.098062Z",
     "shell.execute_reply": "2023-06-26T22:44:22.097277Z",
     "shell.execute_reply.started": "2023-06-26T22:44:22.092820Z"
    },
    "tags": []
   },
   "outputs": [
    {
     "data": {
      "text/plain": [
       "(329, 1)"
      ]
     },
     "execution_count": 129,
     "metadata": {},
     "output_type": "execute_result"
    }
   ],
   "source": [
    "reversed_df.shape"
   ]
  },
  {
   "cell_type": "code",
   "execution_count": 131,
   "id": "99572325-2695-4ce4-a1d1-357abf3e591e",
   "metadata": {
    "execution": {
     "iopub.execute_input": "2023-06-26T22:46:21.363276Z",
     "iopub.status.busy": "2023-06-26T22:46:21.363020Z",
     "iopub.status.idle": "2023-06-26T22:46:21.370731Z",
     "shell.execute_reply": "2023-06-26T22:46:21.369948Z",
     "shell.execute_reply.started": "2023-06-26T22:46:21.363251Z"
    },
    "tags": []
   },
   "outputs": [],
   "source": [
    "# Decompose the time series using an additive model\n",
    "\n",
    "decomposition = sm.tsa.seasonal_decompose(reversed_df, model='additive')"
   ]
  },
  {
   "cell_type": "code",
   "execution_count": 132,
   "id": "95bb3c8a-6441-4f4d-aaeb-cb8eff935a6a",
   "metadata": {
    "execution": {
     "iopub.execute_input": "2023-06-26T22:46:21.372947Z",
     "iopub.status.busy": "2023-06-26T22:46:21.372606Z",
     "iopub.status.idle": "2023-06-26T22:46:21.378424Z",
     "shell.execute_reply": "2023-06-26T22:46:21.377040Z",
     "shell.execute_reply.started": "2023-06-26T22:46:21.372909Z"
    },
    "tags": []
   },
   "outputs": [],
   "source": [
    "from pylab import rcParams # This will define a fixed size for all special charts.\n",
    "\n",
    "rcParams['figure.figsize'] = 18, 7"
   ]
  },
  {
   "cell_type": "code",
   "execution_count": 133,
   "id": "7bae1dd0-f630-47dc-8c04-eebb5bc0683e",
   "metadata": {
    "execution": {
     "iopub.execute_input": "2023-06-26T22:46:21.380226Z",
     "iopub.status.busy": "2023-06-26T22:46:21.379996Z",
     "iopub.status.idle": "2023-06-26T22:46:22.019255Z",
     "shell.execute_reply": "2023-06-26T22:46:22.018462Z",
     "shell.execute_reply.started": "2023-06-26T22:46:21.380203Z"
    },
    "tags": []
   },
   "outputs": [
    {
     "data": {
      "image/png": "[encoded data removed]",
      "text/plain": [
       "<Figure size 1296x504 with 4 Axes>"
      ]
     },
     "metadata": {
      "needs_background": "light"
     },
     "output_type": "display_data"
    }
   ],
   "source": [
    "# Plot the separate components\n",
    "\n",
    "decomposition.plot()\n",
    "plt.show()"
   ]
  },
  {
   "cell_type": "markdown",
   "id": "52405f87-2196-4553-866f-7c92c9bf4a8c",
   "metadata": {},
   "source": [
    "## The reversal appears to have succeeded.\n",
    "## The original data, or level, is plotted at the top.\n",
    "## The underlying trend is plotted next, and it matches the level quite closely, except after the year 2020, where some noise is introduced as evident in the bottom plot.  The obvious suspect for the cause of the noise is the COVID-19 pandemic.\n",
    "## The trend bends slightly upward before the year 2008, then dips downward - likely due to the global financial crisis of that time - until around 2012, after which it begins a markedly steeper ascent than before.  That ascent continues through almost to the present, with a levelling off at the end.\n",
    "## The third plot shows vary consistent seasonality."
   ]
  },
  {
   "cell_type": "markdown",
   "id": "65aa3e52-5de8-4744-8f37-5ec6410f27f3",
   "metadata": {},
   "source": [
    "# Step 6:  Conduct a Dickey-Fuller test to check for stationarity."
   ]
  },
  {
   "cell_type": "markdown",
   "id": "4e8bc34e-908e-47bf-9daf-ccceb7e079b2",
   "metadata": {},
   "source": [
    "## Disprove the null hypothesis = no unit root = stationary data = can proceed with forecast"
   ]
  },
  {
   "cell_type": "code",
   "execution_count": 135,
   "id": "5806c263-dff3-45f2-aed0-7cf0eb69ad88",
   "metadata": {
    "execution": {
     "iopub.execute_input": "2023-06-26T23:03:25.496435Z",
     "iopub.status.busy": "2023-06-26T23:03:25.496172Z",
     "iopub.status.idle": "2023-06-26T23:03:25.568860Z",
     "shell.execute_reply": "2023-06-26T23:03:25.568032Z",
     "shell.execute_reply.started": "2023-06-26T23:03:25.496410Z"
    },
    "tags": []
   },
   "outputs": [
    {
     "name": "stdout",
     "output_type": "stream",
     "text": [
      "Dickey-Fuller Stationarity test:\n",
      "Test Statistic                   2.463516\n",
      "p-value                          0.999037\n",
      "Number of Lags Used             16.000000\n",
      "Number of Observations Used    312.000000\n",
      "Critical Value (1%)             -3.451484\n",
      "Critical Value (5%)             -2.870849\n",
      "Critical Value (10%)            -2.571730\n",
      "dtype: float64\n"
     ]
    }
   ],
   "source": [
    "# The adfuller() function will import from the model from statsmodels for the test; however, running it will only\n",
    "# return an array of numbers. This is why you need to also define a function that prints the correct output from\n",
    "# that array.\n",
    "\n",
    "from statsmodels.tsa.stattools import adfuller # Import the adfuller() function\n",
    "\n",
    "def dickey_fuller(timeseries): # Define the function\n",
    "    # Perform the Dickey-Fuller test:\n",
    "    print ('Dickey-Fuller Stationarity test:')\n",
    "    test = adfuller(timeseries, autolag='AIC')\n",
    "    result = pd.Series(test[0:4], index=['Test Statistic','p-value','Number of Lags Used','Number of Observations Used'])\n",
    "    for key,value in test[4].items():\n",
    "       result['Critical Value (%s)'%key] = value\n",
    "    print (result)\n",
    "\n",
    "# Apply the test using the function on the time series\n",
    "dickey_fuller(reversed_df['value'])"
   ]
  },
  {
   "cell_type": "markdown",
   "id": "5e24c348-5159-45a2-97ff-c52d3c8e9be8",
   "metadata": {},
   "source": [
    "## Discussion:  The Test Statistic (2.46) is greater than all of the Critical Values.  Therefore, we cannot disprove the null hypothesis (i.e. there *is* a unit root), and thus the data is not stationary (which one could guess from the preceding plot of the level, anyway)."
   ]
  },
  {
   "cell_type": "code",
   "execution_count": 136,
   "id": "e222002e-d040-4d6e-a1ef-d819ce3a1540",
   "metadata": {
    "execution": {
     "iopub.execute_input": "2023-06-26T23:04:48.608687Z",
     "iopub.status.busy": "2023-06-26T23:04:48.608127Z",
     "iopub.status.idle": "2023-06-26T23:04:48.794124Z",
     "shell.execute_reply": "2023-06-26T23:04:48.793417Z",
     "shell.execute_reply.started": "2023-06-26T23:04:48.608657Z"
    },
    "tags": []
   },
   "outputs": [
    {
     "data": {
      "image/png": "[encoded data removed]",
      "text/plain": [
       "<Figure size 1296x504 with 1 Axes>"
      ]
     },
     "metadata": {
      "needs_background": "light"
     },
     "output_type": "display_data"
    }
   ],
   "source": [
    "# Check out a plot of autocorrelations\n",
    "\n",
    "from statsmodels.graphics.tsaplots import plot_acf, plot_pacf # Here, you import the autocorrelation and partial correlation plots\n",
    "\n",
    "plot_acf(reversed_df)\n",
    "plt.show()"
   ]
  },
  {
   "cell_type": "markdown",
   "id": "28b9a699-5d93-4122-81f2-d63a4ff082f8",
   "metadata": {},
   "source": [
    "## Not surprisingly, we see lots of autocorrelations.  After all, real estate prices tend not to rise or fall too precipitously."
   ]
  },
  {
   "cell_type": "markdown",
   "id": "03b6f756-5d93-44fb-8e22-1d5c7f4cf6bd",
   "metadata": {},
   "source": [
    "# Step 7:  If your data isn’t stationary, conduct a round of differencing on it and repeat step 6."
   ]
  },
  {
   "cell_type": "markdown",
   "id": "b4c3a1a6-fa30-458b-bcda-f08a43644ad1",
   "metadata": {},
   "source": [
    "## Stationarizing (differencing)"
   ]
  },
  {
   "cell_type": "code",
   "execution_count": 137,
   "id": "9eb8c254-4e90-4e04-b942-8ae79b35c87a",
   "metadata": {
    "execution": {
     "iopub.execute_input": "2023-06-26T23:17:36.950946Z",
     "iopub.status.busy": "2023-06-26T23:17:36.950681Z",
     "iopub.status.idle": "2023-06-26T23:17:36.955363Z",
     "shell.execute_reply": "2023-06-26T23:17:36.954423Z",
     "shell.execute_reply.started": "2023-06-26T23:17:36.950923Z"
    },
    "tags": []
   },
   "outputs": [],
   "source": [
    "data_diff = reversed_df - reversed_df.shift(1) # The df.shift(1) function turns the observation to t-1, making the whole thing t - (t -1)"
   ]
  },
  {
   "cell_type": "code",
   "execution_count": 138,
   "id": "ffea3a7c-6aef-4117-baa5-b6c93c5a00b7",
   "metadata": {
    "execution": {
     "iopub.execute_input": "2023-06-26T23:18:01.733482Z",
     "iopub.status.busy": "2023-06-26T23:18:01.733235Z",
     "iopub.status.idle": "2023-06-26T23:18:01.740146Z",
     "shell.execute_reply": "2023-06-26T23:18:01.739307Z",
     "shell.execute_reply.started": "2023-06-26T23:18:01.733458Z"
    },
    "tags": []
   },
   "outputs": [],
   "source": [
    "data_diff.dropna(inplace = True) # Here, you remove the missing values that came about as a result of the differencing. \n",
    "# You need to remove these or you won't be able to run the Dickey-Fuller test."
   ]
  },
  {
   "cell_type": "code",
   "execution_count": 139,
   "id": "417f97f6-b063-4d5e-92b4-fc05aa35de3f",
   "metadata": {
    "execution": {
     "iopub.execute_input": "2023-06-26T23:18:10.812988Z",
     "iopub.status.busy": "2023-06-26T23:18:10.812729Z",
     "iopub.status.idle": "2023-06-26T23:18:10.822124Z",
     "shell.execute_reply": "2023-06-26T23:18:10.821257Z",
     "shell.execute_reply.started": "2023-06-26T23:18:10.812961Z"
    },
    "tags": []
   },
   "outputs": [
    {
     "data": {
      "text/html": [
       "<div>\n",
       "<style scoped>\n",
       "    .dataframe tbody tr th:only-of-type {\n",
       "        vertical-align: middle;\n",
       "    }\n",
       "\n",
       "    .dataframe tbody tr th {\n",
       "        vertical-align: top;\n",
       "    }\n",
       "\n",
       "    .dataframe thead th {\n",
       "        text-align: right;\n",
       "    }\n",
       "</style>\n",
       "<table border=\"1\" class=\"dataframe\">\n",
       "  <thead>\n",
       "    <tr style=\"text-align: right;\">\n",
       "      <th></th>\n",
       "      <th>value</th>\n",
       "    </tr>\n",
       "    <tr>\n",
       "      <th>datetime</th>\n",
       "      <th></th>\n",
       "    </tr>\n",
       "  </thead>\n",
       "  <tbody>\n",
       "    <tr>\n",
       "      <th>1996-02-29</th>\n",
       "      <td>60.0</td>\n",
       "    </tr>\n",
       "    <tr>\n",
       "      <th>1996-03-31</th>\n",
       "      <td>204.0</td>\n",
       "    </tr>\n",
       "    <tr>\n",
       "      <th>1996-04-30</th>\n",
       "      <td>325.0</td>\n",
       "    </tr>\n",
       "    <tr>\n",
       "      <th>1996-05-31</th>\n",
       "      <td>349.0</td>\n",
       "    </tr>\n",
       "    <tr>\n",
       "      <th>1996-06-30</th>\n",
       "      <td>220.0</td>\n",
       "    </tr>\n",
       "  </tbody>\n",
       "</table>\n",
       "</div>"
      ],
      "text/plain": [
       "            value\n",
       "datetime         \n",
       "1996-02-29   60.0\n",
       "1996-03-31  204.0\n",
       "1996-04-30  325.0\n",
       "1996-05-31  349.0\n",
       "1996-06-30  220.0"
      ]
     },
     "execution_count": 139,
     "metadata": {},
     "output_type": "execute_result"
    }
   ],
   "source": [
    "data_diff.head()"
   ]
  },
  {
   "cell_type": "code",
   "execution_count": 140,
   "id": "a98640ee-c06a-4f9d-b7d8-e7b352971a81",
   "metadata": {
    "execution": {
     "iopub.execute_input": "2023-06-26T23:18:23.978003Z",
     "iopub.status.busy": "2023-06-26T23:18:23.977751Z",
     "iopub.status.idle": "2023-06-26T23:18:23.983900Z",
     "shell.execute_reply": "2023-06-26T23:18:23.983032Z",
     "shell.execute_reply.started": "2023-06-26T23:18:23.977979Z"
    },
    "tags": []
   },
   "outputs": [
    {
     "data": {
      "text/plain": [
       "Index(['value'], dtype='object')"
      ]
     },
     "execution_count": 140,
     "metadata": {},
     "output_type": "execute_result"
    }
   ],
   "source": [
    "data_diff.columns"
   ]
  },
  {
   "cell_type": "code",
   "execution_count": 141,
   "id": "5478f693-629c-4a4f-997d-c6ad5e3b1a38",
   "metadata": {
    "execution": {
     "iopub.execute_input": "2023-06-26T23:18:35.516495Z",
     "iopub.status.busy": "2023-06-26T23:18:35.515835Z",
     "iopub.status.idle": "2023-06-26T23:18:35.728837Z",
     "shell.execute_reply": "2023-06-26T23:18:35.728296Z",
     "shell.execute_reply.started": "2023-06-26T23:18:35.516469Z"
    },
    "tags": []
   },
   "outputs": [
    {
     "data": {
      "text/plain": [
       "[<matplotlib.lines.Line2D at 0x7faafdbe2b80>]"
      ]
     },
     "execution_count": 141,
     "metadata": {},
     "output_type": "execute_result"
    },
    {
     "data": {
      "image/png": "[encoded data removed]",
      "text/plain": [
       "<Figure size 1500x500 with 1 Axes>"
      ]
     },
     "metadata": {
      "needs_background": "light"
     },
     "output_type": "display_data"
    }
   ],
   "source": [
    "# Check out what the differencing did to the time-series curve\n",
    "\n",
    "plt.figure(figsize=(15,5), dpi=100)\n",
    "plt.plot(data_diff)"
   ]
  },
  {
   "cell_type": "code",
   "execution_count": 142,
   "id": "aa391859-9f00-4f51-8ec2-784bcd8b1e47",
   "metadata": {
    "execution": {
     "iopub.execute_input": "2023-06-26T23:19:09.501606Z",
     "iopub.status.busy": "2023-06-26T23:19:09.500611Z",
     "iopub.status.idle": "2023-06-26T23:19:09.531805Z",
     "shell.execute_reply": "2023-06-26T23:19:09.530922Z",
     "shell.execute_reply.started": "2023-06-26T23:19:09.501565Z"
    },
    "tags": []
   },
   "outputs": [
    {
     "name": "stdout",
     "output_type": "stream",
     "text": [
      "Dickey-Fuller Stationarity test:\n",
      "Test Statistic                  -2.463406\n",
      "p-value                          0.124634\n",
      "Number of Lags Used             15.000000\n",
      "Number of Observations Used    312.000000\n",
      "Critical Value (1%)             -3.451484\n",
      "Critical Value (5%)             -2.870849\n",
      "Critical Value (10%)            -2.571730\n",
      "dtype: float64\n"
     ]
    }
   ],
   "source": [
    "dickey_fuller(data_diff)"
   ]
  },
  {
   "cell_type": "code",
   "execution_count": 143,
   "id": "a5fd1bfc-8d7a-479d-a3c3-aa2af4dd4cf6",
   "metadata": {
    "execution": {
     "iopub.execute_input": "2023-06-26T23:20:45.322397Z",
     "iopub.status.busy": "2023-06-26T23:20:45.322173Z",
     "iopub.status.idle": "2023-06-26T23:20:45.491762Z",
     "shell.execute_reply": "2023-06-26T23:20:45.490904Z",
     "shell.execute_reply.started": "2023-06-26T23:20:45.322372Z"
    },
    "tags": []
   },
   "outputs": [
    {
     "data": {
      "image/png": "[encoded data removed]",
      "text/plain": [
       "<Figure size 1296x504 with 1 Axes>"
      ]
     },
     "metadata": {
      "needs_background": "light"
     },
     "output_type": "display_data"
    }
   ],
   "source": [
    "plot_acf(data_diff)\n",
    "plt.show()"
   ]
  },
  {
   "cell_type": "markdown",
   "id": "99e5a760-af50-48d8-8988-ac340c19bcad",
   "metadata": {},
   "source": [
    "## Discussion:\n",
    "## After one round of differencing, our Test Statistic (-2.46) is less than all the Critical Values, so we can reject our null hypothesis, i.e. we have eliminated our unit root and the data is stationary.\n",
    "## However, our p-value (0.12) is still above the preferable thresholds of 0.05 or 0.1; we're only 88% confident about this.\n",
    "## As with our data in the Exercise, \"While the autocorrelation plot has improved (there are fewer autocorrelated terms), it’s still not perfect. This means that, despite the Dickey-Fuller test saying that your data is stationary, that stationarity is weak.\"\n",
    "## Our autocorrelation plot still has seven vertical lines above the blue confidence interval, so we could perform a third round of stationarizing/differencing to reduce the remaining autocorrelated terms, if we choose.\n",
    "## However, according to the Exercise (https://careerfoundry.com/en/course/data-immersion/exercise/sourcing-analyzing-time-series#stationarizing-the-federal-reserve-economic-data), we do not need to perform another round of stationarizing/differencing, \"because of the unspoken rule of thumb that you need at least ten significant lags (or ten vertical lines above the confidence interval) for a second round of differencing to be necessary.\""
   ]
  }
 ],
 "metadata": {
  "kernelspec": {
   "display_name": "Python 3 (ipykernel)",
   "language": "python",
   "name": "python3"
  },
  "language_info": {
   "codemirror_mode": {
    "name": "ipython",
    "version": 3
   },
   "file_extension": ".py",
   "mimetype": "text/x-python",
   "name": "python",
   "nbconvert_exporter": "python",
   "pygments_lexer": "ipython3",
   "version": "3.9.12"
  }
 },
 "nbformat": 4,
 "nbformat_minor": 5
}
