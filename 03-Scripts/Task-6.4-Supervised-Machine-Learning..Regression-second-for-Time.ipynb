{
 "cells": [
  {
   "cell_type": "markdown",
   "id": "803ccc3f-7b2e-452b-9727-d5ef53f26deb",
   "metadata": {
    "execution": {
     "iopub.execute_input": "2023-06-24T00:43:58.175749Z",
     "iopub.status.busy": "2023-06-24T00:43:58.175403Z",
     "iopub.status.idle": "2023-06-24T00:43:58.180395Z",
     "shell.execute_reply": "2023-06-24T00:43:58.179728Z",
     "shell.execute_reply.started": "2023-06-24T00:43:58.175712Z"
    },
    "tags": []
   },
   "source": [
    "# Task 6.4 Supervised Machine Learning:  Regression, Extra for Rainfall vs. TIME"
   ]
  },
  {
   "cell_type": "markdown",
   "id": "624c7890-1bd8-49ae-b5b0-3621b30a3892",
   "metadata": {},
   "source": [
    "# I'm running a new, second Notebook to copy my regression tests for Rainfall vs. Longitude, and apply them to Rainfall vs. TIME, instead.\n",
    "## This is part of my preparation of Task 6.7, the final project."
   ]
  },
  {
   "cell_type": "markdown",
   "id": "53749b93-c01e-4c4c-b91b-632e87a24310",
   "metadata": {
    "jp-MarkdownHeadingCollapsed": true,
    "tags": []
   },
   "source": [
    "### Contents\n",
    "TBD"
   ]
  },
  {
   "cell_type": "markdown",
   "id": "a190bba6-d805-4c1e-b182-7131e6912dc9",
   "metadata": {
    "tags": []
   },
   "source": [
    "## Standard prerequisites.  Now with additional library 'scikit-learn' - and modules therefrom - as of Exercise/Task 6.4."
   ]
  },
  {
   "cell_type": "code",
   "execution_count": 124,
   "id": "5ce9bcce-830c-4a5a-a264-eceda3098d09",
   "metadata": {
    "ExecuteTime": {
     "end_time": "2023-06-12T20:08:15.986031Z",
     "start_time": "2023-06-12T20:08:13.649526Z"
    },
    "execution": {
     "iopub.execute_input": "2023-07-03T01:45:26.733460Z",
     "iopub.status.busy": "2023-07-03T01:45:26.733216Z",
     "iopub.status.idle": "2023-07-03T01:45:26.738989Z",
     "shell.execute_reply": "2023-07-03T01:45:26.738045Z",
     "shell.execute_reply.started": "2023-07-03T01:45:26.733436Z"
    },
    "tags": []
   },
   "outputs": [],
   "source": [
    "# Import libraries\n",
    "import pandas as pd\n",
    "# I'm trying modin as a drop-in replace-- er, enhancement to pandas; supposedly it will help use more than one CPU core.\n",
    "# Nope.  I'm having too much trouble getting modin installed, so it's back to plain old Pandas for now. :-(\n",
    "# import modin.pandas as pd\n",
    "import numpy as np\n",
    "import os\n",
    "import matplotlib.pyplot as plt\n",
    "import seaborn as sns\n",
    "import scipy"
   ]
  },
  {
   "cell_type": "code",
   "execution_count": 125,
   "id": "2175f1e5-d698-4918-856d-3f910cdc49d8",
   "metadata": {
    "execution": {
     "iopub.execute_input": "2023-07-03T01:45:26.740802Z",
     "iopub.status.busy": "2023-07-03T01:45:26.740557Z",
     "iopub.status.idle": "2023-07-03T01:45:26.745960Z",
     "shell.execute_reply": "2023-07-03T01:45:26.745294Z",
     "shell.execute_reply.started": "2023-07-03T01:45:26.740774Z"
    },
    "tags": []
   },
   "outputs": [],
   "source": [
    "# Import scikit-learn library and select modules for Task 6.4.\n",
    "import sklearn\n",
    "from sklearn.model_selection import train_test_split \n",
    "from sklearn.linear_model import LinearRegression\n",
    "from sklearn.metrics import mean_squared_error, r2_score"
   ]
  },
  {
   "cell_type": "code",
   "execution_count": 126,
   "id": "28a57031-4fae-4456-9960-06ca0e40a97d",
   "metadata": {
    "execution": {
     "iopub.execute_input": "2023-07-03T01:45:26.747931Z",
     "iopub.status.busy": "2023-07-03T01:45:26.747107Z",
     "iopub.status.idle": "2023-07-03T01:45:26.752191Z",
     "shell.execute_reply": "2023-07-03T01:45:26.751214Z",
     "shell.execute_reply.started": "2023-07-03T01:45:26.747899Z"
    },
    "tags": []
   },
   "outputs": [],
   "source": [
    "# Import folium and JSON libraries for Task 6.3.\n",
    "import folium\n",
    "import json "
   ]
  },
  {
   "cell_type": "code",
   "execution_count": 127,
   "id": "af3859ab-66e3-4dee-b054-6b84d1035b7e",
   "metadata": {
    "execution": {
     "iopub.execute_input": "2023-07-03T01:45:26.754171Z",
     "iopub.status.busy": "2023-07-03T01:45:26.753605Z",
     "iopub.status.idle": "2023-07-03T01:45:26.757750Z",
     "shell.execute_reply": "2023-07-03T01:45:26.757049Z",
     "shell.execute_reply.started": "2023-07-03T01:45:26.754143Z"
    },
    "tags": []
   },
   "outputs": [],
   "source": [
    "# For future reference, Exercise 6.2 introduced graphical libraries Bokeh and Plotly.\n",
    "# import bokeh\n",
    "# import plotly"
   ]
  },
  {
   "cell_type": "code",
   "execution_count": 128,
   "id": "84b552e3-5167-4274-be24-95c2feec980f",
   "metadata": {
    "ExecuteTime": {
     "end_time": "2023-06-12T20:08:15.992831Z",
     "start_time": "2023-06-12T20:08:15.988513Z"
    },
    "execution": {
     "iopub.execute_input": "2023-07-03T01:45:26.759370Z",
     "iopub.status.busy": "2023-07-03T01:45:26.758721Z",
     "iopub.status.idle": "2023-07-03T01:45:26.763505Z",
     "shell.execute_reply": "2023-07-03T01:45:26.762711Z",
     "shell.execute_reply.started": "2023-07-03T01:45:26.759342Z"
    }
   },
   "outputs": [],
   "source": [
    "# Starting with Exercise 4.7, import additional libraries I've discovered thanks to Lubov, especially the time library.\n",
    "import time\n",
    "import string\n",
    "import random"
   ]
  },
  {
   "cell_type": "code",
   "execution_count": 129,
   "id": "e7301ff7-3a27-41de-94cb-e41d23098870",
   "metadata": {
    "ExecuteTime": {
     "end_time": "2023-06-12T20:08:15.999865Z",
     "start_time": "2023-06-12T20:08:15.996013Z"
    },
    "execution": {
     "iopub.execute_input": "2023-07-03T01:45:26.765197Z",
     "iopub.status.busy": "2023-07-03T01:45:26.764741Z",
     "iopub.status.idle": "2023-07-03T01:45:26.771221Z",
     "shell.execute_reply": "2023-07-03T01:45:26.770052Z",
     "shell.execute_reply.started": "2023-07-03T01:45:26.765160Z"
    },
    "tags": []
   },
   "outputs": [],
   "source": [
    "# Import itertools to help loop through lots of things.\n",
    "import itertools"
   ]
  },
  {
   "cell_type": "code",
   "execution_count": 130,
   "id": "12e5a1a3-818e-41cd-bbae-9b02e22acb2b",
   "metadata": {
    "ExecuteTime": {
     "end_time": "2023-06-12T20:08:16.005997Z",
     "start_time": "2023-06-12T20:08:16.002994Z"
    },
    "execution": {
     "iopub.execute_input": "2023-07-03T01:45:26.774214Z",
     "iopub.status.busy": "2023-07-03T01:45:26.773710Z",
     "iopub.status.idle": "2023-07-03T01:45:26.777788Z",
     "shell.execute_reply": "2023-07-03T01:45:26.777010Z",
     "shell.execute_reply.started": "2023-07-03T01:45:26.774176Z"
    }
   },
   "outputs": [],
   "source": [
    "# I want to convert Date-Timestamps into UNIX Epoch time for analysis.\n",
    "from datetime import datetime"
   ]
  },
  {
   "cell_type": "code",
   "execution_count": 131,
   "id": "bd9cbf1e-875a-48c4-94cc-33c99487018c",
   "metadata": {
    "ExecuteTime": {
     "end_time": "2023-06-12T20:08:16.011947Z",
     "start_time": "2023-06-12T20:08:16.008775Z"
    },
    "execution": {
     "iopub.execute_input": "2023-07-03T01:45:26.779175Z",
     "iopub.status.busy": "2023-07-03T01:45:26.778823Z",
     "iopub.status.idle": "2023-07-03T01:45:26.784819Z",
     "shell.execute_reply": "2023-07-03T01:45:26.783662Z",
     "shell.execute_reply.started": "2023-07-03T01:45:26.779149Z"
    }
   },
   "outputs": [],
   "source": [
    "# Set a PATH variable."
   ]
  },
  {
   "cell_type": "code",
   "execution_count": 132,
   "id": "747ab22b-1601-46c2-bb46-ba196c4284c3",
   "metadata": {
    "ExecuteTime": {
     "end_time": "2023-06-12T20:08:16.017084Z",
     "start_time": "2023-06-12T20:08:16.014098Z"
    },
    "execution": {
     "iopub.execute_input": "2023-07-03T01:45:26.786464Z",
     "iopub.status.busy": "2023-07-03T01:45:26.786238Z",
     "iopub.status.idle": "2023-07-03T01:45:26.790191Z",
     "shell.execute_reply": "2023-07-03T01:45:26.789417Z",
     "shell.execute_reply.started": "2023-07-03T01:45:26.786439Z"
    }
   },
   "outputs": [],
   "source": [
    "# Linux PATH, local - Sadly, my Linux system with 8GB of total RAM could not import the full dataset.\n",
    "# I have moved to an AWS EC2 instance that should be able to handle this."
   ]
  },
  {
   "cell_type": "code",
   "execution_count": 133,
   "id": "f69532c2-fb98-4e11-9a7c-82cf5707adc8",
   "metadata": {
    "ExecuteTime": {
     "end_time": "2023-06-12T20:08:16.022791Z",
     "start_time": "2023-06-12T20:08:16.019569Z"
    },
    "execution": {
     "iopub.execute_input": "2023-07-03T01:45:26.791683Z",
     "iopub.status.busy": "2023-07-03T01:45:26.791291Z",
     "iopub.status.idle": "2023-07-03T01:45:26.795802Z",
     "shell.execute_reply": "2023-07-03T01:45:26.795127Z",
     "shell.execute_reply.started": "2023-07-03T01:45:26.791656Z"
    }
   },
   "outputs": [],
   "source": [
    "## path = (r'~/careerfoundry/tasks/data-immersion/Achievement6/Project/02-Data/Original-Data/US-Weather-Events.2016-2021/www.kaggle.com/datasets/sobhanmoosavi/us-weather-events')"
   ]
  },
  {
   "cell_type": "markdown",
   "id": "8d779489-4f66-4d39-9f4e-73e806972e71",
   "metadata": {},
   "source": [
    "### # Oh, wow, matplotlib.pyplot.savefig function does not expand the tilde (~) reference in directory paths.  LAME. :("
   ]
  },
  {
   "cell_type": "code",
   "execution_count": 134,
   "id": "e16a327d-0af0-479a-bbfb-21dc8d461150",
   "metadata": {
    "ExecuteTime": {
     "end_time": "2023-06-12T20:08:16.028756Z",
     "start_time": "2023-06-12T20:08:16.025218Z"
    },
    "execution": {
     "iopub.execute_input": "2023-07-03T01:45:26.797443Z",
     "iopub.status.busy": "2023-07-03T01:45:26.796873Z",
     "iopub.status.idle": "2023-07-03T01:45:26.801301Z",
     "shell.execute_reply": "2023-07-03T01:45:26.800741Z",
     "shell.execute_reply.started": "2023-07-03T01:45:26.797412Z"
    }
   },
   "outputs": [],
   "source": [
    "path = (r'/home/ubuntu/careerfoundry/tasks/data-immersion/Achievement6/Project/')"
   ]
  },
  {
   "cell_type": "code",
   "execution_count": 135,
   "id": "8d2fb307-a4a5-467f-be4b-9c29f50be0f6",
   "metadata": {
    "ExecuteTime": {
     "end_time": "2023-06-12T20:08:16.036588Z",
     "start_time": "2023-06-12T20:08:16.032541Z"
    },
    "execution": {
     "iopub.execute_input": "2023-07-03T01:45:26.803808Z",
     "iopub.status.busy": "2023-07-03T01:45:26.803558Z",
     "iopub.status.idle": "2023-07-03T01:45:26.807772Z",
     "shell.execute_reply": "2023-07-03T01:45:26.807161Z",
     "shell.execute_reply.started": "2023-07-03T01:45:26.803784Z"
    }
   },
   "outputs": [],
   "source": [
    "# windoze PATH - The windoze laptop I bought for Excel and Tableau also has 16GB of RAM."
   ]
  },
  {
   "cell_type": "code",
   "execution_count": 136,
   "id": "4123f7b3-838e-4b4b-a034-a919bfa24e66",
   "metadata": {
    "ExecuteTime": {
     "end_time": "2023-06-12T20:08:16.045467Z",
     "start_time": "2023-06-12T20:08:16.042321Z"
    },
    "execution": {
     "iopub.execute_input": "2023-07-03T01:45:26.809310Z",
     "iopub.status.busy": "2023-07-03T01:45:26.808903Z",
     "iopub.status.idle": "2023-07-03T01:45:26.814365Z",
     "shell.execute_reply": "2023-07-03T01:45:26.813476Z",
     "shell.execute_reply.started": "2023-07-03T01:45:26.809282Z"
    },
    "tags": []
   },
   "outputs": [],
   "source": [
    "## path = (r'C:\\Users\\emccc\\OneDrive\\Documents\\CareerFoundry\\Achievement-4\\Instacart-Basket-Analysis')"
   ]
  },
  {
   "cell_type": "code",
   "execution_count": 137,
   "id": "c8dce26b-c3ce-4d0a-bfea-70751e5b63c0",
   "metadata": {
    "execution": {
     "iopub.execute_input": "2023-07-03T01:45:26.815574Z",
     "iopub.status.busy": "2023-07-03T01:45:26.815360Z",
     "iopub.status.idle": "2023-07-03T01:45:26.820451Z",
     "shell.execute_reply": "2023-07-03T01:45:26.819808Z",
     "shell.execute_reply.started": "2023-07-03T01:45:26.815551Z"
    },
    "tags": []
   },
   "outputs": [],
   "source": [
    "# This command propts matplotlib visuals to appear in the notebook \n",
    "# This option ensures that the graphs you create are displayed within the notebook without the need to \"call\" them specifically.\n",
    "\n",
    "%matplotlib inline"
   ]
  },
  {
   "cell_type": "markdown",
   "id": "804d86c1-a7eb-434b-ba0f-642a5e41e830",
   "metadata": {},
   "source": [
    "## Load and check our updated dataframe for Texas weather from Task 6.3."
   ]
  },
  {
   "cell_type": "code",
   "execution_count": 138,
   "id": "89c4aa19-83f7-4c3d-9673-65ffd1c04651",
   "metadata": {
    "execution": {
     "iopub.execute_input": "2023-07-03T01:45:26.821951Z",
     "iopub.status.busy": "2023-07-03T01:45:26.821291Z",
     "iopub.status.idle": "2023-07-03T01:45:27.207009Z",
     "shell.execute_reply": "2023-07-03T01:45:27.206309Z",
     "shell.execute_reply.started": "2023-07-03T01:45:26.821922Z"
    },
    "tags": []
   },
   "outputs": [],
   "source": [
    "df = pd.read_pickle(os.path.join(path, '02-Data','Prepared-Data', 'df_texas.Task-6.3.pkl'))"
   ]
  },
  {
   "cell_type": "code",
   "execution_count": 139,
   "id": "fc2d41e2-815e-40f3-9f0e-7df23afc32e6",
   "metadata": {
    "execution": {
     "iopub.execute_input": "2023-07-03T01:45:27.208344Z",
     "iopub.status.busy": "2023-07-03T01:45:27.208055Z",
     "iopub.status.idle": "2023-07-03T01:45:27.214224Z",
     "shell.execute_reply": "2023-07-03T01:45:27.213507Z",
     "shell.execute_reply.started": "2023-07-03T01:45:27.208306Z"
    },
    "tags": []
   },
   "outputs": [
    {
     "data": {
      "text/plain": [
       "(515813, 34)"
      ]
     },
     "execution_count": 139,
     "metadata": {},
     "output_type": "execute_result"
    }
   ],
   "source": [
    "df.shape"
   ]
  },
  {
   "cell_type": "code",
   "execution_count": 140,
   "id": "c611e016-0cb2-4b92-bf5d-9e1a2d2bf239",
   "metadata": {
    "execution": {
     "iopub.execute_input": "2023-07-03T01:45:27.215545Z",
     "iopub.status.busy": "2023-07-03T01:45:27.215155Z",
     "iopub.status.idle": "2023-07-03T01:45:27.221335Z",
     "shell.execute_reply": "2023-07-03T01:45:27.220512Z",
     "shell.execute_reply.started": "2023-07-03T01:45:27.215520Z"
    },
    "tags": []
   },
   "outputs": [
    {
     "data": {
      "text/plain": [
       "Index(['EventId', 'Type', 'Severity', 'StartTime(UTC)', 'EndTime(UTC)',\n",
       "       'Precipitation(in)', 'TimeZone', 'AirportCode', 'LocationLat',\n",
       "       'LocationLng', 'County', 'State', 'StartTime(Epoch)', 'EndTime(Epoch)',\n",
       "       'Duration(seconds)', 'Duration(hours)',\n",
       "       'PrecipitationRate(inches/hour)', 'Disbelievable', 'Region',\n",
       "       'StartYear', 'StartYear-Month', 'Snow(in)', 'Rain(in)', 'StartMonth',\n",
       "       'Rain-sum-AC-SY-M', 'Rain-sum-AC-SY', 'Snow-sum-AC-SY-M',\n",
       "       'Snow-sum-AC-SY', 'CO-Num-AC', 'Rain-sumavg-CO-SY-M',\n",
       "       'Rain-sumavg-CO-SY', 'Snow-sumavg-CO-SY-M', 'Snow-sumavg-CO-SY',\n",
       "       'GeoJSONCounty'],\n",
       "      dtype='object')"
      ]
     },
     "execution_count": 140,
     "metadata": {},
     "output_type": "execute_result"
    }
   ],
   "source": [
    "df.columns"
   ]
  },
  {
   "cell_type": "markdown",
   "id": "ae48c8b8-9b67-4490-aac0-9f1ac2d61134",
   "metadata": {},
   "source": [
    "## Our data has already been cleaned, wrangled, and sanity-checked in previous Tasks."
   ]
  },
  {
   "cell_type": "markdown",
   "id": "2da9e56e-f7fc-4c8a-be35-3f26cfdb9d6a",
   "metadata": {},
   "source": [
    "# Hypothesis:  Areas further to the east (i.e. increased longitude) will see higher annual rainfall totals."
   ]
  },
  {
   "cell_type": "markdown",
   "id": "6d7174bc-f9ea-41b3-9528-2aed3e8658c6",
   "metadata": {
    "tags": []
   },
   "source": [
    "## Data Preparation for Regression Analysis:  Time ('StartYear') vs. Yearly Airport Rainfall Totals ('Rain-sum-AC-SY')"
   ]
  },
  {
   "cell_type": "code",
   "execution_count": 141,
   "id": "ae4a31f7-6d8b-41d5-9f51-1ec3090ee408",
   "metadata": {
    "execution": {
     "iopub.execute_input": "2023-07-03T01:45:27.222636Z",
     "iopub.status.busy": "2023-07-03T01:45:27.222447Z",
     "iopub.status.idle": "2023-07-03T01:45:29.253668Z",
     "shell.execute_reply": "2023-07-03T01:45:29.252860Z",
     "shell.execute_reply.started": "2023-07-03T01:45:27.222614Z"
    },
    "tags": []
   },
   "outputs": [
    {
     "data": {
      "image/png": "[encoded data removed]",
      "text/plain": [
       "<Figure size 432x288 with 1 Axes>"
      ]
     },
     "metadata": {
      "needs_background": "light"
     },
     "output_type": "display_data"
    }
   ],
   "source": [
    "# Create a scatterplot using matplotlib for another look at how the chosen variables plot against each other.\n",
    "df.plot(x = 'StartYear', y='Rain-sum-AC-SY',style='o') # The style option creates a scatterplot; without it, we only have lines.\n",
    "plt.title('Airport Yearly Rainfall Totals')  \n",
    "plt.xlabel('Year')  \n",
    "plt.ylabel('Per-Airport Annual Rainfall Total')  \n",
    "plt.show()"
   ]
  },
  {
   "cell_type": "code",
   "execution_count": 142,
   "id": "7fe765ff-dec1-4151-bb29-6489cc239849",
   "metadata": {
    "execution": {
     "iopub.execute_input": "2023-07-03T01:45:29.255492Z",
     "iopub.status.busy": "2023-07-03T01:45:29.254683Z",
     "iopub.status.idle": "2023-07-03T01:45:29.260674Z",
     "shell.execute_reply": "2023-07-03T01:45:29.259334Z",
     "shell.execute_reply.started": "2023-07-03T01:45:29.255457Z"
    },
    "tags": []
   },
   "outputs": [],
   "source": [
    "# Reshape the variables into NumPy arrays and put them into separate objects.\n",
    "\n",
    "X = df['StartYear'].values.reshape(-1,1)\n",
    "y = df['Rain-sum-AC-SY'].values.reshape(-1,1)"
   ]
  },
  {
   "cell_type": "code",
   "execution_count": 143,
   "id": "f399f887-e602-4997-836d-33a7830912f3",
   "metadata": {
    "execution": {
     "iopub.execute_input": "2023-07-03T01:45:29.264649Z",
     "iopub.status.busy": "2023-07-03T01:45:29.263940Z",
     "iopub.status.idle": "2023-07-03T01:45:29.269020Z",
     "shell.execute_reply": "2023-07-03T01:45:29.268463Z",
     "shell.execute_reply.started": "2023-07-03T01:45:29.264620Z"
    },
    "tags": []
   },
   "outputs": [
    {
     "data": {
      "text/plain": [
       "array([[2016],\n",
       "       [2016],\n",
       "       [2016],\n",
       "       ...,\n",
       "       [2021],\n",
       "       [2021],\n",
       "       [2021]])"
      ]
     },
     "execution_count": 143,
     "metadata": {},
     "output_type": "execute_result"
    }
   ],
   "source": [
    "X"
   ]
  },
  {
   "cell_type": "code",
   "execution_count": 144,
   "id": "68d90c97-eb39-4b96-b9b4-5cf0e7f9a23a",
   "metadata": {
    "execution": {
     "iopub.execute_input": "2023-07-03T01:45:29.270297Z",
     "iopub.status.busy": "2023-07-03T01:45:29.269976Z",
     "iopub.status.idle": "2023-07-03T01:45:29.277958Z",
     "shell.execute_reply": "2023-07-03T01:45:29.277371Z",
     "shell.execute_reply.started": "2023-07-03T01:45:29.270271Z"
    },
    "tags": []
   },
   "outputs": [
    {
     "data": {
      "text/plain": [
       "array([[17.2],\n",
       "       [17.2],\n",
       "       [17.2],\n",
       "       ...,\n",
       "       [ 0. ],\n",
       "       [ 0. ],\n",
       "       [ 0. ]])"
      ]
     },
     "execution_count": 144,
     "metadata": {},
     "output_type": "execute_result"
    }
   ],
   "source": [
    "y"
   ]
  },
  {
   "cell_type": "code",
   "execution_count": 145,
   "id": "91f600e8-1d25-46d4-9df2-3cb1b4348d83",
   "metadata": {
    "execution": {
     "iopub.execute_input": "2023-07-03T01:45:29.279262Z",
     "iopub.status.busy": "2023-07-03T01:45:29.278927Z",
     "iopub.status.idle": "2023-07-03T01:45:29.313906Z",
     "shell.execute_reply": "2023-07-03T01:45:29.312973Z",
     "shell.execute_reply.started": "2023-07-03T01:45:29.279236Z"
    },
    "tags": []
   },
   "outputs": [],
   "source": [
    "# Split data into a training set and a test set.\n",
    "\n",
    "X_train, X_test, y_train, y_test = train_test_split(X, y, test_size=0.3, random_state=0)"
   ]
  },
  {
   "cell_type": "markdown",
   "id": "c21d797f-3fae-403b-8322-fe677fe3ad91",
   "metadata": {
    "tags": []
   },
   "source": [
    "## Run the Regression Analysis:  Time ('StartYear') vs. Yearly Airport Rainfall Totals ('Rain-sum-AC-SY')"
   ]
  },
  {
   "cell_type": "code",
   "execution_count": 146,
   "id": "8fe5c13c-35ad-4a46-8836-21b539b937b7",
   "metadata": {
    "execution": {
     "iopub.execute_input": "2023-07-03T01:45:29.315777Z",
     "iopub.status.busy": "2023-07-03T01:45:29.315347Z",
     "iopub.status.idle": "2023-07-03T01:45:29.319405Z",
     "shell.execute_reply": "2023-07-03T01:45:29.318735Z",
     "shell.execute_reply.started": "2023-07-03T01:45:29.315741Z"
    },
    "tags": []
   },
   "outputs": [],
   "source": [
    "# Create a regression object.\n",
    "\n",
    "regression = LinearRegression()  # This is the regression object, which will be fit onto the training set."
   ]
  },
  {
   "cell_type": "code",
   "execution_count": 147,
   "id": "ec384df5-0822-4261-a842-9fc080905857",
   "metadata": {
    "execution": {
     "iopub.execute_input": "2023-07-03T01:45:29.321105Z",
     "iopub.status.busy": "2023-07-03T01:45:29.320519Z",
     "iopub.status.idle": "2023-07-03T01:45:29.333686Z",
     "shell.execute_reply": "2023-07-03T01:45:29.332833Z",
     "shell.execute_reply.started": "2023-07-03T01:45:29.321067Z"
    },
    "tags": []
   },
   "outputs": [
    {
     "data": {
      "text/plain": [
       "LinearRegression()"
      ]
     },
     "execution_count": 147,
     "metadata": {},
     "output_type": "execute_result"
    }
   ],
   "source": [
    "# Fit the regression object onto the training set.\n",
    "\n",
    "regression.fit(X_train, y_train)"
   ]
  },
  {
   "cell_type": "code",
   "execution_count": 148,
   "id": "400d45c6-8440-411d-8468-12f0a447a6d9",
   "metadata": {
    "execution": {
     "iopub.execute_input": "2023-07-03T01:45:29.335855Z",
     "iopub.status.busy": "2023-07-03T01:45:29.334848Z",
     "iopub.status.idle": "2023-07-03T01:45:29.341053Z",
     "shell.execute_reply": "2023-07-03T01:45:29.340330Z",
     "shell.execute_reply.started": "2023-07-03T01:45:29.335811Z"
    },
    "tags": []
   },
   "outputs": [],
   "source": [
    "# Predict the values of y using X.\n",
    "\n",
    "y_predicted = regression.predict(X_test)"
   ]
  },
  {
   "cell_type": "code",
   "execution_count": 149,
   "id": "cfd82ad0-fd40-4019-874d-f135bb26303b",
   "metadata": {
    "execution": {
     "iopub.execute_input": "2023-07-03T01:45:29.342765Z",
     "iopub.status.busy": "2023-07-03T01:45:29.342067Z",
     "iopub.status.idle": "2023-07-03T01:45:30.532615Z",
     "shell.execute_reply": "2023-07-03T01:45:30.531847Z",
     "shell.execute_reply.started": "2023-07-03T01:45:29.342733Z"
    },
    "tags": []
   },
   "outputs": [
    {
     "data": {
      "image/png": "[encoded data removed]",
      "text/plain": [
       "<Figure size 432x288 with 1 Axes>"
      ]
     },
     "metadata": {
      "needs_background": "light"
     },
     "output_type": "display_data"
    }
   ],
   "source": [
    "# Create a plot that shows the regression line from the model on the test set.\n",
    "\n",
    "plot_test = plt\n",
    "plot_test.scatter(X_test, y_test, color='gray', s = 15)\n",
    "plot_test.plot(X_test, y_predicted, color='red', linewidth =3)\n",
    "plot_test.title('Airport Rainfall over Time (Test set)')\n",
    "plot_test.xlabel('Year')\n",
    "plot_test.ylabel('Per-Airport Annual Rainfall Total (in)')\n",
    "plot_test.savefig(os.path.join(path, '04-Analysis', 'Visualizations', 'task-6.4-LinearRegression-TestSet-TIME.png'), facecolor='white', bbox_inches='tight')\n",
    "plot_test.show()"
   ]
  },
  {
   "cell_type": "code",
   "execution_count": 150,
   "id": "755e7b77-8cce-4568-87ad-dbcc2095092c",
   "metadata": {
    "execution": {
     "iopub.execute_input": "2023-07-03T01:45:30.534164Z",
     "iopub.status.busy": "2023-07-03T01:45:30.533830Z",
     "iopub.status.idle": "2023-07-03T01:45:30.540384Z",
     "shell.execute_reply": "2023-07-03T01:45:30.539562Z",
     "shell.execute_reply.started": "2023-07-03T01:45:30.534139Z"
    },
    "tags": []
   },
   "outputs": [],
   "source": [
    "# Create objects that contain the model summary statistics.\n",
    "\n",
    "rmse = mean_squared_error(y_test, y_predicted) # This is the mean squared error\n",
    "r2 = r2_score(y_test, y_predicted) # This is the R2 score. "
   ]
  },
  {
   "cell_type": "code",
   "execution_count": 151,
   "id": "9396258c-216f-47bb-a42b-5e0b18430ee2",
   "metadata": {
    "execution": {
     "iopub.execute_input": "2023-07-03T01:45:30.542313Z",
     "iopub.status.busy": "2023-07-03T01:45:30.541820Z",
     "iopub.status.idle": "2023-07-03T01:45:30.548195Z",
     "shell.execute_reply": "2023-07-03T01:45:30.547483Z",
     "shell.execute_reply.started": "2023-07-03T01:45:30.542285Z"
    },
    "tags": []
   },
   "outputs": [
    {
     "name": "stdout",
     "output_type": "stream",
     "text": [
      "Slope: [[-7.41994959]]\n",
      "Mean squared error:  1183.783656229788\n",
      "R2 score:  0.1208210077091888\n"
     ]
    }
   ],
   "source": [
    "# Print the model summary statistics. This is where you evaluate the performance of the model.\n",
    "\n",
    "print('Slope:' ,regression.coef_)\n",
    "print('Mean squared error: ', rmse)\n",
    "print('R2 score: ', r2)"
   ]
  },
  {
   "cell_type": "markdown",
   "id": "986483fd-a0c9-4669-9cba-9899553ee8d9",
   "metadata": {},
   "source": [
    "## This model does not work well here.  No big surprise, given the wide range of scatter among the data points, but it's also possible that the rainfall amounts at a majority of airports aren't decreasing after all, and that what we're really seeing here is a tighter grouping over time."
   ]
  },
  {
   "cell_type": "code",
   "execution_count": 152,
   "id": "730dde63-3334-40f5-b9e5-5a39743f4822",
   "metadata": {
    "execution": {
     "iopub.execute_input": "2023-07-03T01:45:30.550009Z",
     "iopub.status.busy": "2023-07-03T01:45:30.549600Z",
     "iopub.status.idle": "2023-07-03T01:45:30.555311Z",
     "shell.execute_reply": "2023-07-03T01:45:30.554596Z",
     "shell.execute_reply.started": "2023-07-03T01:45:30.549982Z"
    },
    "tags": []
   },
   "outputs": [
    {
     "data": {
      "text/plain": [
       "array([[34.61313921],\n",
       "       [49.45303839],\n",
       "       [49.45303839],\n",
       "       ...,\n",
       "       [42.0330888 ],\n",
       "       [56.87298798],\n",
       "       [56.87298798]])"
      ]
     },
     "execution_count": 152,
     "metadata": {},
     "output_type": "execute_result"
    }
   ],
   "source": [
    "y_predicted"
   ]
  },
  {
   "cell_type": "code",
   "execution_count": 153,
   "id": "4bfc2012-c39c-40f4-8c3f-52630469ac4a",
   "metadata": {
    "execution": {
     "iopub.execute_input": "2023-07-03T01:45:30.557310Z",
     "iopub.status.busy": "2023-07-03T01:45:30.556887Z",
     "iopub.status.idle": "2023-07-03T01:45:30.572615Z",
     "shell.execute_reply": "2023-07-03T01:45:30.571830Z",
     "shell.execute_reply.started": "2023-07-03T01:45:30.557285Z"
    },
    "tags": []
   },
   "outputs": [
    {
     "data": {
      "text/html": [
       "<div>\n",
       "<style scoped>\n",
       "    .dataframe tbody tr th:only-of-type {\n",
       "        vertical-align: middle;\n",
       "    }\n",
       "\n",
       "    .dataframe tbody tr th {\n",
       "        vertical-align: top;\n",
       "    }\n",
       "\n",
       "    .dataframe thead th {\n",
       "        text-align: right;\n",
       "    }\n",
       "</style>\n",
       "<table border=\"1\" class=\"dataframe\">\n",
       "  <thead>\n",
       "    <tr style=\"text-align: right;\">\n",
       "      <th></th>\n",
       "      <th>Actual</th>\n",
       "      <th>Predicted</th>\n",
       "    </tr>\n",
       "  </thead>\n",
       "  <tbody>\n",
       "    <tr>\n",
       "      <th>0</th>\n",
       "      <td>60.19</td>\n",
       "      <td>34.613139</td>\n",
       "    </tr>\n",
       "    <tr>\n",
       "      <th>1</th>\n",
       "      <td>37.60</td>\n",
       "      <td>49.453038</td>\n",
       "    </tr>\n",
       "    <tr>\n",
       "      <th>2</th>\n",
       "      <td>62.17</td>\n",
       "      <td>49.453038</td>\n",
       "    </tr>\n",
       "    <tr>\n",
       "      <th>3</th>\n",
       "      <td>36.64</td>\n",
       "      <td>56.872988</td>\n",
       "    </tr>\n",
       "    <tr>\n",
       "      <th>4</th>\n",
       "      <td>71.82</td>\n",
       "      <td>64.292938</td>\n",
       "    </tr>\n",
       "    <tr>\n",
       "      <th>5</th>\n",
       "      <td>16.84</td>\n",
       "      <td>56.872988</td>\n",
       "    </tr>\n",
       "    <tr>\n",
       "      <th>6</th>\n",
       "      <td>40.35</td>\n",
       "      <td>49.453038</td>\n",
       "    </tr>\n",
       "    <tr>\n",
       "      <th>7</th>\n",
       "      <td>100.56</td>\n",
       "      <td>64.292938</td>\n",
       "    </tr>\n",
       "    <tr>\n",
       "      <th>8</th>\n",
       "      <td>61.16</td>\n",
       "      <td>64.292938</td>\n",
       "    </tr>\n",
       "    <tr>\n",
       "      <th>9</th>\n",
       "      <td>59.58</td>\n",
       "      <td>27.193190</td>\n",
       "    </tr>\n",
       "    <tr>\n",
       "      <th>10</th>\n",
       "      <td>41.30</td>\n",
       "      <td>64.292938</td>\n",
       "    </tr>\n",
       "    <tr>\n",
       "      <th>11</th>\n",
       "      <td>26.77</td>\n",
       "      <td>42.033089</td>\n",
       "    </tr>\n",
       "    <tr>\n",
       "      <th>12</th>\n",
       "      <td>73.20</td>\n",
       "      <td>56.872988</td>\n",
       "    </tr>\n",
       "    <tr>\n",
       "      <th>13</th>\n",
       "      <td>49.74</td>\n",
       "      <td>49.453038</td>\n",
       "    </tr>\n",
       "    <tr>\n",
       "      <th>14</th>\n",
       "      <td>2.79</td>\n",
       "      <td>27.193190</td>\n",
       "    </tr>\n",
       "    <tr>\n",
       "      <th>15</th>\n",
       "      <td>79.35</td>\n",
       "      <td>56.872988</td>\n",
       "    </tr>\n",
       "    <tr>\n",
       "      <th>16</th>\n",
       "      <td>69.77</td>\n",
       "      <td>34.613139</td>\n",
       "    </tr>\n",
       "    <tr>\n",
       "      <th>17</th>\n",
       "      <td>94.40</td>\n",
       "      <td>64.292938</td>\n",
       "    </tr>\n",
       "    <tr>\n",
       "      <th>18</th>\n",
       "      <td>14.17</td>\n",
       "      <td>34.613139</td>\n",
       "    </tr>\n",
       "    <tr>\n",
       "      <th>19</th>\n",
       "      <td>16.64</td>\n",
       "      <td>56.872988</td>\n",
       "    </tr>\n",
       "    <tr>\n",
       "      <th>20</th>\n",
       "      <td>22.80</td>\n",
       "      <td>56.872988</td>\n",
       "    </tr>\n",
       "    <tr>\n",
       "      <th>21</th>\n",
       "      <td>73.35</td>\n",
       "      <td>42.033089</td>\n",
       "    </tr>\n",
       "    <tr>\n",
       "      <th>22</th>\n",
       "      <td>145.17</td>\n",
       "      <td>64.292938</td>\n",
       "    </tr>\n",
       "    <tr>\n",
       "      <th>23</th>\n",
       "      <td>11.95</td>\n",
       "      <td>49.453038</td>\n",
       "    </tr>\n",
       "    <tr>\n",
       "      <th>24</th>\n",
       "      <td>40.17</td>\n",
       "      <td>42.033089</td>\n",
       "    </tr>\n",
       "    <tr>\n",
       "      <th>25</th>\n",
       "      <td>62.40</td>\n",
       "      <td>64.292938</td>\n",
       "    </tr>\n",
       "    <tr>\n",
       "      <th>26</th>\n",
       "      <td>100.92</td>\n",
       "      <td>64.292938</td>\n",
       "    </tr>\n",
       "    <tr>\n",
       "      <th>27</th>\n",
       "      <td>61.61</td>\n",
       "      <td>64.292938</td>\n",
       "    </tr>\n",
       "    <tr>\n",
       "      <th>28</th>\n",
       "      <td>69.48</td>\n",
       "      <td>49.453038</td>\n",
       "    </tr>\n",
       "    <tr>\n",
       "      <th>29</th>\n",
       "      <td>25.32</td>\n",
       "      <td>64.292938</td>\n",
       "    </tr>\n",
       "  </tbody>\n",
       "</table>\n",
       "</div>"
      ],
      "text/plain": [
       "    Actual  Predicted\n",
       "0    60.19  34.613139\n",
       "1    37.60  49.453038\n",
       "2    62.17  49.453038\n",
       "3    36.64  56.872988\n",
       "4    71.82  64.292938\n",
       "5    16.84  56.872988\n",
       "6    40.35  49.453038\n",
       "7   100.56  64.292938\n",
       "8    61.16  64.292938\n",
       "9    59.58  27.193190\n",
       "10   41.30  64.292938\n",
       "11   26.77  42.033089\n",
       "12   73.20  56.872988\n",
       "13   49.74  49.453038\n",
       "14    2.79  27.193190\n",
       "15   79.35  56.872988\n",
       "16   69.77  34.613139\n",
       "17   94.40  64.292938\n",
       "18   14.17  34.613139\n",
       "19   16.64  56.872988\n",
       "20   22.80  56.872988\n",
       "21   73.35  42.033089\n",
       "22  145.17  64.292938\n",
       "23   11.95  49.453038\n",
       "24   40.17  42.033089\n",
       "25   62.40  64.292938\n",
       "26  100.92  64.292938\n",
       "27   61.61  64.292938\n",
       "28   69.48  49.453038\n",
       "29   25.32  64.292938"
      ]
     },
     "execution_count": 153,
     "metadata": {},
     "output_type": "execute_result"
    }
   ],
   "source": [
    "# Create a dataframe comparing the actual and predicted values of y.\n",
    "\n",
    "data = pd.DataFrame({'Actual': y_test.flatten(), 'Predicted': y_predicted.flatten()})\n",
    "data.head(30)"
   ]
  },
  {
   "cell_type": "markdown",
   "id": "29bb6dd0-89d6-4d4f-916f-9b2f56dfaabf",
   "metadata": {},
   "source": [
    "## Compare how well (or poorly) the regression fits the training set."
   ]
  },
  {
   "cell_type": "code",
   "execution_count": 154,
   "id": "d4732704-8f6d-4a5e-8a7e-fa9130c49a5c",
   "metadata": {
    "execution": {
     "iopub.execute_input": "2023-07-03T01:45:30.574151Z",
     "iopub.status.busy": "2023-07-03T01:45:30.573765Z",
     "iopub.status.idle": "2023-07-03T01:45:30.581719Z",
     "shell.execute_reply": "2023-07-03T01:45:30.580853Z",
     "shell.execute_reply.started": "2023-07-03T01:45:30.574123Z"
    },
    "tags": []
   },
   "outputs": [],
   "source": [
    "# Predict.\n",
    "\n",
    "y_predicted_train = regression.predict(X_train) # This is predicting X_train!"
   ]
  },
  {
   "cell_type": "code",
   "execution_count": 155,
   "id": "77452fd5-6a6e-424c-95bf-572804af6dfd",
   "metadata": {
    "execution": {
     "iopub.execute_input": "2023-07-03T01:45:30.582996Z",
     "iopub.status.busy": "2023-07-03T01:45:30.582797Z",
     "iopub.status.idle": "2023-07-03T01:45:30.591871Z",
     "shell.execute_reply": "2023-07-03T01:45:30.591163Z",
     "shell.execute_reply.started": "2023-07-03T01:45:30.582972Z"
    },
    "tags": []
   },
   "outputs": [],
   "source": [
    "rmse = mean_squared_error(y_train, y_predicted_train)\n",
    "r2 = r2_score(y_train, y_predicted_train)"
   ]
  },
  {
   "cell_type": "code",
   "execution_count": 156,
   "id": "f36e588d-6bde-4f47-8c76-3e090c65bad0",
   "metadata": {
    "execution": {
     "iopub.execute_input": "2023-07-03T01:45:30.593270Z",
     "iopub.status.busy": "2023-07-03T01:45:30.593079Z",
     "iopub.status.idle": "2023-07-03T01:45:30.599882Z",
     "shell.execute_reply": "2023-07-03T01:45:30.598849Z",
     "shell.execute_reply.started": "2023-07-03T01:45:30.593248Z"
    },
    "tags": []
   },
   "outputs": [
    {
     "name": "stdout",
     "output_type": "stream",
     "text": [
      "Slope: [[-7.41994959]]\n",
      "Mean squared error:  1175.3903170729302\n",
      "R2 score:  0.11986923187892895\n"
     ]
    }
   ],
   "source": [
    "print('Slope:' ,regression.coef_)\n",
    "print('Mean squared error: ', rmse)\n",
    "print('R2 score: ', r2)"
   ]
  },
  {
   "cell_type": "markdown",
   "id": "d1b478f7-6e6a-4cd8-8852-c74bf4439e7b",
   "metadata": {},
   "source": [
    "## The model also performs poorly here on the training set, with about the same performance as on the test set."
   ]
  },
  {
   "cell_type": "code",
   "execution_count": 157,
   "id": "f58b1e96-e937-4822-956c-de0a7234cece",
   "metadata": {
    "execution": {
     "iopub.execute_input": "2023-07-03T01:45:30.601305Z",
     "iopub.status.busy": "2023-07-03T01:45:30.600901Z",
     "iopub.status.idle": "2023-07-03T01:45:32.822185Z",
     "shell.execute_reply": "2023-07-03T01:45:32.821455Z",
     "shell.execute_reply.started": "2023-07-03T01:45:30.601279Z"
    },
    "tags": []
   },
   "outputs": [
    {
     "data": {
      "image/png": "[encoded data removed]",
      "text/plain": [
       "<Figure size 432x288 with 1 Axes>"
      ]
     },
     "metadata": {
      "needs_background": "light"
     },
     "output_type": "display_data"
    }
   ],
   "source": [
    "# Visualizing the training set results.\n",
    "\n",
    "plot_train = plt\n",
    "plot_train.scatter(X_train, y_train, color='green', s = 15)\n",
    "plot_train.plot(X_train, y_predicted_train, color='red', linewidth =3)\n",
    "plot_train.title('Airport Rainfall over Time (Train set)')\n",
    "plot_train.xlabel('Year')\n",
    "plot_train.ylabel('Per-Airport Annual Rainfall Total (in)')\n",
    "plot_train.savefig(os.path.join(path, '04-Analysis', 'Visualizations', 'task-6.4-LinearRegression-TrainSet-TIME.png'), facecolor='white', bbox_inches='tight')\n",
    "plot_train.show()"
   ]
  },
  {
   "cell_type": "code",
   "execution_count": 158,
   "id": "3c53c4c8-9d8d-4b62-8bf0-fd136afe5e63",
   "metadata": {
    "execution": {
     "iopub.execute_input": "2023-07-03T01:45:32.823388Z",
     "iopub.status.busy": "2023-07-03T01:45:32.823140Z",
     "iopub.status.idle": "2023-07-03T01:45:32.829688Z",
     "shell.execute_reply": "2023-07-03T01:45:32.828662Z",
     "shell.execute_reply.started": "2023-07-03T01:45:32.823354Z"
    },
    "tags": []
   },
   "outputs": [
    {
     "data": {
      "text/plain": [
       "(515813, 34)"
      ]
     },
     "execution_count": 158,
     "metadata": {},
     "output_type": "execute_result"
    }
   ],
   "source": [
    "df.shape"
   ]
  },
  {
   "cell_type": "code",
   "execution_count": 159,
   "id": "c50509be-9939-4ccb-ac96-a8044a2846ed",
   "metadata": {
    "execution": {
     "iopub.execute_input": "2023-07-03T01:45:32.832735Z",
     "iopub.status.busy": "2023-07-03T01:45:32.831470Z",
     "iopub.status.idle": "2023-07-03T01:45:32.837682Z",
     "shell.execute_reply": "2023-07-03T01:45:32.836489Z",
     "shell.execute_reply.started": "2023-07-03T01:45:32.832673Z"
    },
    "tags": []
   },
   "outputs": [],
   "source": [
    "# We've made no changes to our dataframe, so there is no need to save here.\n",
    "# The visualizations show us nothing we don't see in another notebook, either."
   ]
  }
 ],
 "metadata": {
  "kernelspec": {
   "display_name": "Python 3 (ipykernel)",
   "language": "python",
   "name": "python3"
  },
  "language_info": {
   "codemirror_mode": {
    "name": "ipython",
    "version": 3
   },
   "file_extension": ".py",
   "mimetype": "text/x-python",
   "name": "python",
   "nbconvert_exporter": "python",
   "pygments_lexer": "ipython3",
   "version": "3.9.12"
  }
 },
 "nbformat": 4,
 "nbformat_minor": 5
}
